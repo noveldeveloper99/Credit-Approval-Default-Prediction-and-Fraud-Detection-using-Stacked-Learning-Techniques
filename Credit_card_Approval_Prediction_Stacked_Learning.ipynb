{
 "cells": [
  {
   "cell_type": "markdown",
   "metadata": {},
   "source": [
    "# Credit Card Approval Prediction Using Stacked Ensemble Learning #"
   ]
  },
  {
   "cell_type": "markdown",
   "metadata": {},
   "source": [
    "## Preprocessing and Exploratory Data Analysis ##"
   ]
  },
  {
   "cell_type": "markdown",
   "metadata": {},
   "source": [
    "### Importing Packages ###"
   ]
  },
  {
   "cell_type": "code",
   "execution_count": 1,
   "metadata": {
    "execution": {
     "iopub.execute_input": "2022-04-19T04:59:08.815977Z",
     "iopub.status.busy": "2022-04-19T04:59:08.814574Z",
     "iopub.status.idle": "2022-04-19T04:59:24.630382Z",
     "shell.execute_reply": "2022-04-19T04:59:24.629248Z",
     "shell.execute_reply.started": "2022-04-19T04:59:08.815784Z"
    }
   },
   "outputs": [],
   "source": [
    "import pandas as pd\n",
    "import numpy as np\n",
    "from matplotlib import pyplot as plt\n",
    "import seaborn as sns\n",
    "sns.set()"
   ]
  },
  {
   "cell_type": "code",
   "execution_count": 2,
   "metadata": {},
   "outputs": [],
   "source": [
    "import warnings\n",
    "warnings.filterwarnings(\"ignore\")"
   ]
  },
  {
   "cell_type": "markdown",
   "metadata": {},
   "source": [
    "### Importing Data ##"
   ]
  },
  {
   "cell_type": "code",
   "execution_count": 5,
   "metadata": {
    "execution": {
     "iopub.execute_input": "2022-04-19T04:59:30.524491Z",
     "iopub.status.busy": "2022-04-19T04:59:30.52407Z",
     "iopub.status.idle": "2022-04-19T04:59:32.068878Z",
     "shell.execute_reply": "2022-04-19T04:59:32.067815Z",
     "shell.execute_reply.started": "2022-04-19T04:59:30.524407Z"
    }
   },
   "outputs": [],
   "source": [
    "application_details = pd.read_csv('C:/Users/abhin/Desktop/NCI 2022/DMML1/datasetsand project semester/Final Submission DMML/Credit card UC Datasets/Approval pred/application_record.csv')\n",
    "credit_record = pd.read_csv('C:/Users/abhin/Desktop/NCI 2022/DMML1/datasetsand project semester/Final Submission DMML/Credit card UC Datasets/Approval pred/credit_record.csv')"
   ]
  },
  {
   "cell_type": "markdown",
   "metadata": {},
   "source": [
    "### Data Summary ###"
   ]
  },
  {
   "cell_type": "code",
   "execution_count": 6,
   "metadata": {
    "execution": {
     "iopub.execute_input": "2022-04-19T04:59:35.416274Z",
     "iopub.status.busy": "2022-04-19T04:59:35.41563Z",
     "iopub.status.idle": "2022-04-19T04:59:35.805357Z",
     "shell.execute_reply": "2022-04-19T04:59:35.804084Z",
     "shell.execute_reply.started": "2022-04-19T04:59:35.416229Z"
    }
   },
   "outputs": [
    {
     "name": "stdout",
     "output_type": "stream",
     "text": [
      "<class 'pandas.core.frame.DataFrame'>\n",
      "RangeIndex: 438557 entries, 0 to 438556\n",
      "Data columns (total 18 columns):\n",
      " #   Column               Non-Null Count   Dtype  \n",
      "---  ------               --------------   -----  \n",
      " 0   ID                   438557 non-null  int64  \n",
      " 1   CODE_GENDER          438557 non-null  object \n",
      " 2   FLAG_OWN_CAR         438557 non-null  object \n",
      " 3   FLAG_OWN_REALTY      438557 non-null  object \n",
      " 4   CNT_CHILDREN         438557 non-null  int64  \n",
      " 5   AMT_INCOME_TOTAL     438557 non-null  float64\n",
      " 6   NAME_INCOME_TYPE     438557 non-null  object \n",
      " 7   NAME_EDUCATION_TYPE  438557 non-null  object \n",
      " 8   NAME_FAMILY_STATUS   438557 non-null  object \n",
      " 9   NAME_HOUSING_TYPE    438557 non-null  object \n",
      " 10  DAYS_BIRTH           438557 non-null  int64  \n",
      " 11  DAYS_EMPLOYED        438557 non-null  int64  \n",
      " 12  FLAG_MOBIL           438557 non-null  int64  \n",
      " 13  FLAG_WORK_PHONE      438557 non-null  int64  \n",
      " 14  FLAG_PHONE           438557 non-null  int64  \n",
      " 15  FLAG_EMAIL           438557 non-null  int64  \n",
      " 16  OCCUPATION_TYPE      304354 non-null  object \n",
      " 17  CNT_FAM_MEMBERS      438557 non-null  float64\n",
      "dtypes: float64(2), int64(8), object(8)\n",
      "memory usage: 60.2+ MB\n"
     ]
    }
   ],
   "source": [
    "application_details.info()"
   ]
  },
  {
   "cell_type": "code",
   "execution_count": 12,
   "metadata": {
    "execution": {
     "iopub.execute_input": "2022-04-19T04:59:36.654949Z",
     "iopub.status.busy": "2022-04-19T04:59:36.654416Z",
     "iopub.status.idle": "2022-04-19T04:59:36.839013Z",
     "shell.execute_reply": "2022-04-19T04:59:36.838002Z",
     "shell.execute_reply.started": "2022-04-19T04:59:36.654911Z"
    }
   },
   "outputs": [
    {
     "data": {
      "text/html": [
       "<div>\n",
       "<style scoped>\n",
       "    .dataframe tbody tr th:only-of-type {\n",
       "        vertical-align: middle;\n",
       "    }\n",
       "\n",
       "    .dataframe tbody tr th {\n",
       "        vertical-align: top;\n",
       "    }\n",
       "\n",
       "    .dataframe thead th {\n",
       "        text-align: right;\n",
       "    }\n",
       "</style>\n",
       "<table border=\"1\" class=\"dataframe\">\n",
       "  <thead>\n",
       "    <tr style=\"text-align: right;\">\n",
       "      <th></th>\n",
       "      <th>count</th>\n",
       "      <th>mean</th>\n",
       "      <th>std</th>\n",
       "      <th>min</th>\n",
       "      <th>25%</th>\n",
       "      <th>50%</th>\n",
       "      <th>75%</th>\n",
       "      <th>max</th>\n",
       "    </tr>\n",
       "  </thead>\n",
       "  <tbody>\n",
       "    <tr>\n",
       "      <th>ID</th>\n",
       "      <td>438557.0</td>\n",
       "      <td>6.022176e+06</td>\n",
       "      <td>571637.023257</td>\n",
       "      <td>5008804.0</td>\n",
       "      <td>5609375.0</td>\n",
       "      <td>6047745.0</td>\n",
       "      <td>6456971.0</td>\n",
       "      <td>7999952.0</td>\n",
       "    </tr>\n",
       "    <tr>\n",
       "      <th>CNT_CHILDREN</th>\n",
       "      <td>438557.0</td>\n",
       "      <td>4.273903e-01</td>\n",
       "      <td>0.724882</td>\n",
       "      <td>0.0</td>\n",
       "      <td>0.0</td>\n",
       "      <td>0.0</td>\n",
       "      <td>1.0</td>\n",
       "      <td>19.0</td>\n",
       "    </tr>\n",
       "    <tr>\n",
       "      <th>AMT_INCOME_TOTAL</th>\n",
       "      <td>438557.0</td>\n",
       "      <td>1.875243e+05</td>\n",
       "      <td>110086.853066</td>\n",
       "      <td>26100.0</td>\n",
       "      <td>121500.0</td>\n",
       "      <td>160780.5</td>\n",
       "      <td>225000.0</td>\n",
       "      <td>6750000.0</td>\n",
       "    </tr>\n",
       "    <tr>\n",
       "      <th>DAYS_BIRTH</th>\n",
       "      <td>438557.0</td>\n",
       "      <td>-1.599790e+04</td>\n",
       "      <td>4185.030007</td>\n",
       "      <td>-25201.0</td>\n",
       "      <td>-19483.0</td>\n",
       "      <td>-15630.0</td>\n",
       "      <td>-12514.0</td>\n",
       "      <td>-7489.0</td>\n",
       "    </tr>\n",
       "    <tr>\n",
       "      <th>DAYS_EMPLOYED</th>\n",
       "      <td>438557.0</td>\n",
       "      <td>6.056368e+04</td>\n",
       "      <td>138767.799647</td>\n",
       "      <td>-17531.0</td>\n",
       "      <td>-3103.0</td>\n",
       "      <td>-1467.0</td>\n",
       "      <td>-371.0</td>\n",
       "      <td>365243.0</td>\n",
       "    </tr>\n",
       "    <tr>\n",
       "      <th>FLAG_MOBIL</th>\n",
       "      <td>438557.0</td>\n",
       "      <td>1.000000e+00</td>\n",
       "      <td>0.000000</td>\n",
       "      <td>1.0</td>\n",
       "      <td>1.0</td>\n",
       "      <td>1.0</td>\n",
       "      <td>1.0</td>\n",
       "      <td>1.0</td>\n",
       "    </tr>\n",
       "    <tr>\n",
       "      <th>FLAG_WORK_PHONE</th>\n",
       "      <td>438557.0</td>\n",
       "      <td>2.061328e-01</td>\n",
       "      <td>0.404527</td>\n",
       "      <td>0.0</td>\n",
       "      <td>0.0</td>\n",
       "      <td>0.0</td>\n",
       "      <td>0.0</td>\n",
       "      <td>1.0</td>\n",
       "    </tr>\n",
       "    <tr>\n",
       "      <th>FLAG_PHONE</th>\n",
       "      <td>438557.0</td>\n",
       "      <td>2.877710e-01</td>\n",
       "      <td>0.452724</td>\n",
       "      <td>0.0</td>\n",
       "      <td>0.0</td>\n",
       "      <td>0.0</td>\n",
       "      <td>1.0</td>\n",
       "      <td>1.0</td>\n",
       "    </tr>\n",
       "    <tr>\n",
       "      <th>FLAG_EMAIL</th>\n",
       "      <td>438557.0</td>\n",
       "      <td>1.082071e-01</td>\n",
       "      <td>0.310642</td>\n",
       "      <td>0.0</td>\n",
       "      <td>0.0</td>\n",
       "      <td>0.0</td>\n",
       "      <td>0.0</td>\n",
       "      <td>1.0</td>\n",
       "    </tr>\n",
       "    <tr>\n",
       "      <th>CNT_FAM_MEMBERS</th>\n",
       "      <td>438557.0</td>\n",
       "      <td>2.194465e+00</td>\n",
       "      <td>0.897207</td>\n",
       "      <td>1.0</td>\n",
       "      <td>2.0</td>\n",
       "      <td>2.0</td>\n",
       "      <td>3.0</td>\n",
       "      <td>20.0</td>\n",
       "    </tr>\n",
       "  </tbody>\n",
       "</table>\n",
       "</div>"
      ],
      "text/plain": [
       "                     count          mean            std        min        25%  \\\n",
       "ID                438557.0  6.022176e+06  571637.023257  5008804.0  5609375.0   \n",
       "CNT_CHILDREN      438557.0  4.273903e-01       0.724882        0.0        0.0   \n",
       "AMT_INCOME_TOTAL  438557.0  1.875243e+05  110086.853066    26100.0   121500.0   \n",
       "DAYS_BIRTH        438557.0 -1.599790e+04    4185.030007   -25201.0   -19483.0   \n",
       "DAYS_EMPLOYED     438557.0  6.056368e+04  138767.799647   -17531.0    -3103.0   \n",
       "FLAG_MOBIL        438557.0  1.000000e+00       0.000000        1.0        1.0   \n",
       "FLAG_WORK_PHONE   438557.0  2.061328e-01       0.404527        0.0        0.0   \n",
       "FLAG_PHONE        438557.0  2.877710e-01       0.452724        0.0        0.0   \n",
       "FLAG_EMAIL        438557.0  1.082071e-01       0.310642        0.0        0.0   \n",
       "CNT_FAM_MEMBERS   438557.0  2.194465e+00       0.897207        1.0        2.0   \n",
       "\n",
       "                        50%        75%        max  \n",
       "ID                6047745.0  6456971.0  7999952.0  \n",
       "CNT_CHILDREN            0.0        1.0       19.0  \n",
       "AMT_INCOME_TOTAL   160780.5   225000.0  6750000.0  \n",
       "DAYS_BIRTH         -15630.0   -12514.0    -7489.0  \n",
       "DAYS_EMPLOYED       -1467.0     -371.0   365243.0  \n",
       "FLAG_MOBIL              1.0        1.0        1.0  \n",
       "FLAG_WORK_PHONE         0.0        0.0        1.0  \n",
       "FLAG_PHONE              0.0        1.0        1.0  \n",
       "FLAG_EMAIL              0.0        0.0        1.0  \n",
       "CNT_FAM_MEMBERS         2.0        3.0       20.0  "
      ]
     },
     "execution_count": 12,
     "metadata": {},
     "output_type": "execute_result"
    }
   ],
   "source": [
    "application_details.describe().T"
   ]
  },
  {
   "cell_type": "code",
   "execution_count": 13,
   "metadata": {
    "execution": {
     "iopub.execute_input": "2022-04-19T04:59:37.79678Z",
     "iopub.status.busy": "2022-04-19T04:59:37.796414Z",
     "iopub.status.idle": "2022-04-19T04:59:37.925298Z",
     "shell.execute_reply": "2022-04-19T04:59:37.924324Z",
     "shell.execute_reply.started": "2022-04-19T04:59:37.796744Z"
    }
   },
   "outputs": [
    {
     "name": "stdout",
     "output_type": "stream",
     "text": [
      "<class 'pandas.core.frame.DataFrame'>\n",
      "RangeIndex: 1048575 entries, 0 to 1048574\n",
      "Data columns (total 3 columns):\n",
      " #   Column          Non-Null Count    Dtype \n",
      "---  ------          --------------    ----- \n",
      " 0   ID              1048575 non-null  int64 \n",
      " 1   MONTHS_BALANCE  1048575 non-null  int64 \n",
      " 2   STATUS          1048575 non-null  object\n",
      "dtypes: int64(2), object(1)\n",
      "memory usage: 24.0+ MB\n"
     ]
    }
   ],
   "source": [
    "credit_record.info()"
   ]
  },
  {
   "cell_type": "code",
   "execution_count": 14,
   "metadata": {
    "execution": {
     "iopub.execute_input": "2022-04-19T04:59:38.858001Z",
     "iopub.status.busy": "2022-04-19T04:59:38.857303Z",
     "iopub.status.idle": "2022-04-19T04:59:38.941321Z",
     "shell.execute_reply": "2022-04-19T04:59:38.940305Z",
     "shell.execute_reply.started": "2022-04-19T04:59:38.857948Z"
    }
   },
   "outputs": [
    {
     "data": {
      "text/html": [
       "<div>\n",
       "<style scoped>\n",
       "    .dataframe tbody tr th:only-of-type {\n",
       "        vertical-align: middle;\n",
       "    }\n",
       "\n",
       "    .dataframe tbody tr th {\n",
       "        vertical-align: top;\n",
       "    }\n",
       "\n",
       "    .dataframe thead th {\n",
       "        text-align: right;\n",
       "    }\n",
       "</style>\n",
       "<table border=\"1\" class=\"dataframe\">\n",
       "  <thead>\n",
       "    <tr style=\"text-align: right;\">\n",
       "      <th></th>\n",
       "      <th>count</th>\n",
       "      <th>mean</th>\n",
       "      <th>std</th>\n",
       "      <th>min</th>\n",
       "      <th>25%</th>\n",
       "      <th>50%</th>\n",
       "      <th>75%</th>\n",
       "      <th>max</th>\n",
       "    </tr>\n",
       "  </thead>\n",
       "  <tbody>\n",
       "    <tr>\n",
       "      <th>ID</th>\n",
       "      <td>1048575.0</td>\n",
       "      <td>5.068286e+06</td>\n",
       "      <td>46150.578505</td>\n",
       "      <td>5001711.0</td>\n",
       "      <td>5023644.0</td>\n",
       "      <td>5062104.0</td>\n",
       "      <td>5113856.0</td>\n",
       "      <td>5150487.0</td>\n",
       "    </tr>\n",
       "    <tr>\n",
       "      <th>MONTHS_BALANCE</th>\n",
       "      <td>1048575.0</td>\n",
       "      <td>-1.913700e+01</td>\n",
       "      <td>14.023498</td>\n",
       "      <td>-60.0</td>\n",
       "      <td>-29.0</td>\n",
       "      <td>-17.0</td>\n",
       "      <td>-7.0</td>\n",
       "      <td>0.0</td>\n",
       "    </tr>\n",
       "  </tbody>\n",
       "</table>\n",
       "</div>"
      ],
      "text/plain": [
       "                    count          mean           std        min        25%  \\\n",
       "ID              1048575.0  5.068286e+06  46150.578505  5001711.0  5023644.0   \n",
       "MONTHS_BALANCE  1048575.0 -1.913700e+01     14.023498      -60.0      -29.0   \n",
       "\n",
       "                      50%        75%        max  \n",
       "ID              5062104.0  5113856.0  5150487.0  \n",
       "MONTHS_BALANCE      -17.0       -7.0        0.0  "
      ]
     },
     "execution_count": 14,
     "metadata": {},
     "output_type": "execute_result"
    }
   ],
   "source": [
    "credit_record.describe().T"
   ]
  },
  {
   "cell_type": "markdown",
   "metadata": {},
   "source": [
    "### Checking Skewness ###"
   ]
  },
  {
   "cell_type": "code",
   "execution_count": 15,
   "metadata": {
    "execution": {
     "iopub.execute_input": "2022-04-19T04:59:42.434591Z",
     "iopub.status.busy": "2022-04-19T04:59:42.434185Z",
     "iopub.status.idle": "2022-04-19T04:59:42.884871Z",
     "shell.execute_reply": "2022-04-19T04:59:42.883871Z",
     "shell.execute_reply.started": "2022-04-19T04:59:42.434541Z"
    }
   },
   "outputs": [
    {
     "data": {
      "text/plain": [
       "ID                  0.212718\n",
       "CNT_CHILDREN        1.806941\n",
       "AMT_INCOME_TOTAL    8.834066\n",
       "DAYS_BIRTH         -0.160181\n",
       "DAYS_EMPLOYED       1.739495\n",
       "FLAG_MOBIL          0.000000\n",
       "FLAG_WORK_PHONE     1.452898\n",
       "FLAG_PHONE          0.937568\n",
       "FLAG_EMAIL          2.522482\n",
       "CNT_FAM_MEMBERS     0.919676\n",
       "dtype: float64"
      ]
     },
     "execution_count": 15,
     "metadata": {},
     "output_type": "execute_result"
    }
   ],
   "source": [
    "application_details.skew()"
   ]
  },
  {
   "cell_type": "code",
   "execution_count": 16,
   "metadata": {
    "execution": {
     "iopub.execute_input": "2022-04-19T04:59:43.788255Z",
     "iopub.status.busy": "2022-04-19T04:59:43.787924Z",
     "iopub.status.idle": "2022-04-19T04:59:43.941378Z",
     "shell.execute_reply": "2022-04-19T04:59:43.940503Z",
     "shell.execute_reply.started": "2022-04-19T04:59:43.788225Z"
    }
   },
   "outputs": [
    {
     "data": {
      "text/plain": [
       "ID                0.163081\n",
       "MONTHS_BALANCE   -0.620084\n",
       "dtype: float64"
      ]
     },
     "execution_count": 16,
     "metadata": {},
     "output_type": "execute_result"
    }
   ],
   "source": [
    "credit_record.skew()"
   ]
  },
  {
   "cell_type": "markdown",
   "metadata": {},
   "source": [
    "### Count Plot of Categorical Features: application_details ##"
   ]
  },
  {
   "cell_type": "code",
   "execution_count": 17,
   "metadata": {
    "execution": {
     "iopub.execute_input": "2022-04-19T04:59:46.693811Z",
     "iopub.status.busy": "2022-04-19T04:59:46.693393Z",
     "iopub.status.idle": "2022-04-19T04:59:46.704078Z",
     "shell.execute_reply": "2022-04-19T04:59:46.70294Z",
     "shell.execute_reply.started": "2022-04-19T04:59:46.693771Z"
    }
   },
   "outputs": [],
   "source": [
    "def countplot_applicants(features):\n",
    "    for feature in features:\n",
    "        plt.figure(figsize=(9, 9))\n",
    "        ax=sns.countplot(y=application_details[feature], hue='CODE_GENDER' , data=application_details)\n",
    "        plt.legend(loc='best')\n",
    "        total = len(application_details[feature])\n",
    "        for p in ax.patches:\n",
    "            percentage = '{:.1f}%'.format(100 * p.get_width()/total)\n",
    "            x = p.get_x() + p.get_width() + 0.02\n",
    "            y = p.get_y() + p.get_height()/2\n",
    "            ax.annotate(percentage, (x, y))\n",
    "    plt.show()"
   ]
  },
  {
   "cell_type": "code",
   "execution_count": 18,
   "metadata": {
    "execution": {
     "iopub.execute_input": "2022-04-19T04:59:48.179854Z",
     "iopub.status.busy": "2022-04-19T04:59:48.179498Z",
     "iopub.status.idle": "2022-04-19T04:59:59.979364Z",
     "shell.execute_reply": "2022-04-19T04:59:59.978546Z",
     "shell.execute_reply.started": "2022-04-19T04:59:48.17982Z"
    },
    "scrolled": true
   },
   "outputs": [
    {
     "data": {
      "image/png": "[encoded data removed]",
      "text/plain": [
       "<Figure size 648x648 with 1 Axes>"
      ]
     },
     "metadata": {},
     "output_type": "display_data"
    },
    {
     "data": {
      "image/png": "[encoded data removed]",
      "text/plain": [
       "<Figure size 648x648 with 1 Axes>"
      ]
     },
     "metadata": {},
     "output_type": "display_data"
    },
    {
     "data": {
      "image/png": "[encoded data removed]",
      "text/plain": [
       "<Figure size 648x648 with 1 Axes>"
      ]
     },
     "metadata": {},
     "output_type": "display_data"
    },
    {
     "data": {
      "image/png": "[encoded data removed]",
      "text/plain": [
       "<Figure size 648x648 with 1 Axes>"
      ]
     },
     "metadata": {},
     "output_type": "display_data"
    },
    {
     "data": {
      "image/png": "[encoded data removed]",
      "text/plain": [
       "<Figure size 648x648 with 1 Axes>"
      ]
     },
     "metadata": {},
     "output_type": "display_data"
    },
    {
     "data": {
      "image/png": "[encoded data removed]",
      "text/plain": [
       "<Figure size 648x648 with 1 Axes>"
      ]
     },
     "metadata": {},
     "output_type": "display_data"
    },
    {
     "data": {
      "image/png": "[encoded data removed]",
      "text/plain": [
       "<Figure size 648x648 with 1 Axes>"
      ]
     },
     "metadata": {},
     "output_type": "display_data"
    },
    {
     "data": {
      "image/png": "[encoded data removed]",
      "text/plain": [
       "<Figure size 648x648 with 1 Axes>"
      ]
     },
     "metadata": {},
     "output_type": "display_data"
    }
   ],
   "source": [
    "countplot_applicants(['CODE_GENDER', 'FLAG_OWN_CAR', 'FLAG_OWN_REALTY', 'NAME_INCOME_TYPE', 'NAME_EDUCATION_TYPE', 'NAME_FAMILY_STATUS', 'NAME_HOUSING_TYPE', 'OCCUPATION_TYPE'])\n",
    "\n",
    "  "
   ]
  },
  {
   "cell_type": "markdown",
   "metadata": {},
   "source": [
    "### Count Plot of Categorical Features: credit_Record ##"
   ]
  },
  {
   "cell_type": "code",
   "execution_count": 19,
   "metadata": {
    "execution": {
     "iopub.execute_input": "2022-04-19T05:00:03.311101Z",
     "iopub.status.busy": "2022-04-19T05:00:03.310746Z",
     "iopub.status.idle": "2022-04-19T05:00:03.318998Z",
     "shell.execute_reply": "2022-04-19T05:00:03.318158Z",
     "shell.execute_reply.started": "2022-04-19T05:00:03.311067Z"
    }
   },
   "outputs": [],
   "source": [
    "def countplot_credit(features):\n",
    "    for feature in features:\n",
    "        plt.figure(figsize=(9, 9))\n",
    "        ax=sns.countplot(y=credit_record[feature], data=credit_record)\n",
    "        total = len(credit_record[feature])\n",
    "        for p in ax.patches:\n",
    "            percentage = '{:.1f}%'.format(100 * p.get_width()/total)\n",
    "            x = p.get_x() + p.get_width() + 0.02\n",
    "            y = p.get_y() + p.get_height()/2\n",
    "            ax.annotate(percentage, (x, y))\n",
    "    plt.show()"
   ]
  },
  {
   "cell_type": "code",
   "execution_count": 20,
   "metadata": {
    "execution": {
     "iopub.execute_input": "2022-04-19T05:00:04.949289Z",
     "iopub.status.busy": "2022-04-19T05:00:04.948811Z",
     "iopub.status.idle": "2022-04-19T05:00:07.066112Z",
     "shell.execute_reply": "2022-04-19T05:00:07.065321Z",
     "shell.execute_reply.started": "2022-04-19T05:00:04.949256Z"
    }
   },
   "outputs": [
    {
     "data": {
      "image/png": "[encoded data removed]",
      "text/plain": [
       "<Figure size 648x648 with 1 Axes>"
      ]
     },
     "metadata": {},
     "output_type": "display_data"
    }
   ],
   "source": [
    "countplot_credit(['STATUS'])"
   ]
  },
  {
   "cell_type": "markdown",
   "metadata": {},
   "source": [
    "### Insights from the CountPlot Analysis: credit_record ###\n",
    "\n",
    "C: loan for that month is already paid\n",
    "X: no loan for that month\n",
    "0: loan is 1 to 29 days overdue\n",
    "1: loan is 30 to 59 days overdue\n",
    "2: loan is 60 to 89 days overdue\n",
    "3:loan is 90 to 119 days overdue\n",
    "4: loan is 120 to 149 days overdue\n",
    "5: loan is more than 150 days overdue\n",
    "\n",
    "a. 20% of applicatnts does'nt have loan of the current month.\n",
    "b. 36.5% of applicants have overdue for 1-29 days.\n",
    "c. 42.2% of applicants already paid current month loan.\n",
    "d. 1.1% of applicants have overdue for 30-59 days.\n",
    "e. 0.1% of applicants have overdue for 60-89 days.\n",
    "f. 0% of applicants have overdue for 90-119 days.\n",
    "g. 0% of applicants have overdue for 120-149 days.\n",
    "h. 0.2% of applicants have overdue for 150 days."
   ]
  },
  {
   "cell_type": "markdown",
   "metadata": {},
   "source": [
    "## Feature Engineering #"
   ]
  },
  {
   "cell_type": "markdown",
   "metadata": {},
   "source": [
    "### Finding Missing Values: application_details ##"
   ]
  },
  {
   "cell_type": "code",
   "execution_count": 21,
   "metadata": {
    "execution": {
     "iopub.execute_input": "2022-04-19T05:00:13.05388Z",
     "iopub.status.busy": "2022-04-19T05:00:13.053314Z",
     "iopub.status.idle": "2022-04-19T05:00:13.456368Z",
     "shell.execute_reply": "2022-04-19T05:00:13.455217Z",
     "shell.execute_reply.started": "2022-04-19T05:00:13.053843Z"
    }
   },
   "outputs": [
    {
     "data": {
      "text/plain": [
       "ID                          0\n",
       "CODE_GENDER                 0\n",
       "FLAG_OWN_CAR                0\n",
       "FLAG_OWN_REALTY             0\n",
       "CNT_CHILDREN                0\n",
       "AMT_INCOME_TOTAL            0\n",
       "NAME_INCOME_TYPE            0\n",
       "NAME_EDUCATION_TYPE         0\n",
       "NAME_FAMILY_STATUS          0\n",
       "NAME_HOUSING_TYPE           0\n",
       "DAYS_BIRTH                  0\n",
       "DAYS_EMPLOYED               0\n",
       "FLAG_MOBIL                  0\n",
       "FLAG_WORK_PHONE             0\n",
       "FLAG_PHONE                  0\n",
       "FLAG_EMAIL                  0\n",
       "OCCUPATION_TYPE        134203\n",
       "CNT_FAM_MEMBERS             0\n",
       "dtype: int64"
      ]
     },
     "execution_count": 21,
     "metadata": {},
     "output_type": "execute_result"
    }
   ],
   "source": [
    "application_details.isnull().sum()"
   ]
  },
  {
   "cell_type": "raw",
   "metadata": {},
   "source": [
    "There are 134203 missing occupations in application_details DataFrame. We can't remove these lables, instead of doing that I'll try to fill occupation details based on the insights from countplot of categorical features.\n",
    "\n",
    "We found that,\n",
    "majority jobs for male applicants are :- labours, and drivers\n",
    "majority jobs for female applicants are :- sales staff, and labours"
   ]
  },
  {
   "cell_type": "markdown",
   "metadata": {},
   "source": [
    "### CountPlot analysis occupation in terms of education ### "
   ]
  },
  {
   "cell_type": "code",
   "execution_count": 22,
   "metadata": {
    "execution": {
     "iopub.execute_input": "2022-04-19T05:00:17.273226Z",
     "iopub.status.busy": "2022-04-19T05:00:17.272845Z",
     "iopub.status.idle": "2022-04-19T05:00:17.281623Z",
     "shell.execute_reply": "2022-04-19T05:00:17.28084Z",
     "shell.execute_reply.started": "2022-04-19T05:00:17.273186Z"
    }
   },
   "outputs": [],
   "source": [
    "def countplot_occupation(features):\n",
    "    for feature in features:\n",
    "        plt.figure(figsize=(25,25))\n",
    "        ax=sns.countplot(y=application_details[feature], hue='NAME_EDUCATION_TYPE' , data=application_details)\n",
    "        plt.legend(loc='best')\n",
    "        total = len(application_details[feature])\n",
    "        for p in ax.patches:\n",
    "            percentage = '{:.1f}%'.format(100 * p.get_width()/total)\n",
    "            x = p.get_x() + p.get_width() + 0.02\n",
    "            y = p.get_y() + p.get_height()/2\n",
    "            ax.annotate(percentage, (x, y))\n",
    "    plt.show()"
   ]
  },
  {
   "cell_type": "code",
   "execution_count": 23,
   "metadata": {
    "execution": {
     "iopub.execute_input": "2022-04-19T05:00:19.374425Z",
     "iopub.status.busy": "2022-04-19T05:00:19.373494Z",
     "iopub.status.idle": "2022-04-19T05:00:21.820235Z",
     "shell.execute_reply": "2022-04-19T05:00:21.819026Z",
     "shell.execute_reply.started": "2022-04-19T05:00:19.374367Z"
    },
    "scrolled": true
   },
   "outputs": [
    {
     "data": {
      "image/png": "[encoded data removed]",
      "text/plain": [
       "<Figure size 1800x1800 with 1 Axes>"
      ]
     },
     "metadata": {},
     "output_type": "display_data"
    }
   ],
   "source": [
    "countplot_occupation(['OCCUPATION_TYPE'])"
   ]
  },
  {
   "cell_type": "code",
   "execution_count": 24,
   "metadata": {
    "execution": {
     "iopub.execute_input": "2022-04-19T05:00:22.956797Z",
     "iopub.status.busy": "2022-04-19T05:00:22.955849Z",
     "iopub.status.idle": "2022-04-19T05:00:22.966062Z",
     "shell.execute_reply": "2022-04-19T05:00:22.96519Z",
     "shell.execute_reply.started": "2022-04-19T05:00:22.956752Z"
    }
   },
   "outputs": [],
   "source": [
    "def occupation_by_education_by_gender(occupations, educations, genders, length):\n",
    "    Gender = []\n",
    "    Education = []\n",
    "    Occupation = []\n",
    "    Percentage = []\n",
    "    for gender in genders:\n",
    "        for education in educations:\n",
    "            for occupation in occupations:\n",
    "                Gender.append(gender)\n",
    "                Education.append(education)\n",
    "                Occupation.append(occupation)\n",
    "                temp_df_1=application_details.loc[application_details['OCCUPATION_TYPE'] == occupation]\n",
    "                temp_df_2=temp_df_1.loc[temp_df_1['CODE_GENDER'] == gender]\n",
    "                temp_df_3=temp_df_2.loc[temp_df_2['NAME_EDUCATION_TYPE'] == education]\n",
    "                length_filter = len(temp_df_3)\n",
    "                Percentage.append(length_filter/length)\n",
    "    percent_dict={\n",
    "        'Gender': Gender,\n",
    "        'Education': Education,\n",
    "        'Occupation': Occupation,\n",
    "        'Popularity Percentage': Percentage\n",
    "    }\n",
    "    df = pd.DataFrame(percent_dict)\n",
    "    df.to_excel('Occupation_popularity_index.xlsx', index=False)\n",
    "                \n",
    "                \n",
    "        \n",
    "\n",
    "occupation_by_education_by_gender(list(application_details['OCCUPATION_TYPE'].unique()), list(application_details['NAME_EDUCATION_TYPE'].unique()), list(application_details['CODE_GENDER'].unique()), len(application_details))\n",
    "\n",
    "occupation_popularity = pd.read_excel('Occupation_popularity_index.xlsx')"
   ]
  },
  {
   "cell_type": "code",
   "execution_count": 25,
   "metadata": {
    "execution": {
     "iopub.execute_input": "2022-04-19T05:00:22.956797Z",
     "iopub.status.busy": "2022-04-19T05:00:22.955849Z",
     "iopub.status.idle": "2022-04-19T05:00:22.966062Z",
     "shell.execute_reply": "2022-04-19T05:00:22.96519Z",
     "shell.execute_reply.started": "2022-04-19T05:00:22.956752Z"
    }
   },
   "outputs": [
    {
     "data": {
      "text/html": [
       "<div>\n",
       "<style scoped>\n",
       "    .dataframe tbody tr th:only-of-type {\n",
       "        vertical-align: middle;\n",
       "    }\n",
       "\n",
       "    .dataframe tbody tr th {\n",
       "        vertical-align: top;\n",
       "    }\n",
       "\n",
       "    .dataframe thead th {\n",
       "        text-align: right;\n",
       "    }\n",
       "</style>\n",
       "<table border=\"1\" class=\"dataframe\">\n",
       "  <thead>\n",
       "    <tr style=\"text-align: right;\">\n",
       "      <th></th>\n",
       "      <th>Gender</th>\n",
       "      <th>Education</th>\n",
       "      <th>Occupation</th>\n",
       "      <th>Popularity Percentage</th>\n",
       "    </tr>\n",
       "  </thead>\n",
       "  <tbody>\n",
       "    <tr>\n",
       "      <th>0</th>\n",
       "      <td>M</td>\n",
       "      <td>Higher education</td>\n",
       "      <td>NaN</td>\n",
       "      <td>0.000000</td>\n",
       "    </tr>\n",
       "    <tr>\n",
       "      <th>1</th>\n",
       "      <td>M</td>\n",
       "      <td>Higher education</td>\n",
       "      <td>Security staff</td>\n",
       "      <td>0.001751</td>\n",
       "    </tr>\n",
       "    <tr>\n",
       "      <th>2</th>\n",
       "      <td>M</td>\n",
       "      <td>Higher education</td>\n",
       "      <td>Sales staff</td>\n",
       "      <td>0.004068</td>\n",
       "    </tr>\n",
       "    <tr>\n",
       "      <th>3</th>\n",
       "      <td>M</td>\n",
       "      <td>Higher education</td>\n",
       "      <td>Accountants</td>\n",
       "      <td>0.000869</td>\n",
       "    </tr>\n",
       "    <tr>\n",
       "      <th>4</th>\n",
       "      <td>M</td>\n",
       "      <td>Higher education</td>\n",
       "      <td>Laborers</td>\n",
       "      <td>0.013955</td>\n",
       "    </tr>\n",
       "  </tbody>\n",
       "</table>\n",
       "</div>"
      ],
      "text/plain": [
       "  Gender         Education      Occupation  Popularity Percentage\n",
       "0      M  Higher education             NaN               0.000000\n",
       "1      M  Higher education  Security staff               0.001751\n",
       "2      M  Higher education     Sales staff               0.004068\n",
       "3      M  Higher education     Accountants               0.000869\n",
       "4      M  Higher education        Laborers               0.013955"
      ]
     },
     "execution_count": 25,
     "metadata": {},
     "output_type": "execute_result"
    }
   ],
   "source": [
    "occupation_popularity.head()"
   ]
  },
  {
   "cell_type": "markdown",
   "metadata": {
    "tags": []
   },
   "source": [
    "### Replacing blank 'OCCUPATION_TYPE' with most popular occupation ###"
   ]
  },
  {
   "cell_type": "code",
   "execution_count": 26,
   "metadata": {
    "execution": {
     "iopub.execute_input": "2022-04-19T05:01:00.339762Z",
     "iopub.status.busy": "2022-04-19T05:01:00.33933Z",
     "iopub.status.idle": "2022-04-19T05:01:00.349112Z",
     "shell.execute_reply": "2022-04-19T05:01:00.34759Z",
     "shell.execute_reply.started": "2022-04-19T05:01:00.339715Z"
    }
   },
   "outputs": [],
   "source": [
    "occupation_popularity['Tag'] = occupation_popularity['Gender']+ '_' + occupation_popularity['Education']"
   ]
  },
  {
   "cell_type": "markdown",
   "metadata": {},
   "source": [
    "### Creating 'Tag' vs. popularity dictionary"
   ]
  },
  {
   "cell_type": "code",
   "execution_count": 27,
   "metadata": {
    "execution": {
     "iopub.execute_input": "2022-04-19T05:01:03.523363Z",
     "iopub.status.busy": "2022-04-19T05:01:03.522444Z",
     "iopub.status.idle": "2022-04-19T05:01:03.531747Z",
     "shell.execute_reply": "2022-04-19T05:01:03.530537Z",
     "shell.execute_reply.started": "2022-04-19T05:01:03.523302Z"
    }
   },
   "outputs": [],
   "source": [
    "def Dict(data):\n",
    "    tag_list=list(data['Tag'].unique())\n",
    "    popular_occupation = []\n",
    "    data_grouped = data.groupby('Tag')\n",
    "    for tag in tag_list:\n",
    "        grouped_data = data_grouped.get_group(tag)\n",
    "        popular_occupation.append(grouped_data.loc[grouped_data['Popularity Percentage'] == max(list(grouped_data['Popularity Percentage']))]['Occupation'].tolist()[0])\n",
    "    Tag_dict={\n",
    "        'Tag': tag_list,\n",
    "        'Occupation': popular_occupation\n",
    "    }\n",
    "    return Tag_dict\n",
    "\n",
    "dict_df = Dict(occupation_popularity)\n",
    "\n",
    "pd.DataFrame(dict_df).to_excel('Tag_vs_Occupation.xlsx', index=False)\n",
    "\n",
    "tag_data = pd.read_excel('Tag_vs_Occupation.xlsx')"
   ]
  },
  {
   "cell_type": "code",
   "execution_count": 28,
   "metadata": {
    "execution": {
     "iopub.execute_input": "2022-04-19T05:01:19.221578Z",
     "iopub.status.busy": "2022-04-19T05:01:19.221005Z",
     "iopub.status.idle": "2022-04-19T05:01:19.234969Z",
     "shell.execute_reply": "2022-04-19T05:01:19.233967Z",
     "shell.execute_reply.started": "2022-04-19T05:01:19.221538Z"
    }
   },
   "outputs": [
    {
     "data": {
      "text/html": [
       "<div>\n",
       "<style scoped>\n",
       "    .dataframe tbody tr th:only-of-type {\n",
       "        vertical-align: middle;\n",
       "    }\n",
       "\n",
       "    .dataframe tbody tr th {\n",
       "        vertical-align: top;\n",
       "    }\n",
       "\n",
       "    .dataframe thead th {\n",
       "        text-align: right;\n",
       "    }\n",
       "</style>\n",
       "<table border=\"1\" class=\"dataframe\">\n",
       "  <thead>\n",
       "    <tr style=\"text-align: right;\">\n",
       "      <th></th>\n",
       "      <th>Tag</th>\n",
       "      <th>Occupation</th>\n",
       "    </tr>\n",
       "  </thead>\n",
       "  <tbody>\n",
       "    <tr>\n",
       "      <th>0</th>\n",
       "      <td>M_Higher education</td>\n",
       "      <td>Managers</td>\n",
       "    </tr>\n",
       "    <tr>\n",
       "      <th>1</th>\n",
       "      <td>M_Secondary / secondary special</td>\n",
       "      <td>Laborers</td>\n",
       "    </tr>\n",
       "    <tr>\n",
       "      <th>2</th>\n",
       "      <td>M_Incomplete higher</td>\n",
       "      <td>Laborers</td>\n",
       "    </tr>\n",
       "    <tr>\n",
       "      <th>3</th>\n",
       "      <td>M_Lower secondary</td>\n",
       "      <td>Laborers</td>\n",
       "    </tr>\n",
       "    <tr>\n",
       "      <th>4</th>\n",
       "      <td>M_Academic degree</td>\n",
       "      <td>Core staff</td>\n",
       "    </tr>\n",
       "    <tr>\n",
       "      <th>5</th>\n",
       "      <td>F_Higher education</td>\n",
       "      <td>Core staff</td>\n",
       "    </tr>\n",
       "    <tr>\n",
       "      <th>6</th>\n",
       "      <td>F_Secondary / secondary special</td>\n",
       "      <td>Laborers</td>\n",
       "    </tr>\n",
       "    <tr>\n",
       "      <th>7</th>\n",
       "      <td>F_Incomplete higher</td>\n",
       "      <td>Core staff</td>\n",
       "    </tr>\n",
       "    <tr>\n",
       "      <th>8</th>\n",
       "      <td>F_Lower secondary</td>\n",
       "      <td>Laborers</td>\n",
       "    </tr>\n",
       "    <tr>\n",
       "      <th>9</th>\n",
       "      <td>F_Academic degree</td>\n",
       "      <td>Managers</td>\n",
       "    </tr>\n",
       "  </tbody>\n",
       "</table>\n",
       "</div>"
      ],
      "text/plain": [
       "                               Tag  Occupation\n",
       "0               M_Higher education    Managers\n",
       "1  M_Secondary / secondary special    Laborers\n",
       "2              M_Incomplete higher    Laborers\n",
       "3                M_Lower secondary    Laborers\n",
       "4                M_Academic degree  Core staff\n",
       "5               F_Higher education  Core staff\n",
       "6  F_Secondary / secondary special    Laborers\n",
       "7              F_Incomplete higher  Core staff\n",
       "8                F_Lower secondary    Laborers\n",
       "9                F_Academic degree    Managers"
      ]
     },
     "execution_count": 28,
     "metadata": {},
     "output_type": "execute_result"
    }
   ],
   "source": [
    "tag_data"
   ]
  },
  {
   "cell_type": "code",
   "execution_count": 29,
   "metadata": {
    "execution": {
     "iopub.execute_input": "2022-04-19T05:01:23.493274Z",
     "iopub.status.busy": "2022-04-19T05:01:23.49278Z",
     "iopub.status.idle": "2022-04-19T05:01:23.498982Z",
     "shell.execute_reply": "2022-04-19T05:01:23.497929Z",
     "shell.execute_reply.started": "2022-04-19T05:01:23.493241Z"
    }
   },
   "outputs": [],
   "source": [
    "tag_g = list(tag_data['Tag'])\n",
    "occu_g = list(tag_data['Occupation'])\n",
    "tag_dict = {}\n",
    "for index in range(len(tag_g)):\n",
    "    tag_dict[tag_g[index]] = occu_g[index]"
   ]
  },
  {
   "cell_type": "code",
   "execution_count": 30,
   "metadata": {
    "execution": {
     "iopub.execute_input": "2022-04-19T05:01:25.375096Z",
     "iopub.status.busy": "2022-04-19T05:01:25.374617Z",
     "iopub.status.idle": "2022-04-19T05:01:25.382032Z",
     "shell.execute_reply": "2022-04-19T05:01:25.381006Z",
     "shell.execute_reply.started": "2022-04-19T05:01:25.375034Z"
    }
   },
   "outputs": [
    {
     "data": {
      "text/plain": [
       "{'M_Higher education': 'Managers',\n",
       " 'M_Secondary / secondary special': 'Laborers',\n",
       " 'M_Incomplete higher': 'Laborers',\n",
       " 'M_Lower secondary': 'Laborers',\n",
       " 'M_Academic degree': 'Core staff',\n",
       " 'F_Higher education': 'Core staff',\n",
       " 'F_Secondary / secondary special': 'Laborers',\n",
       " 'F_Incomplete higher': 'Core staff',\n",
       " 'F_Lower secondary': 'Laborers',\n",
       " 'F_Academic degree': 'Managers'}"
      ]
     },
     "execution_count": 30,
     "metadata": {},
     "output_type": "execute_result"
    }
   ],
   "source": [
    "tag_dict"
   ]
  },
  {
   "cell_type": "code",
   "execution_count": 31,
   "metadata": {
    "execution": {
     "iopub.execute_input": "2022-04-19T05:01:26.819359Z",
     "iopub.status.busy": "2022-04-19T05:01:26.81884Z",
     "iopub.status.idle": "2022-04-19T05:01:26.958496Z",
     "shell.execute_reply": "2022-04-19T05:01:26.957726Z",
     "shell.execute_reply.started": "2022-04-19T05:01:26.819306Z"
    }
   },
   "outputs": [],
   "source": [
    "application_details['Tag'] = application_details['CODE_GENDER']+ '_' + application_details['NAME_EDUCATION_TYPE']"
   ]
  },
  {
   "cell_type": "markdown",
   "metadata": {},
   "source": [
    "### Imputing missing values"
   ]
  },
  {
   "cell_type": "code",
   "execution_count": 32,
   "metadata": {
    "execution": {
     "iopub.execute_input": "2022-04-19T05:01:28.951385Z",
     "iopub.status.busy": "2022-04-19T05:01:28.950873Z",
     "iopub.status.idle": "2022-04-19T05:01:28.957Z",
     "shell.execute_reply": "2022-04-19T05:01:28.955888Z",
     "shell.execute_reply.started": "2022-04-19T05:01:28.951349Z"
    }
   },
   "outputs": [],
   "source": [
    "def Replace_nan_occupation(df):\n",
    "    for key in tag_dict:\n",
    "        if df['Tag'] == key and pd.isnull(df['OCCUPATION_TYPE']):\n",
    "            df['OCCUPATION_TYPE'] = tag_dict[key]\n",
    "    return df"
   ]
  },
  {
   "cell_type": "code",
   "execution_count": 33,
   "metadata": {
    "execution": {
     "iopub.execute_input": "2022-04-19T05:01:30.62339Z",
     "iopub.status.busy": "2022-04-19T05:01:30.622597Z",
     "iopub.status.idle": "2022-04-19T05:01:30.629506Z",
     "shell.execute_reply": "2022-04-19T05:01:30.628574Z",
     "shell.execute_reply.started": "2022-04-19T05:01:30.623346Z"
    }
   },
   "outputs": [
    {
     "data": {
      "text/plain": [
       "438557"
      ]
     },
     "execution_count": 33,
     "metadata": {},
     "output_type": "execute_result"
    }
   ],
   "source": [
    "len(application_details)"
   ]
  },
  {
   "cell_type": "code",
   "execution_count": 34,
   "metadata": {
    "execution": {
     "iopub.execute_input": "2022-04-19T05:01:31.751498Z",
     "iopub.status.busy": "2022-04-19T05:01:31.750588Z",
     "iopub.status.idle": "2022-04-19T05:02:36.380226Z",
     "shell.execute_reply": "2022-04-19T05:02:36.37934Z",
     "shell.execute_reply.started": "2022-04-19T05:01:31.751431Z"
    }
   },
   "outputs": [],
   "source": [
    "application_details = application_details.apply(Replace_nan_occupation, axis=1)"
   ]
  },
  {
   "cell_type": "code",
   "execution_count": 35,
   "metadata": {
    "execution": {
     "iopub.execute_input": "2022-04-19T05:03:07.817273Z",
     "iopub.status.busy": "2022-04-19T05:03:07.816366Z",
     "iopub.status.idle": "2022-04-19T05:03:07.823485Z",
     "shell.execute_reply": "2022-04-19T05:03:07.822764Z",
     "shell.execute_reply.started": "2022-04-19T05:03:07.817229Z"
    }
   },
   "outputs": [
    {
     "data": {
      "text/plain": [
       "438557"
      ]
     },
     "execution_count": 35,
     "metadata": {},
     "output_type": "execute_result"
    }
   ],
   "source": [
    "len(application_details)"
   ]
  },
  {
   "cell_type": "code",
   "execution_count": 36,
   "metadata": {
    "execution": {
     "iopub.execute_input": "2022-04-19T05:03:08.936087Z",
     "iopub.status.busy": "2022-04-19T05:03:08.935707Z",
     "iopub.status.idle": "2022-04-19T05:03:09.394498Z",
     "shell.execute_reply": "2022-04-19T05:03:09.393524Z",
     "shell.execute_reply.started": "2022-04-19T05:03:08.936047Z"
    },
    "scrolled": true
   },
   "outputs": [
    {
     "data": {
      "text/plain": [
       "ID                     0\n",
       "CODE_GENDER            0\n",
       "FLAG_OWN_CAR           0\n",
       "FLAG_OWN_REALTY        0\n",
       "CNT_CHILDREN           0\n",
       "AMT_INCOME_TOTAL       0\n",
       "NAME_INCOME_TYPE       0\n",
       "NAME_EDUCATION_TYPE    0\n",
       "NAME_FAMILY_STATUS     0\n",
       "NAME_HOUSING_TYPE      0\n",
       "DAYS_BIRTH             0\n",
       "DAYS_EMPLOYED          0\n",
       "FLAG_MOBIL             0\n",
       "FLAG_WORK_PHONE        0\n",
       "FLAG_PHONE             0\n",
       "FLAG_EMAIL             0\n",
       "OCCUPATION_TYPE        0\n",
       "CNT_FAM_MEMBERS        0\n",
       "Tag                    0\n",
       "dtype: int64"
      ]
     },
     "execution_count": 36,
     "metadata": {},
     "output_type": "execute_result"
    }
   ],
   "source": [
    "application_details.isnull().sum()"
   ]
  },
  {
   "cell_type": "code",
   "execution_count": 37,
   "metadata": {},
   "outputs": [
    {
     "data": {
      "text/html": [
       "<div>\n",
       "<style scoped>\n",
       "    .dataframe tbody tr th:only-of-type {\n",
       "        vertical-align: middle;\n",
       "    }\n",
       "\n",
       "    .dataframe tbody tr th {\n",
       "        vertical-align: top;\n",
       "    }\n",
       "\n",
       "    .dataframe thead th {\n",
       "        text-align: right;\n",
       "    }\n",
       "</style>\n",
       "<table border=\"1\" class=\"dataframe\">\n",
       "  <thead>\n",
       "    <tr style=\"text-align: right;\">\n",
       "      <th></th>\n",
       "      <th>ID</th>\n",
       "      <th>CODE_GENDER</th>\n",
       "      <th>FLAG_OWN_CAR</th>\n",
       "      <th>FLAG_OWN_REALTY</th>\n",
       "      <th>CNT_CHILDREN</th>\n",
       "      <th>AMT_INCOME_TOTAL</th>\n",
       "      <th>NAME_INCOME_TYPE</th>\n",
       "      <th>NAME_EDUCATION_TYPE</th>\n",
       "      <th>NAME_FAMILY_STATUS</th>\n",
       "      <th>NAME_HOUSING_TYPE</th>\n",
       "      <th>DAYS_BIRTH</th>\n",
       "      <th>DAYS_EMPLOYED</th>\n",
       "      <th>FLAG_MOBIL</th>\n",
       "      <th>FLAG_WORK_PHONE</th>\n",
       "      <th>FLAG_PHONE</th>\n",
       "      <th>FLAG_EMAIL</th>\n",
       "      <th>OCCUPATION_TYPE</th>\n",
       "      <th>CNT_FAM_MEMBERS</th>\n",
       "      <th>Tag</th>\n",
       "    </tr>\n",
       "  </thead>\n",
       "  <tbody>\n",
       "    <tr>\n",
       "      <th>0</th>\n",
       "      <td>5008804</td>\n",
       "      <td>M</td>\n",
       "      <td>Y</td>\n",
       "      <td>Y</td>\n",
       "      <td>0</td>\n",
       "      <td>427500.0</td>\n",
       "      <td>Working</td>\n",
       "      <td>Higher education</td>\n",
       "      <td>Civil marriage</td>\n",
       "      <td>Rented apartment</td>\n",
       "      <td>-12005</td>\n",
       "      <td>-4542</td>\n",
       "      <td>1</td>\n",
       "      <td>1</td>\n",
       "      <td>0</td>\n",
       "      <td>0</td>\n",
       "      <td>Managers</td>\n",
       "      <td>2.0</td>\n",
       "      <td>M_Higher education</td>\n",
       "    </tr>\n",
       "    <tr>\n",
       "      <th>1</th>\n",
       "      <td>5008805</td>\n",
       "      <td>M</td>\n",
       "      <td>Y</td>\n",
       "      <td>Y</td>\n",
       "      <td>0</td>\n",
       "      <td>427500.0</td>\n",
       "      <td>Working</td>\n",
       "      <td>Higher education</td>\n",
       "      <td>Civil marriage</td>\n",
       "      <td>Rented apartment</td>\n",
       "      <td>-12005</td>\n",
       "      <td>-4542</td>\n",
       "      <td>1</td>\n",
       "      <td>1</td>\n",
       "      <td>0</td>\n",
       "      <td>0</td>\n",
       "      <td>Managers</td>\n",
       "      <td>2.0</td>\n",
       "      <td>M_Higher education</td>\n",
       "    </tr>\n",
       "    <tr>\n",
       "      <th>2</th>\n",
       "      <td>5008806</td>\n",
       "      <td>M</td>\n",
       "      <td>Y</td>\n",
       "      <td>Y</td>\n",
       "      <td>0</td>\n",
       "      <td>112500.0</td>\n",
       "      <td>Working</td>\n",
       "      <td>Secondary / secondary special</td>\n",
       "      <td>Married</td>\n",
       "      <td>House / apartment</td>\n",
       "      <td>-21474</td>\n",
       "      <td>-1134</td>\n",
       "      <td>1</td>\n",
       "      <td>0</td>\n",
       "      <td>0</td>\n",
       "      <td>0</td>\n",
       "      <td>Security staff</td>\n",
       "      <td>2.0</td>\n",
       "      <td>M_Secondary / secondary special</td>\n",
       "    </tr>\n",
       "    <tr>\n",
       "      <th>3</th>\n",
       "      <td>5008808</td>\n",
       "      <td>F</td>\n",
       "      <td>N</td>\n",
       "      <td>Y</td>\n",
       "      <td>0</td>\n",
       "      <td>270000.0</td>\n",
       "      <td>Commercial associate</td>\n",
       "      <td>Secondary / secondary special</td>\n",
       "      <td>Single / not married</td>\n",
       "      <td>House / apartment</td>\n",
       "      <td>-19110</td>\n",
       "      <td>-3051</td>\n",
       "      <td>1</td>\n",
       "      <td>0</td>\n",
       "      <td>1</td>\n",
       "      <td>1</td>\n",
       "      <td>Sales staff</td>\n",
       "      <td>1.0</td>\n",
       "      <td>F_Secondary / secondary special</td>\n",
       "    </tr>\n",
       "    <tr>\n",
       "      <th>4</th>\n",
       "      <td>5008809</td>\n",
       "      <td>F</td>\n",
       "      <td>N</td>\n",
       "      <td>Y</td>\n",
       "      <td>0</td>\n",
       "      <td>270000.0</td>\n",
       "      <td>Commercial associate</td>\n",
       "      <td>Secondary / secondary special</td>\n",
       "      <td>Single / not married</td>\n",
       "      <td>House / apartment</td>\n",
       "      <td>-19110</td>\n",
       "      <td>-3051</td>\n",
       "      <td>1</td>\n",
       "      <td>0</td>\n",
       "      <td>1</td>\n",
       "      <td>1</td>\n",
       "      <td>Sales staff</td>\n",
       "      <td>1.0</td>\n",
       "      <td>F_Secondary / secondary special</td>\n",
       "    </tr>\n",
       "  </tbody>\n",
       "</table>\n",
       "</div>"
      ],
      "text/plain": [
       "        ID CODE_GENDER FLAG_OWN_CAR FLAG_OWN_REALTY  CNT_CHILDREN  \\\n",
       "0  5008804           M            Y               Y             0   \n",
       "1  5008805           M            Y               Y             0   \n",
       "2  5008806           M            Y               Y             0   \n",
       "3  5008808           F            N               Y             0   \n",
       "4  5008809           F            N               Y             0   \n",
       "\n",
       "   AMT_INCOME_TOTAL      NAME_INCOME_TYPE            NAME_EDUCATION_TYPE  \\\n",
       "0          427500.0               Working               Higher education   \n",
       "1          427500.0               Working               Higher education   \n",
       "2          112500.0               Working  Secondary / secondary special   \n",
       "3          270000.0  Commercial associate  Secondary / secondary special   \n",
       "4          270000.0  Commercial associate  Secondary / secondary special   \n",
       "\n",
       "     NAME_FAMILY_STATUS  NAME_HOUSING_TYPE  DAYS_BIRTH  DAYS_EMPLOYED  \\\n",
       "0        Civil marriage   Rented apartment      -12005          -4542   \n",
       "1        Civil marriage   Rented apartment      -12005          -4542   \n",
       "2               Married  House / apartment      -21474          -1134   \n",
       "3  Single / not married  House / apartment      -19110          -3051   \n",
       "4  Single / not married  House / apartment      -19110          -3051   \n",
       "\n",
       "   FLAG_MOBIL  FLAG_WORK_PHONE  FLAG_PHONE  FLAG_EMAIL OCCUPATION_TYPE  \\\n",
       "0           1                1           0           0        Managers   \n",
       "1           1                1           0           0        Managers   \n",
       "2           1                0           0           0  Security staff   \n",
       "3           1                0           1           1     Sales staff   \n",
       "4           1                0           1           1     Sales staff   \n",
       "\n",
       "   CNT_FAM_MEMBERS                              Tag  \n",
       "0              2.0               M_Higher education  \n",
       "1              2.0               M_Higher education  \n",
       "2              2.0  M_Secondary / secondary special  \n",
       "3              1.0  F_Secondary / secondary special  \n",
       "4              1.0  F_Secondary / secondary special  "
      ]
     },
     "execution_count": 37,
     "metadata": {},
     "output_type": "execute_result"
    }
   ],
   "source": [
    "application_details.head()"
   ]
  },
  {
   "cell_type": "markdown",
   "metadata": {},
   "source": [
    "### Converting Days format features to readable format ##"
   ]
  },
  {
   "cell_type": "code",
   "execution_count": 38,
   "metadata": {
    "execution": {
     "iopub.execute_input": "2022-04-19T05:03:11.861654Z",
     "iopub.status.busy": "2022-04-19T05:03:11.860938Z",
     "iopub.status.idle": "2022-04-19T05:03:11.906181Z",
     "shell.execute_reply": "2022-04-19T05:03:11.905472Z",
     "shell.execute_reply.started": "2022-04-19T05:03:11.861604Z"
    }
   },
   "outputs": [],
   "source": [
    "application_details['AGE'] = np.ceil(pd.to_timedelta(application_details['DAYS_BIRTH'], unit='D').dt.days / -365.25)"
   ]
  },
  {
   "cell_type": "code",
   "execution_count": 39,
   "metadata": {
    "execution": {
     "iopub.execute_input": "2022-04-19T05:03:13.007604Z",
     "iopub.status.busy": "2022-04-19T05:03:13.007101Z",
     "iopub.status.idle": "2022-04-19T05:03:13.023968Z",
     "shell.execute_reply": "2022-04-19T05:03:13.022552Z",
     "shell.execute_reply.started": "2022-04-19T05:03:13.007567Z"
    }
   },
   "outputs": [
    {
     "data": {
      "text/plain": [
       "0         33.0\n",
       "1         33.0\n",
       "2         59.0\n",
       "3         53.0\n",
       "4         53.0\n",
       "          ... \n",
       "438552    63.0\n",
       "438553    44.0\n",
       "438554    23.0\n",
       "438555    60.0\n",
       "438556    52.0\n",
       "Name: AGE, Length: 438557, dtype: float64"
      ]
     },
     "execution_count": 39,
     "metadata": {},
     "output_type": "execute_result"
    }
   ],
   "source": [
    "application_details['AGE']"
   ]
  },
  {
   "cell_type": "code",
   "execution_count": 40,
   "metadata": {
    "execution": {
     "iopub.execute_input": "2022-04-19T05:03:14.109751Z",
     "iopub.status.busy": "2022-04-19T05:03:14.109284Z",
     "iopub.status.idle": "2022-04-19T05:03:14.409014Z",
     "shell.execute_reply": "2022-04-19T05:03:14.407549Z",
     "shell.execute_reply.started": "2022-04-19T05:03:14.109703Z"
    }
   },
   "outputs": [],
   "source": [
    "application_details.drop('DAYS_BIRTH', axis=1, inplace=True)"
   ]
  },
  {
   "cell_type": "code",
   "execution_count": 41,
   "metadata": {
    "execution": {
     "iopub.execute_input": "2022-04-19T05:03:16.577444Z",
     "iopub.status.busy": "2022-04-19T05:03:16.577084Z",
     "iopub.status.idle": "2022-04-19T05:03:16.626469Z",
     "shell.execute_reply": "2022-04-19T05:03:16.625685Z",
     "shell.execute_reply.started": "2022-04-19T05:03:16.577405Z"
    }
   },
   "outputs": [],
   "source": [
    "application_details.loc[(application_details['DAYS_EMPLOYED'] > 0), 'DAYS_EMPLOYED'] = 0\n",
    "application_details['YEARS_EMPLOYED'] = np.ceil(pd.to_timedelta(application_details['DAYS_EMPLOYED'], unit='D').dt.days / -365.25)"
   ]
  },
  {
   "cell_type": "code",
   "execution_count": 42,
   "metadata": {
    "execution": {
     "iopub.execute_input": "2022-04-19T05:03:18.712035Z",
     "iopub.status.busy": "2022-04-19T05:03:18.711278Z",
     "iopub.status.idle": "2022-04-19T05:03:18.722284Z",
     "shell.execute_reply": "2022-04-19T05:03:18.721342Z",
     "shell.execute_reply.started": "2022-04-19T05:03:18.711982Z"
    }
   },
   "outputs": [
    {
     "data": {
      "text/plain": [
       "0         13.0\n",
       "1         13.0\n",
       "2          4.0\n",
       "3          9.0\n",
       "4          9.0\n",
       "          ... \n",
       "438552    -0.0\n",
       "438553     9.0\n",
       "438554     2.0\n",
       "438555    -0.0\n",
       "438556     4.0\n",
       "Name: YEARS_EMPLOYED, Length: 438557, dtype: float64"
      ]
     },
     "execution_count": 42,
     "metadata": {},
     "output_type": "execute_result"
    }
   ],
   "source": [
    "application_details['YEARS_EMPLOYED']"
   ]
  },
  {
   "cell_type": "code",
   "execution_count": 43,
   "metadata": {
    "execution": {
     "iopub.execute_input": "2022-04-19T05:03:19.848238Z",
     "iopub.status.busy": "2022-04-19T05:03:19.847895Z",
     "iopub.status.idle": "2022-04-19T05:03:19.921646Z",
     "shell.execute_reply": "2022-04-19T05:03:19.920652Z",
     "shell.execute_reply.started": "2022-04-19T05:03:19.848199Z"
    }
   },
   "outputs": [],
   "source": [
    "application_details.drop(['DAYS_EMPLOYED', 'Tag'], axis=1, inplace=True)"
   ]
  },
  {
   "cell_type": "markdown",
   "metadata": {},
   "source": [
    "### Final Columns ###"
   ]
  },
  {
   "cell_type": "code",
   "execution_count": 44,
   "metadata": {
    "execution": {
     "iopub.execute_input": "2022-04-19T05:03:24.006986Z",
     "iopub.status.busy": "2022-04-19T05:03:24.006646Z",
     "iopub.status.idle": "2022-04-19T05:03:24.014128Z",
     "shell.execute_reply": "2022-04-19T05:03:24.013064Z",
     "shell.execute_reply.started": "2022-04-19T05:03:24.006944Z"
    }
   },
   "outputs": [
    {
     "data": {
      "text/plain": [
       "Index(['ID', 'CODE_GENDER', 'FLAG_OWN_CAR', 'FLAG_OWN_REALTY', 'CNT_CHILDREN',\n",
       "       'AMT_INCOME_TOTAL', 'NAME_INCOME_TYPE', 'NAME_EDUCATION_TYPE',\n",
       "       'NAME_FAMILY_STATUS', 'NAME_HOUSING_TYPE', 'FLAG_MOBIL',\n",
       "       'FLAG_WORK_PHONE', 'FLAG_PHONE', 'FLAG_EMAIL', 'OCCUPATION_TYPE',\n",
       "       'CNT_FAM_MEMBERS', 'AGE', 'YEARS_EMPLOYED'],\n",
       "      dtype='object')"
      ]
     },
     "execution_count": 44,
     "metadata": {},
     "output_type": "execute_result"
    }
   ],
   "source": [
    "application_details.columns"
   ]
  },
  {
   "cell_type": "code",
   "execution_count": 45,
   "metadata": {},
   "outputs": [
    {
     "name": "stdout",
     "output_type": "stream",
     "text": [
      "<class 'pandas.core.frame.DataFrame'>\n",
      "RangeIndex: 438557 entries, 0 to 438556\n",
      "Data columns (total 18 columns):\n",
      " #   Column               Non-Null Count   Dtype  \n",
      "---  ------               --------------   -----  \n",
      " 0   ID                   438557 non-null  int64  \n",
      " 1   CODE_GENDER          438557 non-null  object \n",
      " 2   FLAG_OWN_CAR         438557 non-null  object \n",
      " 3   FLAG_OWN_REALTY      438557 non-null  object \n",
      " 4   CNT_CHILDREN         438557 non-null  int64  \n",
      " 5   AMT_INCOME_TOTAL     438557 non-null  float64\n",
      " 6   NAME_INCOME_TYPE     438557 non-null  object \n",
      " 7   NAME_EDUCATION_TYPE  438557 non-null  object \n",
      " 8   NAME_FAMILY_STATUS   438557 non-null  object \n",
      " 9   NAME_HOUSING_TYPE    438557 non-null  object \n",
      " 10  FLAG_MOBIL           438557 non-null  int64  \n",
      " 11  FLAG_WORK_PHONE      438557 non-null  int64  \n",
      " 12  FLAG_PHONE           438557 non-null  int64  \n",
      " 13  FLAG_EMAIL           438557 non-null  int64  \n",
      " 14  OCCUPATION_TYPE      438557 non-null  object \n",
      " 15  CNT_FAM_MEMBERS      438557 non-null  float64\n",
      " 16  AGE                  438557 non-null  float64\n",
      " 17  YEARS_EMPLOYED       438557 non-null  float64\n",
      "dtypes: float64(4), int64(6), object(8)\n",
      "memory usage: 60.2+ MB\n"
     ]
    }
   ],
   "source": [
    "application_details.info()"
   ]
  },
  {
   "cell_type": "code",
   "execution_count": 46,
   "metadata": {},
   "outputs": [
    {
     "data": {
      "text/html": [
       "<div>\n",
       "<style scoped>\n",
       "    .dataframe tbody tr th:only-of-type {\n",
       "        vertical-align: middle;\n",
       "    }\n",
       "\n",
       "    .dataframe tbody tr th {\n",
       "        vertical-align: top;\n",
       "    }\n",
       "\n",
       "    .dataframe thead th {\n",
       "        text-align: right;\n",
       "    }\n",
       "</style>\n",
       "<table border=\"1\" class=\"dataframe\">\n",
       "  <thead>\n",
       "    <tr style=\"text-align: right;\">\n",
       "      <th></th>\n",
       "      <th>ID</th>\n",
       "      <th>CODE_GENDER</th>\n",
       "      <th>FLAG_OWN_CAR</th>\n",
       "      <th>FLAG_OWN_REALTY</th>\n",
       "      <th>CNT_CHILDREN</th>\n",
       "      <th>AMT_INCOME_TOTAL</th>\n",
       "      <th>NAME_INCOME_TYPE</th>\n",
       "      <th>NAME_EDUCATION_TYPE</th>\n",
       "      <th>NAME_FAMILY_STATUS</th>\n",
       "      <th>NAME_HOUSING_TYPE</th>\n",
       "      <th>FLAG_MOBIL</th>\n",
       "      <th>FLAG_WORK_PHONE</th>\n",
       "      <th>FLAG_PHONE</th>\n",
       "      <th>FLAG_EMAIL</th>\n",
       "      <th>OCCUPATION_TYPE</th>\n",
       "      <th>CNT_FAM_MEMBERS</th>\n",
       "      <th>AGE</th>\n",
       "      <th>YEARS_EMPLOYED</th>\n",
       "    </tr>\n",
       "  </thead>\n",
       "  <tbody>\n",
       "    <tr>\n",
       "      <th>0</th>\n",
       "      <td>5008804</td>\n",
       "      <td>M</td>\n",
       "      <td>Y</td>\n",
       "      <td>Y</td>\n",
       "      <td>0</td>\n",
       "      <td>427500.0</td>\n",
       "      <td>Working</td>\n",
       "      <td>Higher education</td>\n",
       "      <td>Civil marriage</td>\n",
       "      <td>Rented apartment</td>\n",
       "      <td>1</td>\n",
       "      <td>1</td>\n",
       "      <td>0</td>\n",
       "      <td>0</td>\n",
       "      <td>Managers</td>\n",
       "      <td>2.0</td>\n",
       "      <td>33.0</td>\n",
       "      <td>13.0</td>\n",
       "    </tr>\n",
       "    <tr>\n",
       "      <th>1</th>\n",
       "      <td>5008805</td>\n",
       "      <td>M</td>\n",
       "      <td>Y</td>\n",
       "      <td>Y</td>\n",
       "      <td>0</td>\n",
       "      <td>427500.0</td>\n",
       "      <td>Working</td>\n",
       "      <td>Higher education</td>\n",
       "      <td>Civil marriage</td>\n",
       "      <td>Rented apartment</td>\n",
       "      <td>1</td>\n",
       "      <td>1</td>\n",
       "      <td>0</td>\n",
       "      <td>0</td>\n",
       "      <td>Managers</td>\n",
       "      <td>2.0</td>\n",
       "      <td>33.0</td>\n",
       "      <td>13.0</td>\n",
       "    </tr>\n",
       "    <tr>\n",
       "      <th>2</th>\n",
       "      <td>5008806</td>\n",
       "      <td>M</td>\n",
       "      <td>Y</td>\n",
       "      <td>Y</td>\n",
       "      <td>0</td>\n",
       "      <td>112500.0</td>\n",
       "      <td>Working</td>\n",
       "      <td>Secondary / secondary special</td>\n",
       "      <td>Married</td>\n",
       "      <td>House / apartment</td>\n",
       "      <td>1</td>\n",
       "      <td>0</td>\n",
       "      <td>0</td>\n",
       "      <td>0</td>\n",
       "      <td>Security staff</td>\n",
       "      <td>2.0</td>\n",
       "      <td>59.0</td>\n",
       "      <td>4.0</td>\n",
       "    </tr>\n",
       "    <tr>\n",
       "      <th>3</th>\n",
       "      <td>5008808</td>\n",
       "      <td>F</td>\n",
       "      <td>N</td>\n",
       "      <td>Y</td>\n",
       "      <td>0</td>\n",
       "      <td>270000.0</td>\n",
       "      <td>Commercial associate</td>\n",
       "      <td>Secondary / secondary special</td>\n",
       "      <td>Single / not married</td>\n",
       "      <td>House / apartment</td>\n",
       "      <td>1</td>\n",
       "      <td>0</td>\n",
       "      <td>1</td>\n",
       "      <td>1</td>\n",
       "      <td>Sales staff</td>\n",
       "      <td>1.0</td>\n",
       "      <td>53.0</td>\n",
       "      <td>9.0</td>\n",
       "    </tr>\n",
       "    <tr>\n",
       "      <th>4</th>\n",
       "      <td>5008809</td>\n",
       "      <td>F</td>\n",
       "      <td>N</td>\n",
       "      <td>Y</td>\n",
       "      <td>0</td>\n",
       "      <td>270000.0</td>\n",
       "      <td>Commercial associate</td>\n",
       "      <td>Secondary / secondary special</td>\n",
       "      <td>Single / not married</td>\n",
       "      <td>House / apartment</td>\n",
       "      <td>1</td>\n",
       "      <td>0</td>\n",
       "      <td>1</td>\n",
       "      <td>1</td>\n",
       "      <td>Sales staff</td>\n",
       "      <td>1.0</td>\n",
       "      <td>53.0</td>\n",
       "      <td>9.0</td>\n",
       "    </tr>\n",
       "  </tbody>\n",
       "</table>\n",
       "</div>"
      ],
      "text/plain": [
       "        ID CODE_GENDER FLAG_OWN_CAR FLAG_OWN_REALTY  CNT_CHILDREN  \\\n",
       "0  5008804           M            Y               Y             0   \n",
       "1  5008805           M            Y               Y             0   \n",
       "2  5008806           M            Y               Y             0   \n",
       "3  5008808           F            N               Y             0   \n",
       "4  5008809           F            N               Y             0   \n",
       "\n",
       "   AMT_INCOME_TOTAL      NAME_INCOME_TYPE            NAME_EDUCATION_TYPE  \\\n",
       "0          427500.0               Working               Higher education   \n",
       "1          427500.0               Working               Higher education   \n",
       "2          112500.0               Working  Secondary / secondary special   \n",
       "3          270000.0  Commercial associate  Secondary / secondary special   \n",
       "4          270000.0  Commercial associate  Secondary / secondary special   \n",
       "\n",
       "     NAME_FAMILY_STATUS  NAME_HOUSING_TYPE  FLAG_MOBIL  FLAG_WORK_PHONE  \\\n",
       "0        Civil marriage   Rented apartment           1                1   \n",
       "1        Civil marriage   Rented apartment           1                1   \n",
       "2               Married  House / apartment           1                0   \n",
       "3  Single / not married  House / apartment           1                0   \n",
       "4  Single / not married  House / apartment           1                0   \n",
       "\n",
       "   FLAG_PHONE  FLAG_EMAIL OCCUPATION_TYPE  CNT_FAM_MEMBERS   AGE  \\\n",
       "0           0           0        Managers              2.0  33.0   \n",
       "1           0           0        Managers              2.0  33.0   \n",
       "2           0           0  Security staff              2.0  59.0   \n",
       "3           1           1     Sales staff              1.0  53.0   \n",
       "4           1           1     Sales staff              1.0  53.0   \n",
       "\n",
       "   YEARS_EMPLOYED  \n",
       "0            13.0  \n",
       "1            13.0  \n",
       "2             4.0  \n",
       "3             9.0  \n",
       "4             9.0  "
      ]
     },
     "execution_count": 46,
     "metadata": {},
     "output_type": "execute_result"
    }
   ],
   "source": [
    "application_details.head()"
   ]
  },
  {
   "cell_type": "markdown",
   "metadata": {},
   "source": [
    "## Label Encoding Categorical Features to Numerical Values ##"
   ]
  },
  {
   "cell_type": "markdown",
   "metadata": {},
   "source": [
    "#### Apllication_details data ###"
   ]
  },
  {
   "cell_type": "code",
   "execution_count": 47,
   "metadata": {
    "execution": {
     "iopub.execute_input": "2022-04-19T05:03:30.496023Z",
     "iopub.status.busy": "2022-04-19T05:03:30.495688Z",
     "iopub.status.idle": "2022-04-19T05:03:30.50296Z",
     "shell.execute_reply": "2022-04-19T05:03:30.502079Z",
     "shell.execute_reply.started": "2022-04-19T05:03:30.495992Z"
    }
   },
   "outputs": [],
   "source": [
    "def Cat_to_Num(features):\n",
    "    for feature in features:\n",
    "        feature_list = list(np.unique(application_details[feature]))\n",
    "        feature_dict = {}\n",
    "        for i in range(len(feature_list)):\n",
    "                       feature_dict[feature_list[i]] = i\n",
    "        application_details.replace({feature : feature_dict}, inplace=True)\n",
    "        print(feature, '-->', feature_dict)"
   ]
  },
  {
   "cell_type": "code",
   "execution_count": 48,
   "metadata": {
    "execution": {
     "iopub.execute_input": "2022-04-19T05:03:31.724547Z",
     "iopub.status.busy": "2022-04-19T05:03:31.72393Z",
     "iopub.status.idle": "2022-04-19T05:03:39.142384Z",
     "shell.execute_reply": "2022-04-19T05:03:39.141259Z",
     "shell.execute_reply.started": "2022-04-19T05:03:31.7245Z"
    }
   },
   "outputs": [
    {
     "name": "stdout",
     "output_type": "stream",
     "text": [
      "CODE_GENDER --> {'F': 0, 'M': 1}\n",
      "FLAG_OWN_CAR --> {'N': 0, 'Y': 1}\n",
      "FLAG_OWN_REALTY --> {'N': 0, 'Y': 1}\n",
      "NAME_INCOME_TYPE --> {'Commercial associate': 0, 'Pensioner': 1, 'State servant': 2, 'Student': 3, 'Working': 4}\n",
      "NAME_FAMILY_STATUS --> {'Civil marriage': 0, 'Married': 1, 'Separated': 2, 'Single / not married': 3, 'Widow': 4}\n",
      "OCCUPATION_TYPE --> {'Accountants': 0, 'Cleaning staff': 1, 'Cooking staff': 2, 'Core staff': 3, 'Drivers': 4, 'HR staff': 5, 'High skill tech staff': 6, 'IT staff': 7, 'Laborers': 8, 'Low-skill Laborers': 9, 'Managers': 10, 'Medicine staff': 11, 'Private service staff': 12, 'Realty agents': 13, 'Sales staff': 14, 'Secretaries': 15, 'Security staff': 16, 'Waiters/barmen staff': 17}\n",
      "NAME_HOUSING_TYPE --> {'Co-op apartment': 0, 'House / apartment': 1, 'Municipal apartment': 2, 'Office apartment': 3, 'Rented apartment': 4, 'With parents': 5}\n",
      "NAME_EDUCATION_TYPE --> {'Academic degree': 0, 'Higher education': 1, 'Incomplete higher': 2, 'Lower secondary': 3, 'Secondary / secondary special': 4}\n"
     ]
    }
   ],
   "source": [
    "categorical_features = ['CODE_GENDER', 'FLAG_OWN_CAR', 'FLAG_OWN_REALTY', 'NAME_INCOME_TYPE',\\\n",
    "                        'NAME_FAMILY_STATUS', 'OCCUPATION_TYPE', 'NAME_HOUSING_TYPE', \\\n",
    "                        'NAME_EDUCATION_TYPE']\n",
    "Cat_to_Num(categorical_features)"
   ]
  },
  {
   "cell_type": "code",
   "execution_count": 49,
   "metadata": {
    "execution": {
     "iopub.execute_input": "2022-04-19T05:03:42.893305Z",
     "iopub.status.busy": "2022-04-19T05:03:42.892976Z",
     "iopub.status.idle": "2022-04-19T05:03:42.915895Z",
     "shell.execute_reply": "2022-04-19T05:03:42.915099Z",
     "shell.execute_reply.started": "2022-04-19T05:03:42.893272Z"
    },
    "scrolled": true
   },
   "outputs": [
    {
     "data": {
      "text/html": [
       "<div>\n",
       "<style scoped>\n",
       "    .dataframe tbody tr th:only-of-type {\n",
       "        vertical-align: middle;\n",
       "    }\n",
       "\n",
       "    .dataframe tbody tr th {\n",
       "        vertical-align: top;\n",
       "    }\n",
       "\n",
       "    .dataframe thead th {\n",
       "        text-align: right;\n",
       "    }\n",
       "</style>\n",
       "<table border=\"1\" class=\"dataframe\">\n",
       "  <thead>\n",
       "    <tr style=\"text-align: right;\">\n",
       "      <th></th>\n",
       "      <th>ID</th>\n",
       "      <th>CODE_GENDER</th>\n",
       "      <th>FLAG_OWN_CAR</th>\n",
       "      <th>FLAG_OWN_REALTY</th>\n",
       "      <th>CNT_CHILDREN</th>\n",
       "      <th>AMT_INCOME_TOTAL</th>\n",
       "      <th>NAME_INCOME_TYPE</th>\n",
       "      <th>NAME_EDUCATION_TYPE</th>\n",
       "      <th>NAME_FAMILY_STATUS</th>\n",
       "      <th>NAME_HOUSING_TYPE</th>\n",
       "      <th>FLAG_MOBIL</th>\n",
       "      <th>FLAG_WORK_PHONE</th>\n",
       "      <th>FLAG_PHONE</th>\n",
       "      <th>FLAG_EMAIL</th>\n",
       "      <th>OCCUPATION_TYPE</th>\n",
       "      <th>CNT_FAM_MEMBERS</th>\n",
       "      <th>AGE</th>\n",
       "      <th>YEARS_EMPLOYED</th>\n",
       "    </tr>\n",
       "  </thead>\n",
       "  <tbody>\n",
       "    <tr>\n",
       "      <th>0</th>\n",
       "      <td>5008804</td>\n",
       "      <td>1</td>\n",
       "      <td>1</td>\n",
       "      <td>1</td>\n",
       "      <td>0</td>\n",
       "      <td>427500.0</td>\n",
       "      <td>4</td>\n",
       "      <td>1</td>\n",
       "      <td>0</td>\n",
       "      <td>4</td>\n",
       "      <td>1</td>\n",
       "      <td>1</td>\n",
       "      <td>0</td>\n",
       "      <td>0</td>\n",
       "      <td>10</td>\n",
       "      <td>2.0</td>\n",
       "      <td>33.0</td>\n",
       "      <td>13.0</td>\n",
       "    </tr>\n",
       "    <tr>\n",
       "      <th>1</th>\n",
       "      <td>5008805</td>\n",
       "      <td>1</td>\n",
       "      <td>1</td>\n",
       "      <td>1</td>\n",
       "      <td>0</td>\n",
       "      <td>427500.0</td>\n",
       "      <td>4</td>\n",
       "      <td>1</td>\n",
       "      <td>0</td>\n",
       "      <td>4</td>\n",
       "      <td>1</td>\n",
       "      <td>1</td>\n",
       "      <td>0</td>\n",
       "      <td>0</td>\n",
       "      <td>10</td>\n",
       "      <td>2.0</td>\n",
       "      <td>33.0</td>\n",
       "      <td>13.0</td>\n",
       "    </tr>\n",
       "    <tr>\n",
       "      <th>2</th>\n",
       "      <td>5008806</td>\n",
       "      <td>1</td>\n",
       "      <td>1</td>\n",
       "      <td>1</td>\n",
       "      <td>0</td>\n",
       "      <td>112500.0</td>\n",
       "      <td>4</td>\n",
       "      <td>4</td>\n",
       "      <td>1</td>\n",
       "      <td>1</td>\n",
       "      <td>1</td>\n",
       "      <td>0</td>\n",
       "      <td>0</td>\n",
       "      <td>0</td>\n",
       "      <td>16</td>\n",
       "      <td>2.0</td>\n",
       "      <td>59.0</td>\n",
       "      <td>4.0</td>\n",
       "    </tr>\n",
       "    <tr>\n",
       "      <th>3</th>\n",
       "      <td>5008808</td>\n",
       "      <td>0</td>\n",
       "      <td>0</td>\n",
       "      <td>1</td>\n",
       "      <td>0</td>\n",
       "      <td>270000.0</td>\n",
       "      <td>0</td>\n",
       "      <td>4</td>\n",
       "      <td>3</td>\n",
       "      <td>1</td>\n",
       "      <td>1</td>\n",
       "      <td>0</td>\n",
       "      <td>1</td>\n",
       "      <td>1</td>\n",
       "      <td>14</td>\n",
       "      <td>1.0</td>\n",
       "      <td>53.0</td>\n",
       "      <td>9.0</td>\n",
       "    </tr>\n",
       "    <tr>\n",
       "      <th>4</th>\n",
       "      <td>5008809</td>\n",
       "      <td>0</td>\n",
       "      <td>0</td>\n",
       "      <td>1</td>\n",
       "      <td>0</td>\n",
       "      <td>270000.0</td>\n",
       "      <td>0</td>\n",
       "      <td>4</td>\n",
       "      <td>3</td>\n",
       "      <td>1</td>\n",
       "      <td>1</td>\n",
       "      <td>0</td>\n",
       "      <td>1</td>\n",
       "      <td>1</td>\n",
       "      <td>14</td>\n",
       "      <td>1.0</td>\n",
       "      <td>53.0</td>\n",
       "      <td>9.0</td>\n",
       "    </tr>\n",
       "    <tr>\n",
       "      <th>5</th>\n",
       "      <td>5008810</td>\n",
       "      <td>0</td>\n",
       "      <td>0</td>\n",
       "      <td>1</td>\n",
       "      <td>0</td>\n",
       "      <td>270000.0</td>\n",
       "      <td>0</td>\n",
       "      <td>4</td>\n",
       "      <td>3</td>\n",
       "      <td>1</td>\n",
       "      <td>1</td>\n",
       "      <td>0</td>\n",
       "      <td>1</td>\n",
       "      <td>1</td>\n",
       "      <td>14</td>\n",
       "      <td>1.0</td>\n",
       "      <td>53.0</td>\n",
       "      <td>9.0</td>\n",
       "    </tr>\n",
       "    <tr>\n",
       "      <th>6</th>\n",
       "      <td>5008811</td>\n",
       "      <td>0</td>\n",
       "      <td>0</td>\n",
       "      <td>1</td>\n",
       "      <td>0</td>\n",
       "      <td>270000.0</td>\n",
       "      <td>0</td>\n",
       "      <td>4</td>\n",
       "      <td>3</td>\n",
       "      <td>1</td>\n",
       "      <td>1</td>\n",
       "      <td>0</td>\n",
       "      <td>1</td>\n",
       "      <td>1</td>\n",
       "      <td>14</td>\n",
       "      <td>1.0</td>\n",
       "      <td>53.0</td>\n",
       "      <td>9.0</td>\n",
       "    </tr>\n",
       "    <tr>\n",
       "      <th>7</th>\n",
       "      <td>5008812</td>\n",
       "      <td>0</td>\n",
       "      <td>0</td>\n",
       "      <td>1</td>\n",
       "      <td>0</td>\n",
       "      <td>283500.0</td>\n",
       "      <td>1</td>\n",
       "      <td>1</td>\n",
       "      <td>2</td>\n",
       "      <td>1</td>\n",
       "      <td>1</td>\n",
       "      <td>0</td>\n",
       "      <td>0</td>\n",
       "      <td>0</td>\n",
       "      <td>3</td>\n",
       "      <td>1.0</td>\n",
       "      <td>62.0</td>\n",
       "      <td>-0.0</td>\n",
       "    </tr>\n",
       "    <tr>\n",
       "      <th>8</th>\n",
       "      <td>5008813</td>\n",
       "      <td>0</td>\n",
       "      <td>0</td>\n",
       "      <td>1</td>\n",
       "      <td>0</td>\n",
       "      <td>283500.0</td>\n",
       "      <td>1</td>\n",
       "      <td>1</td>\n",
       "      <td>2</td>\n",
       "      <td>1</td>\n",
       "      <td>1</td>\n",
       "      <td>0</td>\n",
       "      <td>0</td>\n",
       "      <td>0</td>\n",
       "      <td>3</td>\n",
       "      <td>1.0</td>\n",
       "      <td>62.0</td>\n",
       "      <td>-0.0</td>\n",
       "    </tr>\n",
       "    <tr>\n",
       "      <th>9</th>\n",
       "      <td>5008814</td>\n",
       "      <td>0</td>\n",
       "      <td>0</td>\n",
       "      <td>1</td>\n",
       "      <td>0</td>\n",
       "      <td>283500.0</td>\n",
       "      <td>1</td>\n",
       "      <td>1</td>\n",
       "      <td>2</td>\n",
       "      <td>1</td>\n",
       "      <td>1</td>\n",
       "      <td>0</td>\n",
       "      <td>0</td>\n",
       "      <td>0</td>\n",
       "      <td>3</td>\n",
       "      <td>1.0</td>\n",
       "      <td>62.0</td>\n",
       "      <td>-0.0</td>\n",
       "    </tr>\n",
       "  </tbody>\n",
       "</table>\n",
       "</div>"
      ],
      "text/plain": [
       "        ID  CODE_GENDER  FLAG_OWN_CAR  FLAG_OWN_REALTY  CNT_CHILDREN  \\\n",
       "0  5008804            1             1                1             0   \n",
       "1  5008805            1             1                1             0   \n",
       "2  5008806            1             1                1             0   \n",
       "3  5008808            0             0                1             0   \n",
       "4  5008809            0             0                1             0   \n",
       "5  5008810            0             0                1             0   \n",
       "6  5008811            0             0                1             0   \n",
       "7  5008812            0             0                1             0   \n",
       "8  5008813            0             0                1             0   \n",
       "9  5008814            0             0                1             0   \n",
       "\n",
       "   AMT_INCOME_TOTAL  NAME_INCOME_TYPE  NAME_EDUCATION_TYPE  \\\n",
       "0          427500.0                 4                    1   \n",
       "1          427500.0                 4                    1   \n",
       "2          112500.0                 4                    4   \n",
       "3          270000.0                 0                    4   \n",
       "4          270000.0                 0                    4   \n",
       "5          270000.0                 0                    4   \n",
       "6          270000.0                 0                    4   \n",
       "7          283500.0                 1                    1   \n",
       "8          283500.0                 1                    1   \n",
       "9          283500.0                 1                    1   \n",
       "\n",
       "   NAME_FAMILY_STATUS  NAME_HOUSING_TYPE  FLAG_MOBIL  FLAG_WORK_PHONE  \\\n",
       "0                   0                  4           1                1   \n",
       "1                   0                  4           1                1   \n",
       "2                   1                  1           1                0   \n",
       "3                   3                  1           1                0   \n",
       "4                   3                  1           1                0   \n",
       "5                   3                  1           1                0   \n",
       "6                   3                  1           1                0   \n",
       "7                   2                  1           1                0   \n",
       "8                   2                  1           1                0   \n",
       "9                   2                  1           1                0   \n",
       "\n",
       "   FLAG_PHONE  FLAG_EMAIL  OCCUPATION_TYPE  CNT_FAM_MEMBERS   AGE  \\\n",
       "0           0           0               10              2.0  33.0   \n",
       "1           0           0               10              2.0  33.0   \n",
       "2           0           0               16              2.0  59.0   \n",
       "3           1           1               14              1.0  53.0   \n",
       "4           1           1               14              1.0  53.0   \n",
       "5           1           1               14              1.0  53.0   \n",
       "6           1           1               14              1.0  53.0   \n",
       "7           0           0                3              1.0  62.0   \n",
       "8           0           0                3              1.0  62.0   \n",
       "9           0           0                3              1.0  62.0   \n",
       "\n",
       "   YEARS_EMPLOYED  \n",
       "0            13.0  \n",
       "1            13.0  \n",
       "2             4.0  \n",
       "3             9.0  \n",
       "4             9.0  \n",
       "5             9.0  \n",
       "6             9.0  \n",
       "7            -0.0  \n",
       "8            -0.0  \n",
       "9            -0.0  "
      ]
     },
     "execution_count": 49,
     "metadata": {},
     "output_type": "execute_result"
    }
   ],
   "source": [
    "application_details.head(10)"
   ]
  },
  {
   "cell_type": "markdown",
   "metadata": {},
   "source": [
    "### Credit_record data ###"
   ]
  },
  {
   "cell_type": "code",
   "execution_count": 50,
   "metadata": {
    "execution": {
     "iopub.execute_input": "2022-04-19T05:03:46.944105Z",
     "iopub.status.busy": "2022-04-19T05:03:46.943178Z",
     "iopub.status.idle": "2022-04-19T05:03:47.579121Z",
     "shell.execute_reply": "2022-04-19T05:03:47.578201Z",
     "shell.execute_reply.started": "2022-04-19T05:03:46.944052Z"
    }
   },
   "outputs": [],
   "source": [
    "convert_to = {'C' : 'Good_Debt', 'X' : 'Good_Debt', '0' : 'Good_Debt',\\\n",
    "              '1' : 'Neutral_Debt', '2' : 'Neutral_Debt', '3' : 'Bad_Debt', \\\n",
    "              '4' : 'Bad_Debt', '5' : 'Bad_Debt'}\n",
    "credit_record.replace({'STATUS' : convert_to}, inplace=True)"
   ]
  },
  {
   "cell_type": "code",
   "execution_count": 51,
   "metadata": {
    "execution": {
     "iopub.execute_input": "2022-04-19T05:03:49.436294Z",
     "iopub.status.busy": "2022-04-19T05:03:49.435752Z",
     "iopub.status.idle": "2022-04-19T05:03:49.450049Z",
     "shell.execute_reply": "2022-04-19T05:03:49.449419Z",
     "shell.execute_reply.started": "2022-04-19T05:03:49.436237Z"
    }
   },
   "outputs": [
    {
     "data": {
      "text/html": [
       "<div>\n",
       "<style scoped>\n",
       "    .dataframe tbody tr th:only-of-type {\n",
       "        vertical-align: middle;\n",
       "    }\n",
       "\n",
       "    .dataframe tbody tr th {\n",
       "        vertical-align: top;\n",
       "    }\n",
       "\n",
       "    .dataframe thead th {\n",
       "        text-align: right;\n",
       "    }\n",
       "</style>\n",
       "<table border=\"1\" class=\"dataframe\">\n",
       "  <thead>\n",
       "    <tr style=\"text-align: right;\">\n",
       "      <th></th>\n",
       "      <th>ID</th>\n",
       "      <th>MONTHS_BALANCE</th>\n",
       "      <th>STATUS</th>\n",
       "    </tr>\n",
       "  </thead>\n",
       "  <tbody>\n",
       "    <tr>\n",
       "      <th>0</th>\n",
       "      <td>5001711</td>\n",
       "      <td>0</td>\n",
       "      <td>Good_Debt</td>\n",
       "    </tr>\n",
       "    <tr>\n",
       "      <th>1</th>\n",
       "      <td>5001711</td>\n",
       "      <td>-1</td>\n",
       "      <td>Good_Debt</td>\n",
       "    </tr>\n",
       "    <tr>\n",
       "      <th>2</th>\n",
       "      <td>5001711</td>\n",
       "      <td>-2</td>\n",
       "      <td>Good_Debt</td>\n",
       "    </tr>\n",
       "    <tr>\n",
       "      <th>3</th>\n",
       "      <td>5001711</td>\n",
       "      <td>-3</td>\n",
       "      <td>Good_Debt</td>\n",
       "    </tr>\n",
       "    <tr>\n",
       "      <th>4</th>\n",
       "      <td>5001712</td>\n",
       "      <td>0</td>\n",
       "      <td>Good_Debt</td>\n",
       "    </tr>\n",
       "    <tr>\n",
       "      <th>...</th>\n",
       "      <td>...</td>\n",
       "      <td>...</td>\n",
       "      <td>...</td>\n",
       "    </tr>\n",
       "    <tr>\n",
       "      <th>1048570</th>\n",
       "      <td>5150487</td>\n",
       "      <td>-25</td>\n",
       "      <td>Good_Debt</td>\n",
       "    </tr>\n",
       "    <tr>\n",
       "      <th>1048571</th>\n",
       "      <td>5150487</td>\n",
       "      <td>-26</td>\n",
       "      <td>Good_Debt</td>\n",
       "    </tr>\n",
       "    <tr>\n",
       "      <th>1048572</th>\n",
       "      <td>5150487</td>\n",
       "      <td>-27</td>\n",
       "      <td>Good_Debt</td>\n",
       "    </tr>\n",
       "    <tr>\n",
       "      <th>1048573</th>\n",
       "      <td>5150487</td>\n",
       "      <td>-28</td>\n",
       "      <td>Good_Debt</td>\n",
       "    </tr>\n",
       "    <tr>\n",
       "      <th>1048574</th>\n",
       "      <td>5150487</td>\n",
       "      <td>-29</td>\n",
       "      <td>Good_Debt</td>\n",
       "    </tr>\n",
       "  </tbody>\n",
       "</table>\n",
       "<p>1048575 rows × 3 columns</p>\n",
       "</div>"
      ],
      "text/plain": [
       "              ID  MONTHS_BALANCE     STATUS\n",
       "0        5001711               0  Good_Debt\n",
       "1        5001711              -1  Good_Debt\n",
       "2        5001711              -2  Good_Debt\n",
       "3        5001711              -3  Good_Debt\n",
       "4        5001712               0  Good_Debt\n",
       "...          ...             ...        ...\n",
       "1048570  5150487             -25  Good_Debt\n",
       "1048571  5150487             -26  Good_Debt\n",
       "1048572  5150487             -27  Good_Debt\n",
       "1048573  5150487             -28  Good_Debt\n",
       "1048574  5150487             -29  Good_Debt\n",
       "\n",
       "[1048575 rows x 3 columns]"
      ]
     },
     "execution_count": 51,
     "metadata": {},
     "output_type": "execute_result"
    }
   ],
   "source": [
    "credit_record"
   ]
  },
  {
   "cell_type": "markdown",
   "metadata": {},
   "source": [
    "### Counting the number of debts ###"
   ]
  },
  {
   "cell_type": "code",
   "execution_count": 52,
   "metadata": {
    "execution": {
     "iopub.execute_input": "2022-04-19T05:03:53.323509Z",
     "iopub.status.busy": "2022-04-19T05:03:53.322892Z",
     "iopub.status.idle": "2022-04-19T05:03:53.491497Z",
     "shell.execute_reply": "2022-04-19T05:03:53.490669Z",
     "shell.execute_reply.started": "2022-04-19T05:03:53.323452Z"
    }
   },
   "outputs": [],
   "source": [
    "credit_record = credit_record.value_counts(subset=['ID', 'STATUS']).unstack(fill_value=0)"
   ]
  },
  {
   "cell_type": "code",
   "execution_count": 53,
   "metadata": {
    "execution": {
     "iopub.execute_input": "2022-04-19T05:03:56.166563Z",
     "iopub.status.busy": "2022-04-19T05:03:56.166069Z",
     "iopub.status.idle": "2022-04-19T05:03:56.178703Z",
     "shell.execute_reply": "2022-04-19T05:03:56.178005Z",
     "shell.execute_reply.started": "2022-04-19T05:03:56.166527Z"
    }
   },
   "outputs": [
    {
     "data": {
      "text/html": [
       "<div>\n",
       "<style scoped>\n",
       "    .dataframe tbody tr th:only-of-type {\n",
       "        vertical-align: middle;\n",
       "    }\n",
       "\n",
       "    .dataframe tbody tr th {\n",
       "        vertical-align: top;\n",
       "    }\n",
       "\n",
       "    .dataframe thead th {\n",
       "        text-align: right;\n",
       "    }\n",
       "</style>\n",
       "<table border=\"1\" class=\"dataframe\">\n",
       "  <thead>\n",
       "    <tr style=\"text-align: right;\">\n",
       "      <th>STATUS</th>\n",
       "      <th>Bad_Debt</th>\n",
       "      <th>Good_Debt</th>\n",
       "      <th>Neutral_Debt</th>\n",
       "    </tr>\n",
       "    <tr>\n",
       "      <th>ID</th>\n",
       "      <th></th>\n",
       "      <th></th>\n",
       "      <th></th>\n",
       "    </tr>\n",
       "  </thead>\n",
       "  <tbody>\n",
       "    <tr>\n",
       "      <th>5001711</th>\n",
       "      <td>0</td>\n",
       "      <td>4</td>\n",
       "      <td>0</td>\n",
       "    </tr>\n",
       "    <tr>\n",
       "      <th>5001712</th>\n",
       "      <td>0</td>\n",
       "      <td>19</td>\n",
       "      <td>0</td>\n",
       "    </tr>\n",
       "    <tr>\n",
       "      <th>5001713</th>\n",
       "      <td>0</td>\n",
       "      <td>22</td>\n",
       "      <td>0</td>\n",
       "    </tr>\n",
       "    <tr>\n",
       "      <th>5001714</th>\n",
       "      <td>0</td>\n",
       "      <td>15</td>\n",
       "      <td>0</td>\n",
       "    </tr>\n",
       "    <tr>\n",
       "      <th>5001715</th>\n",
       "      <td>0</td>\n",
       "      <td>60</td>\n",
       "      <td>0</td>\n",
       "    </tr>\n",
       "    <tr>\n",
       "      <th>...</th>\n",
       "      <td>...</td>\n",
       "      <td>...</td>\n",
       "      <td>...</td>\n",
       "    </tr>\n",
       "    <tr>\n",
       "      <th>5150482</th>\n",
       "      <td>0</td>\n",
       "      <td>18</td>\n",
       "      <td>0</td>\n",
       "    </tr>\n",
       "    <tr>\n",
       "      <th>5150483</th>\n",
       "      <td>0</td>\n",
       "      <td>18</td>\n",
       "      <td>0</td>\n",
       "    </tr>\n",
       "    <tr>\n",
       "      <th>5150484</th>\n",
       "      <td>0</td>\n",
       "      <td>13</td>\n",
       "      <td>0</td>\n",
       "    </tr>\n",
       "    <tr>\n",
       "      <th>5150485</th>\n",
       "      <td>0</td>\n",
       "      <td>2</td>\n",
       "      <td>0</td>\n",
       "    </tr>\n",
       "    <tr>\n",
       "      <th>5150487</th>\n",
       "      <td>0</td>\n",
       "      <td>30</td>\n",
       "      <td>0</td>\n",
       "    </tr>\n",
       "  </tbody>\n",
       "</table>\n",
       "<p>45985 rows × 3 columns</p>\n",
       "</div>"
      ],
      "text/plain": [
       "STATUS   Bad_Debt  Good_Debt  Neutral_Debt\n",
       "ID                                        \n",
       "5001711         0          4             0\n",
       "5001712         0         19             0\n",
       "5001713         0         22             0\n",
       "5001714         0         15             0\n",
       "5001715         0         60             0\n",
       "...           ...        ...           ...\n",
       "5150482         0         18             0\n",
       "5150483         0         18             0\n",
       "5150484         0         13             0\n",
       "5150485         0          2             0\n",
       "5150487         0         30             0\n",
       "\n",
       "[45985 rows x 3 columns]"
      ]
     },
     "execution_count": 53,
     "metadata": {},
     "output_type": "execute_result"
    }
   ],
   "source": [
    "credit_record"
   ]
  },
  {
   "cell_type": "markdown",
   "metadata": {},
   "source": [
    "### Creating Credit Approval Status ##"
   ]
  },
  {
   "cell_type": "code",
   "execution_count": 54,
   "metadata": {
    "execution": {
     "iopub.execute_input": "2022-04-19T05:04:15.977994Z",
     "iopub.status.busy": "2022-04-19T05:04:15.977655Z",
     "iopub.status.idle": "2022-04-19T05:04:15.995299Z",
     "shell.execute_reply": "2022-04-19T05:04:15.99451Z",
     "shell.execute_reply.started": "2022-04-19T05:04:15.977963Z"
    }
   },
   "outputs": [],
   "source": [
    "credit_record.loc[(credit_record['Good_Debt'] > credit_record['Neutral_Debt']), 'CREDIT_APPROVAL_STATUS'] = 1\n",
    "credit_record.loc[(credit_record['Good_Debt'] > credit_record['Bad_Debt']), 'CREDIT_APPROVAL_STATUS'] = 1\n",
    "credit_record.loc[(credit_record['Neutral_Debt'] > credit_record['Good_Debt']), 'CREDIT_APPROVAL_STATUS'] = 0\n",
    "credit_record.loc[(credit_record['Neutral_Debt'] > credit_record['Bad_Debt']), 'CREDIT_APPROVAL_STATUS'] = 1\n",
    "credit_record.loc[(credit_record['Bad_Debt'] > credit_record['Good_Debt']), 'CREDIT_APPROVAL_STATUS'] = 0\n",
    "credit_record.loc[(credit_record['Bad_Debt'] > credit_record['Neutral_Debt']), 'CREDIT_APPROVAL_STATUS'] = 0"
   ]
  },
  {
   "cell_type": "code",
   "execution_count": 55,
   "metadata": {
    "execution": {
     "iopub.execute_input": "2022-04-19T05:04:17.203885Z",
     "iopub.status.busy": "2022-04-19T05:04:17.203547Z",
     "iopub.status.idle": "2022-04-19T05:04:17.21867Z",
     "shell.execute_reply": "2022-04-19T05:04:17.217718Z",
     "shell.execute_reply.started": "2022-04-19T05:04:17.203854Z"
    }
   },
   "outputs": [
    {
     "data": {
      "text/html": [
       "<div>\n",
       "<style scoped>\n",
       "    .dataframe tbody tr th:only-of-type {\n",
       "        vertical-align: middle;\n",
       "    }\n",
       "\n",
       "    .dataframe tbody tr th {\n",
       "        vertical-align: top;\n",
       "    }\n",
       "\n",
       "    .dataframe thead th {\n",
       "        text-align: right;\n",
       "    }\n",
       "</style>\n",
       "<table border=\"1\" class=\"dataframe\">\n",
       "  <thead>\n",
       "    <tr style=\"text-align: right;\">\n",
       "      <th>STATUS</th>\n",
       "      <th>Bad_Debt</th>\n",
       "      <th>Good_Debt</th>\n",
       "      <th>Neutral_Debt</th>\n",
       "      <th>CREDIT_APPROVAL_STATUS</th>\n",
       "    </tr>\n",
       "    <tr>\n",
       "      <th>ID</th>\n",
       "      <th></th>\n",
       "      <th></th>\n",
       "      <th></th>\n",
       "      <th></th>\n",
       "    </tr>\n",
       "  </thead>\n",
       "  <tbody>\n",
       "    <tr>\n",
       "      <th>5001711</th>\n",
       "      <td>0</td>\n",
       "      <td>4</td>\n",
       "      <td>0</td>\n",
       "      <td>1.0</td>\n",
       "    </tr>\n",
       "    <tr>\n",
       "      <th>5001712</th>\n",
       "      <td>0</td>\n",
       "      <td>19</td>\n",
       "      <td>0</td>\n",
       "      <td>1.0</td>\n",
       "    </tr>\n",
       "    <tr>\n",
       "      <th>5001713</th>\n",
       "      <td>0</td>\n",
       "      <td>22</td>\n",
       "      <td>0</td>\n",
       "      <td>1.0</td>\n",
       "    </tr>\n",
       "    <tr>\n",
       "      <th>5001714</th>\n",
       "      <td>0</td>\n",
       "      <td>15</td>\n",
       "      <td>0</td>\n",
       "      <td>1.0</td>\n",
       "    </tr>\n",
       "    <tr>\n",
       "      <th>5001715</th>\n",
       "      <td>0</td>\n",
       "      <td>60</td>\n",
       "      <td>0</td>\n",
       "      <td>1.0</td>\n",
       "    </tr>\n",
       "    <tr>\n",
       "      <th>...</th>\n",
       "      <td>...</td>\n",
       "      <td>...</td>\n",
       "      <td>...</td>\n",
       "      <td>...</td>\n",
       "    </tr>\n",
       "    <tr>\n",
       "      <th>5150482</th>\n",
       "      <td>0</td>\n",
       "      <td>18</td>\n",
       "      <td>0</td>\n",
       "      <td>1.0</td>\n",
       "    </tr>\n",
       "    <tr>\n",
       "      <th>5150483</th>\n",
       "      <td>0</td>\n",
       "      <td>18</td>\n",
       "      <td>0</td>\n",
       "      <td>1.0</td>\n",
       "    </tr>\n",
       "    <tr>\n",
       "      <th>5150484</th>\n",
       "      <td>0</td>\n",
       "      <td>13</td>\n",
       "      <td>0</td>\n",
       "      <td>1.0</td>\n",
       "    </tr>\n",
       "    <tr>\n",
       "      <th>5150485</th>\n",
       "      <td>0</td>\n",
       "      <td>2</td>\n",
       "      <td>0</td>\n",
       "      <td>1.0</td>\n",
       "    </tr>\n",
       "    <tr>\n",
       "      <th>5150487</th>\n",
       "      <td>0</td>\n",
       "      <td>30</td>\n",
       "      <td>0</td>\n",
       "      <td>1.0</td>\n",
       "    </tr>\n",
       "  </tbody>\n",
       "</table>\n",
       "<p>45985 rows × 4 columns</p>\n",
       "</div>"
      ],
      "text/plain": [
       "STATUS   Bad_Debt  Good_Debt  Neutral_Debt  CREDIT_APPROVAL_STATUS\n",
       "ID                                                                \n",
       "5001711         0          4             0                     1.0\n",
       "5001712         0         19             0                     1.0\n",
       "5001713         0         22             0                     1.0\n",
       "5001714         0         15             0                     1.0\n",
       "5001715         0         60             0                     1.0\n",
       "...           ...        ...           ...                     ...\n",
       "5150482         0         18             0                     1.0\n",
       "5150483         0         18             0                     1.0\n",
       "5150484         0         13             0                     1.0\n",
       "5150485         0          2             0                     1.0\n",
       "5150487         0         30             0                     1.0\n",
       "\n",
       "[45985 rows x 4 columns]"
      ]
     },
     "execution_count": 55,
     "metadata": {},
     "output_type": "execute_result"
    }
   ],
   "source": [
    "credit_record"
   ]
  },
  {
   "cell_type": "code",
   "execution_count": 56,
   "metadata": {
    "execution": {
     "iopub.execute_input": "2022-04-19T05:04:18.433098Z",
     "iopub.status.busy": "2022-04-19T05:04:18.432075Z",
     "iopub.status.idle": "2022-04-19T05:04:18.441412Z",
     "shell.execute_reply": "2022-04-19T05:04:18.440751Z",
     "shell.execute_reply.started": "2022-04-19T05:04:18.433037Z"
    }
   },
   "outputs": [
    {
     "data": {
      "text/plain": [
       "array([0., 1.])"
      ]
     },
     "execution_count": 56,
     "metadata": {},
     "output_type": "execute_result"
    }
   ],
   "source": [
    "np.unique(credit_record['CREDIT_APPROVAL_STATUS'])"
   ]
  },
  {
   "cell_type": "code",
   "execution_count": 57,
   "metadata": {
    "execution": {
     "iopub.execute_input": "2022-04-19T05:04:21.02989Z",
     "iopub.status.busy": "2022-04-19T05:04:21.029157Z",
     "iopub.status.idle": "2022-04-19T05:04:21.035299Z",
     "shell.execute_reply": "2022-04-19T05:04:21.034491Z",
     "shell.execute_reply.started": "2022-04-19T05:04:21.029845Z"
    }
   },
   "outputs": [],
   "source": [
    "credit_record['CREDIT_APPROVAL_STATUS'] = credit_record['CREDIT_APPROVAL_STATUS'].astype('int')"
   ]
  },
  {
   "cell_type": "code",
   "execution_count": 58,
   "metadata": {
    "execution": {
     "iopub.execute_input": "2022-04-19T05:04:22.615596Z",
     "iopub.status.busy": "2022-04-19T05:04:22.615064Z",
     "iopub.status.idle": "2022-04-19T05:04:22.628262Z",
     "shell.execute_reply": "2022-04-19T05:04:22.627234Z",
     "shell.execute_reply.started": "2022-04-19T05:04:22.615558Z"
    }
   },
   "outputs": [
    {
     "data": {
      "text/html": [
       "<div>\n",
       "<style scoped>\n",
       "    .dataframe tbody tr th:only-of-type {\n",
       "        vertical-align: middle;\n",
       "    }\n",
       "\n",
       "    .dataframe tbody tr th {\n",
       "        vertical-align: top;\n",
       "    }\n",
       "\n",
       "    .dataframe thead th {\n",
       "        text-align: right;\n",
       "    }\n",
       "</style>\n",
       "<table border=\"1\" class=\"dataframe\">\n",
       "  <thead>\n",
       "    <tr style=\"text-align: right;\">\n",
       "      <th>STATUS</th>\n",
       "      <th>Bad_Debt</th>\n",
       "      <th>Good_Debt</th>\n",
       "      <th>Neutral_Debt</th>\n",
       "      <th>CREDIT_APPROVAL_STATUS</th>\n",
       "    </tr>\n",
       "    <tr>\n",
       "      <th>ID</th>\n",
       "      <th></th>\n",
       "      <th></th>\n",
       "      <th></th>\n",
       "      <th></th>\n",
       "    </tr>\n",
       "  </thead>\n",
       "  <tbody>\n",
       "    <tr>\n",
       "      <th>5001711</th>\n",
       "      <td>0</td>\n",
       "      <td>4</td>\n",
       "      <td>0</td>\n",
       "      <td>1</td>\n",
       "    </tr>\n",
       "    <tr>\n",
       "      <th>5001712</th>\n",
       "      <td>0</td>\n",
       "      <td>19</td>\n",
       "      <td>0</td>\n",
       "      <td>1</td>\n",
       "    </tr>\n",
       "    <tr>\n",
       "      <th>5001713</th>\n",
       "      <td>0</td>\n",
       "      <td>22</td>\n",
       "      <td>0</td>\n",
       "      <td>1</td>\n",
       "    </tr>\n",
       "    <tr>\n",
       "      <th>5001714</th>\n",
       "      <td>0</td>\n",
       "      <td>15</td>\n",
       "      <td>0</td>\n",
       "      <td>1</td>\n",
       "    </tr>\n",
       "    <tr>\n",
       "      <th>5001715</th>\n",
       "      <td>0</td>\n",
       "      <td>60</td>\n",
       "      <td>0</td>\n",
       "      <td>1</td>\n",
       "    </tr>\n",
       "    <tr>\n",
       "      <th>...</th>\n",
       "      <td>...</td>\n",
       "      <td>...</td>\n",
       "      <td>...</td>\n",
       "      <td>...</td>\n",
       "    </tr>\n",
       "    <tr>\n",
       "      <th>5150482</th>\n",
       "      <td>0</td>\n",
       "      <td>18</td>\n",
       "      <td>0</td>\n",
       "      <td>1</td>\n",
       "    </tr>\n",
       "    <tr>\n",
       "      <th>5150483</th>\n",
       "      <td>0</td>\n",
       "      <td>18</td>\n",
       "      <td>0</td>\n",
       "      <td>1</td>\n",
       "    </tr>\n",
       "    <tr>\n",
       "      <th>5150484</th>\n",
       "      <td>0</td>\n",
       "      <td>13</td>\n",
       "      <td>0</td>\n",
       "      <td>1</td>\n",
       "    </tr>\n",
       "    <tr>\n",
       "      <th>5150485</th>\n",
       "      <td>0</td>\n",
       "      <td>2</td>\n",
       "      <td>0</td>\n",
       "      <td>1</td>\n",
       "    </tr>\n",
       "    <tr>\n",
       "      <th>5150487</th>\n",
       "      <td>0</td>\n",
       "      <td>30</td>\n",
       "      <td>0</td>\n",
       "      <td>1</td>\n",
       "    </tr>\n",
       "  </tbody>\n",
       "</table>\n",
       "<p>45985 rows × 4 columns</p>\n",
       "</div>"
      ],
      "text/plain": [
       "STATUS   Bad_Debt  Good_Debt  Neutral_Debt  CREDIT_APPROVAL_STATUS\n",
       "ID                                                                \n",
       "5001711         0          4             0                       1\n",
       "5001712         0         19             0                       1\n",
       "5001713         0         22             0                       1\n",
       "5001714         0         15             0                       1\n",
       "5001715         0         60             0                       1\n",
       "...           ...        ...           ...                     ...\n",
       "5150482         0         18             0                       1\n",
       "5150483         0         18             0                       1\n",
       "5150484         0         13             0                       1\n",
       "5150485         0          2             0                       1\n",
       "5150487         0         30             0                       1\n",
       "\n",
       "[45985 rows x 4 columns]"
      ]
     },
     "execution_count": 58,
     "metadata": {},
     "output_type": "execute_result"
    }
   ],
   "source": [
    "credit_record"
   ]
  },
  {
   "cell_type": "code",
   "execution_count": 59,
   "metadata": {
    "execution": {
     "iopub.execute_input": "2022-04-19T05:04:23.777951Z",
     "iopub.status.busy": "2022-04-19T05:04:23.777625Z",
     "iopub.status.idle": "2022-04-19T05:04:23.784917Z",
     "shell.execute_reply": "2022-04-19T05:04:23.784111Z",
     "shell.execute_reply.started": "2022-04-19T05:04:23.77792Z"
    }
   },
   "outputs": [],
   "source": [
    "credit_record.drop(['Bad_Debt', 'Good_Debt', 'Neutral_Debt'], axis=1, inplace=True)"
   ]
  },
  {
   "cell_type": "code",
   "execution_count": 60,
   "metadata": {
    "execution": {
     "iopub.execute_input": "2022-04-19T05:04:26.25229Z",
     "iopub.status.busy": "2022-04-19T05:04:26.251725Z",
     "iopub.status.idle": "2022-04-19T05:04:26.269047Z",
     "shell.execute_reply": "2022-04-19T05:04:26.267219Z",
     "shell.execute_reply.started": "2022-04-19T05:04:26.252231Z"
    }
   },
   "outputs": [
    {
     "data": {
      "text/html": [
       "<div>\n",
       "<style scoped>\n",
       "    .dataframe tbody tr th:only-of-type {\n",
       "        vertical-align: middle;\n",
       "    }\n",
       "\n",
       "    .dataframe tbody tr th {\n",
       "        vertical-align: top;\n",
       "    }\n",
       "\n",
       "    .dataframe thead th {\n",
       "        text-align: right;\n",
       "    }\n",
       "</style>\n",
       "<table border=\"1\" class=\"dataframe\">\n",
       "  <thead>\n",
       "    <tr style=\"text-align: right;\">\n",
       "      <th>STATUS</th>\n",
       "      <th>CREDIT_APPROVAL_STATUS</th>\n",
       "    </tr>\n",
       "    <tr>\n",
       "      <th>ID</th>\n",
       "      <th></th>\n",
       "    </tr>\n",
       "  </thead>\n",
       "  <tbody>\n",
       "    <tr>\n",
       "      <th>5001711</th>\n",
       "      <td>1</td>\n",
       "    </tr>\n",
       "    <tr>\n",
       "      <th>5001712</th>\n",
       "      <td>1</td>\n",
       "    </tr>\n",
       "    <tr>\n",
       "      <th>5001713</th>\n",
       "      <td>1</td>\n",
       "    </tr>\n",
       "    <tr>\n",
       "      <th>5001714</th>\n",
       "      <td>1</td>\n",
       "    </tr>\n",
       "    <tr>\n",
       "      <th>5001715</th>\n",
       "      <td>1</td>\n",
       "    </tr>\n",
       "    <tr>\n",
       "      <th>...</th>\n",
       "      <td>...</td>\n",
       "    </tr>\n",
       "    <tr>\n",
       "      <th>5150482</th>\n",
       "      <td>1</td>\n",
       "    </tr>\n",
       "    <tr>\n",
       "      <th>5150483</th>\n",
       "      <td>1</td>\n",
       "    </tr>\n",
       "    <tr>\n",
       "      <th>5150484</th>\n",
       "      <td>1</td>\n",
       "    </tr>\n",
       "    <tr>\n",
       "      <th>5150485</th>\n",
       "      <td>1</td>\n",
       "    </tr>\n",
       "    <tr>\n",
       "      <th>5150487</th>\n",
       "      <td>1</td>\n",
       "    </tr>\n",
       "  </tbody>\n",
       "</table>\n",
       "<p>45985 rows × 1 columns</p>\n",
       "</div>"
      ],
      "text/plain": [
       "STATUS   CREDIT_APPROVAL_STATUS\n",
       "ID                             \n",
       "5001711                       1\n",
       "5001712                       1\n",
       "5001713                       1\n",
       "5001714                       1\n",
       "5001715                       1\n",
       "...                         ...\n",
       "5150482                       1\n",
       "5150483                       1\n",
       "5150484                       1\n",
       "5150485                       1\n",
       "5150487                       1\n",
       "\n",
       "[45985 rows x 1 columns]"
      ]
     },
     "execution_count": 60,
     "metadata": {},
     "output_type": "execute_result"
    }
   ],
   "source": [
    "credit_record"
   ]
  },
  {
   "cell_type": "markdown",
   "metadata": {},
   "source": [
    "## Merging Both application_details and credit_record data #"
   ]
  },
  {
   "cell_type": "code",
   "execution_count": 61,
   "metadata": {
    "execution": {
     "iopub.execute_input": "2022-04-19T05:04:32.066787Z",
     "iopub.status.busy": "2022-04-19T05:04:32.066415Z",
     "iopub.status.idle": "2022-04-19T05:04:32.163606Z",
     "shell.execute_reply": "2022-04-19T05:04:32.162683Z",
     "shell.execute_reply.started": "2022-04-19T05:04:32.066743Z"
    }
   },
   "outputs": [],
   "source": [
    "Final_Credit_data = application_details.merge(credit_record, how='inner', on=['ID'])"
   ]
  },
  {
   "cell_type": "code",
   "execution_count": 62,
   "metadata": {
    "execution": {
     "iopub.execute_input": "2022-04-19T05:04:33.733501Z",
     "iopub.status.busy": "2022-04-19T05:04:33.733159Z",
     "iopub.status.idle": "2022-04-19T05:04:33.758211Z",
     "shell.execute_reply": "2022-04-19T05:04:33.757247Z",
     "shell.execute_reply.started": "2022-04-19T05:04:33.733455Z"
    }
   },
   "outputs": [
    {
     "data": {
      "text/html": [
       "<div>\n",
       "<style scoped>\n",
       "    .dataframe tbody tr th:only-of-type {\n",
       "        vertical-align: middle;\n",
       "    }\n",
       "\n",
       "    .dataframe tbody tr th {\n",
       "        vertical-align: top;\n",
       "    }\n",
       "\n",
       "    .dataframe thead th {\n",
       "        text-align: right;\n",
       "    }\n",
       "</style>\n",
       "<table border=\"1\" class=\"dataframe\">\n",
       "  <thead>\n",
       "    <tr style=\"text-align: right;\">\n",
       "      <th></th>\n",
       "      <th>ID</th>\n",
       "      <th>CODE_GENDER</th>\n",
       "      <th>FLAG_OWN_CAR</th>\n",
       "      <th>FLAG_OWN_REALTY</th>\n",
       "      <th>CNT_CHILDREN</th>\n",
       "      <th>AMT_INCOME_TOTAL</th>\n",
       "      <th>NAME_INCOME_TYPE</th>\n",
       "      <th>NAME_EDUCATION_TYPE</th>\n",
       "      <th>NAME_FAMILY_STATUS</th>\n",
       "      <th>NAME_HOUSING_TYPE</th>\n",
       "      <th>FLAG_MOBIL</th>\n",
       "      <th>FLAG_WORK_PHONE</th>\n",
       "      <th>FLAG_PHONE</th>\n",
       "      <th>FLAG_EMAIL</th>\n",
       "      <th>OCCUPATION_TYPE</th>\n",
       "      <th>CNT_FAM_MEMBERS</th>\n",
       "      <th>AGE</th>\n",
       "      <th>YEARS_EMPLOYED</th>\n",
       "      <th>CREDIT_APPROVAL_STATUS</th>\n",
       "    </tr>\n",
       "  </thead>\n",
       "  <tbody>\n",
       "    <tr>\n",
       "      <th>0</th>\n",
       "      <td>5008804</td>\n",
       "      <td>1</td>\n",
       "      <td>1</td>\n",
       "      <td>1</td>\n",
       "      <td>0</td>\n",
       "      <td>427500.0</td>\n",
       "      <td>4</td>\n",
       "      <td>1</td>\n",
       "      <td>0</td>\n",
       "      <td>4</td>\n",
       "      <td>1</td>\n",
       "      <td>1</td>\n",
       "      <td>0</td>\n",
       "      <td>0</td>\n",
       "      <td>10</td>\n",
       "      <td>2.0</td>\n",
       "      <td>33.0</td>\n",
       "      <td>13.0</td>\n",
       "      <td>1</td>\n",
       "    </tr>\n",
       "    <tr>\n",
       "      <th>1</th>\n",
       "      <td>5008805</td>\n",
       "      <td>1</td>\n",
       "      <td>1</td>\n",
       "      <td>1</td>\n",
       "      <td>0</td>\n",
       "      <td>427500.0</td>\n",
       "      <td>4</td>\n",
       "      <td>1</td>\n",
       "      <td>0</td>\n",
       "      <td>4</td>\n",
       "      <td>1</td>\n",
       "      <td>1</td>\n",
       "      <td>0</td>\n",
       "      <td>0</td>\n",
       "      <td>10</td>\n",
       "      <td>2.0</td>\n",
       "      <td>33.0</td>\n",
       "      <td>13.0</td>\n",
       "      <td>1</td>\n",
       "    </tr>\n",
       "    <tr>\n",
       "      <th>2</th>\n",
       "      <td>5008806</td>\n",
       "      <td>1</td>\n",
       "      <td>1</td>\n",
       "      <td>1</td>\n",
       "      <td>0</td>\n",
       "      <td>112500.0</td>\n",
       "      <td>4</td>\n",
       "      <td>4</td>\n",
       "      <td>1</td>\n",
       "      <td>1</td>\n",
       "      <td>1</td>\n",
       "      <td>0</td>\n",
       "      <td>0</td>\n",
       "      <td>0</td>\n",
       "      <td>16</td>\n",
       "      <td>2.0</td>\n",
       "      <td>59.0</td>\n",
       "      <td>4.0</td>\n",
       "      <td>1</td>\n",
       "    </tr>\n",
       "    <tr>\n",
       "      <th>3</th>\n",
       "      <td>5008808</td>\n",
       "      <td>0</td>\n",
       "      <td>0</td>\n",
       "      <td>1</td>\n",
       "      <td>0</td>\n",
       "      <td>270000.0</td>\n",
       "      <td>0</td>\n",
       "      <td>4</td>\n",
       "      <td>3</td>\n",
       "      <td>1</td>\n",
       "      <td>1</td>\n",
       "      <td>0</td>\n",
       "      <td>1</td>\n",
       "      <td>1</td>\n",
       "      <td>14</td>\n",
       "      <td>1.0</td>\n",
       "      <td>53.0</td>\n",
       "      <td>9.0</td>\n",
       "      <td>1</td>\n",
       "    </tr>\n",
       "    <tr>\n",
       "      <th>4</th>\n",
       "      <td>5008809</td>\n",
       "      <td>0</td>\n",
       "      <td>0</td>\n",
       "      <td>1</td>\n",
       "      <td>0</td>\n",
       "      <td>270000.0</td>\n",
       "      <td>0</td>\n",
       "      <td>4</td>\n",
       "      <td>3</td>\n",
       "      <td>1</td>\n",
       "      <td>1</td>\n",
       "      <td>0</td>\n",
       "      <td>1</td>\n",
       "      <td>1</td>\n",
       "      <td>14</td>\n",
       "      <td>1.0</td>\n",
       "      <td>53.0</td>\n",
       "      <td>9.0</td>\n",
       "      <td>1</td>\n",
       "    </tr>\n",
       "    <tr>\n",
       "      <th>5</th>\n",
       "      <td>5008810</td>\n",
       "      <td>0</td>\n",
       "      <td>0</td>\n",
       "      <td>1</td>\n",
       "      <td>0</td>\n",
       "      <td>270000.0</td>\n",
       "      <td>0</td>\n",
       "      <td>4</td>\n",
       "      <td>3</td>\n",
       "      <td>1</td>\n",
       "      <td>1</td>\n",
       "      <td>0</td>\n",
       "      <td>1</td>\n",
       "      <td>1</td>\n",
       "      <td>14</td>\n",
       "      <td>1.0</td>\n",
       "      <td>53.0</td>\n",
       "      <td>9.0</td>\n",
       "      <td>1</td>\n",
       "    </tr>\n",
       "    <tr>\n",
       "      <th>6</th>\n",
       "      <td>5008811</td>\n",
       "      <td>0</td>\n",
       "      <td>0</td>\n",
       "      <td>1</td>\n",
       "      <td>0</td>\n",
       "      <td>270000.0</td>\n",
       "      <td>0</td>\n",
       "      <td>4</td>\n",
       "      <td>3</td>\n",
       "      <td>1</td>\n",
       "      <td>1</td>\n",
       "      <td>0</td>\n",
       "      <td>1</td>\n",
       "      <td>1</td>\n",
       "      <td>14</td>\n",
       "      <td>1.0</td>\n",
       "      <td>53.0</td>\n",
       "      <td>9.0</td>\n",
       "      <td>1</td>\n",
       "    </tr>\n",
       "    <tr>\n",
       "      <th>7</th>\n",
       "      <td>5008812</td>\n",
       "      <td>0</td>\n",
       "      <td>0</td>\n",
       "      <td>1</td>\n",
       "      <td>0</td>\n",
       "      <td>283500.0</td>\n",
       "      <td>1</td>\n",
       "      <td>1</td>\n",
       "      <td>2</td>\n",
       "      <td>1</td>\n",
       "      <td>1</td>\n",
       "      <td>0</td>\n",
       "      <td>0</td>\n",
       "      <td>0</td>\n",
       "      <td>3</td>\n",
       "      <td>1.0</td>\n",
       "      <td>62.0</td>\n",
       "      <td>-0.0</td>\n",
       "      <td>1</td>\n",
       "    </tr>\n",
       "    <tr>\n",
       "      <th>8</th>\n",
       "      <td>5008813</td>\n",
       "      <td>0</td>\n",
       "      <td>0</td>\n",
       "      <td>1</td>\n",
       "      <td>0</td>\n",
       "      <td>283500.0</td>\n",
       "      <td>1</td>\n",
       "      <td>1</td>\n",
       "      <td>2</td>\n",
       "      <td>1</td>\n",
       "      <td>1</td>\n",
       "      <td>0</td>\n",
       "      <td>0</td>\n",
       "      <td>0</td>\n",
       "      <td>3</td>\n",
       "      <td>1.0</td>\n",
       "      <td>62.0</td>\n",
       "      <td>-0.0</td>\n",
       "      <td>1</td>\n",
       "    </tr>\n",
       "    <tr>\n",
       "      <th>9</th>\n",
       "      <td>5008814</td>\n",
       "      <td>0</td>\n",
       "      <td>0</td>\n",
       "      <td>1</td>\n",
       "      <td>0</td>\n",
       "      <td>283500.0</td>\n",
       "      <td>1</td>\n",
       "      <td>1</td>\n",
       "      <td>2</td>\n",
       "      <td>1</td>\n",
       "      <td>1</td>\n",
       "      <td>0</td>\n",
       "      <td>0</td>\n",
       "      <td>0</td>\n",
       "      <td>3</td>\n",
       "      <td>1.0</td>\n",
       "      <td>62.0</td>\n",
       "      <td>-0.0</td>\n",
       "      <td>1</td>\n",
       "    </tr>\n",
       "  </tbody>\n",
       "</table>\n",
       "</div>"
      ],
      "text/plain": [
       "        ID  CODE_GENDER  FLAG_OWN_CAR  FLAG_OWN_REALTY  CNT_CHILDREN  \\\n",
       "0  5008804            1             1                1             0   \n",
       "1  5008805            1             1                1             0   \n",
       "2  5008806            1             1                1             0   \n",
       "3  5008808            0             0                1             0   \n",
       "4  5008809            0             0                1             0   \n",
       "5  5008810            0             0                1             0   \n",
       "6  5008811            0             0                1             0   \n",
       "7  5008812            0             0                1             0   \n",
       "8  5008813            0             0                1             0   \n",
       "9  5008814            0             0                1             0   \n",
       "\n",
       "   AMT_INCOME_TOTAL  NAME_INCOME_TYPE  NAME_EDUCATION_TYPE  \\\n",
       "0          427500.0                 4                    1   \n",
       "1          427500.0                 4                    1   \n",
       "2          112500.0                 4                    4   \n",
       "3          270000.0                 0                    4   \n",
       "4          270000.0                 0                    4   \n",
       "5          270000.0                 0                    4   \n",
       "6          270000.0                 0                    4   \n",
       "7          283500.0                 1                    1   \n",
       "8          283500.0                 1                    1   \n",
       "9          283500.0                 1                    1   \n",
       "\n",
       "   NAME_FAMILY_STATUS  NAME_HOUSING_TYPE  FLAG_MOBIL  FLAG_WORK_PHONE  \\\n",
       "0                   0                  4           1                1   \n",
       "1                   0                  4           1                1   \n",
       "2                   1                  1           1                0   \n",
       "3                   3                  1           1                0   \n",
       "4                   3                  1           1                0   \n",
       "5                   3                  1           1                0   \n",
       "6                   3                  1           1                0   \n",
       "7                   2                  1           1                0   \n",
       "8                   2                  1           1                0   \n",
       "9                   2                  1           1                0   \n",
       "\n",
       "   FLAG_PHONE  FLAG_EMAIL  OCCUPATION_TYPE  CNT_FAM_MEMBERS   AGE  \\\n",
       "0           0           0               10              2.0  33.0   \n",
       "1           0           0               10              2.0  33.0   \n",
       "2           0           0               16              2.0  59.0   \n",
       "3           1           1               14              1.0  53.0   \n",
       "4           1           1               14              1.0  53.0   \n",
       "5           1           1               14              1.0  53.0   \n",
       "6           1           1               14              1.0  53.0   \n",
       "7           0           0                3              1.0  62.0   \n",
       "8           0           0                3              1.0  62.0   \n",
       "9           0           0                3              1.0  62.0   \n",
       "\n",
       "   YEARS_EMPLOYED  CREDIT_APPROVAL_STATUS  \n",
       "0            13.0                       1  \n",
       "1            13.0                       1  \n",
       "2             4.0                       1  \n",
       "3             9.0                       1  \n",
       "4             9.0                       1  \n",
       "5             9.0                       1  \n",
       "6             9.0                       1  \n",
       "7            -0.0                       1  \n",
       "8            -0.0                       1  \n",
       "9            -0.0                       1  "
      ]
     },
     "execution_count": 62,
     "metadata": {},
     "output_type": "execute_result"
    }
   ],
   "source": [
    "Final_Credit_data.head(10)"
   ]
  },
  {
   "cell_type": "code",
   "execution_count": 63,
   "metadata": {
    "execution": {
     "iopub.execute_input": "2022-04-19T05:04:35.057522Z",
     "iopub.status.busy": "2022-04-19T05:04:35.056825Z",
     "iopub.status.idle": "2022-04-19T05:04:35.069115Z",
     "shell.execute_reply": "2022-04-19T05:04:35.068321Z",
     "shell.execute_reply.started": "2022-04-19T05:04:35.057476Z"
    }
   },
   "outputs": [],
   "source": [
    "credit_approval_data = Final_Credit_data.drop('ID', axis=1, inplace=False)"
   ]
  },
  {
   "cell_type": "code",
   "execution_count": 64,
   "metadata": {
    "execution": {
     "iopub.execute_input": "2022-04-19T05:04:38.443446Z",
     "iopub.status.busy": "2022-04-19T05:04:38.442553Z",
     "iopub.status.idle": "2022-04-19T05:04:38.470194Z",
     "shell.execute_reply": "2022-04-19T05:04:38.469019Z",
     "shell.execute_reply.started": "2022-04-19T05:04:38.443404Z"
    }
   },
   "outputs": [
    {
     "data": {
      "text/html": [
       "<div>\n",
       "<style scoped>\n",
       "    .dataframe tbody tr th:only-of-type {\n",
       "        vertical-align: middle;\n",
       "    }\n",
       "\n",
       "    .dataframe tbody tr th {\n",
       "        vertical-align: top;\n",
       "    }\n",
       "\n",
       "    .dataframe thead th {\n",
       "        text-align: right;\n",
       "    }\n",
       "</style>\n",
       "<table border=\"1\" class=\"dataframe\">\n",
       "  <thead>\n",
       "    <tr style=\"text-align: right;\">\n",
       "      <th></th>\n",
       "      <th>CODE_GENDER</th>\n",
       "      <th>FLAG_OWN_CAR</th>\n",
       "      <th>FLAG_OWN_REALTY</th>\n",
       "      <th>CNT_CHILDREN</th>\n",
       "      <th>AMT_INCOME_TOTAL</th>\n",
       "      <th>NAME_INCOME_TYPE</th>\n",
       "      <th>NAME_EDUCATION_TYPE</th>\n",
       "      <th>NAME_FAMILY_STATUS</th>\n",
       "      <th>NAME_HOUSING_TYPE</th>\n",
       "      <th>FLAG_MOBIL</th>\n",
       "      <th>FLAG_WORK_PHONE</th>\n",
       "      <th>FLAG_PHONE</th>\n",
       "      <th>FLAG_EMAIL</th>\n",
       "      <th>OCCUPATION_TYPE</th>\n",
       "      <th>CNT_FAM_MEMBERS</th>\n",
       "      <th>AGE</th>\n",
       "      <th>YEARS_EMPLOYED</th>\n",
       "      <th>CREDIT_APPROVAL_STATUS</th>\n",
       "    </tr>\n",
       "  </thead>\n",
       "  <tbody>\n",
       "    <tr>\n",
       "      <th>0</th>\n",
       "      <td>1</td>\n",
       "      <td>1</td>\n",
       "      <td>1</td>\n",
       "      <td>0</td>\n",
       "      <td>427500.0</td>\n",
       "      <td>4</td>\n",
       "      <td>1</td>\n",
       "      <td>0</td>\n",
       "      <td>4</td>\n",
       "      <td>1</td>\n",
       "      <td>1</td>\n",
       "      <td>0</td>\n",
       "      <td>0</td>\n",
       "      <td>10</td>\n",
       "      <td>2.0</td>\n",
       "      <td>33.0</td>\n",
       "      <td>13.0</td>\n",
       "      <td>1</td>\n",
       "    </tr>\n",
       "    <tr>\n",
       "      <th>1</th>\n",
       "      <td>1</td>\n",
       "      <td>1</td>\n",
       "      <td>1</td>\n",
       "      <td>0</td>\n",
       "      <td>427500.0</td>\n",
       "      <td>4</td>\n",
       "      <td>1</td>\n",
       "      <td>0</td>\n",
       "      <td>4</td>\n",
       "      <td>1</td>\n",
       "      <td>1</td>\n",
       "      <td>0</td>\n",
       "      <td>0</td>\n",
       "      <td>10</td>\n",
       "      <td>2.0</td>\n",
       "      <td>33.0</td>\n",
       "      <td>13.0</td>\n",
       "      <td>1</td>\n",
       "    </tr>\n",
       "    <tr>\n",
       "      <th>2</th>\n",
       "      <td>1</td>\n",
       "      <td>1</td>\n",
       "      <td>1</td>\n",
       "      <td>0</td>\n",
       "      <td>112500.0</td>\n",
       "      <td>4</td>\n",
       "      <td>4</td>\n",
       "      <td>1</td>\n",
       "      <td>1</td>\n",
       "      <td>1</td>\n",
       "      <td>0</td>\n",
       "      <td>0</td>\n",
       "      <td>0</td>\n",
       "      <td>16</td>\n",
       "      <td>2.0</td>\n",
       "      <td>59.0</td>\n",
       "      <td>4.0</td>\n",
       "      <td>1</td>\n",
       "    </tr>\n",
       "    <tr>\n",
       "      <th>3</th>\n",
       "      <td>0</td>\n",
       "      <td>0</td>\n",
       "      <td>1</td>\n",
       "      <td>0</td>\n",
       "      <td>270000.0</td>\n",
       "      <td>0</td>\n",
       "      <td>4</td>\n",
       "      <td>3</td>\n",
       "      <td>1</td>\n",
       "      <td>1</td>\n",
       "      <td>0</td>\n",
       "      <td>1</td>\n",
       "      <td>1</td>\n",
       "      <td>14</td>\n",
       "      <td>1.0</td>\n",
       "      <td>53.0</td>\n",
       "      <td>9.0</td>\n",
       "      <td>1</td>\n",
       "    </tr>\n",
       "    <tr>\n",
       "      <th>4</th>\n",
       "      <td>0</td>\n",
       "      <td>0</td>\n",
       "      <td>1</td>\n",
       "      <td>0</td>\n",
       "      <td>270000.0</td>\n",
       "      <td>0</td>\n",
       "      <td>4</td>\n",
       "      <td>3</td>\n",
       "      <td>1</td>\n",
       "      <td>1</td>\n",
       "      <td>0</td>\n",
       "      <td>1</td>\n",
       "      <td>1</td>\n",
       "      <td>14</td>\n",
       "      <td>1.0</td>\n",
       "      <td>53.0</td>\n",
       "      <td>9.0</td>\n",
       "      <td>1</td>\n",
       "    </tr>\n",
       "    <tr>\n",
       "      <th>...</th>\n",
       "      <td>...</td>\n",
       "      <td>...</td>\n",
       "      <td>...</td>\n",
       "      <td>...</td>\n",
       "      <td>...</td>\n",
       "      <td>...</td>\n",
       "      <td>...</td>\n",
       "      <td>...</td>\n",
       "      <td>...</td>\n",
       "      <td>...</td>\n",
       "      <td>...</td>\n",
       "      <td>...</td>\n",
       "      <td>...</td>\n",
       "      <td>...</td>\n",
       "      <td>...</td>\n",
       "      <td>...</td>\n",
       "      <td>...</td>\n",
       "      <td>...</td>\n",
       "    </tr>\n",
       "    <tr>\n",
       "      <th>36452</th>\n",
       "      <td>1</td>\n",
       "      <td>1</td>\n",
       "      <td>1</td>\n",
       "      <td>0</td>\n",
       "      <td>315000.0</td>\n",
       "      <td>4</td>\n",
       "      <td>4</td>\n",
       "      <td>1</td>\n",
       "      <td>1</td>\n",
       "      <td>1</td>\n",
       "      <td>0</td>\n",
       "      <td>0</td>\n",
       "      <td>0</td>\n",
       "      <td>10</td>\n",
       "      <td>2.0</td>\n",
       "      <td>48.0</td>\n",
       "      <td>7.0</td>\n",
       "      <td>0</td>\n",
       "    </tr>\n",
       "    <tr>\n",
       "      <th>36453</th>\n",
       "      <td>0</td>\n",
       "      <td>0</td>\n",
       "      <td>1</td>\n",
       "      <td>0</td>\n",
       "      <td>157500.0</td>\n",
       "      <td>0</td>\n",
       "      <td>1</td>\n",
       "      <td>1</td>\n",
       "      <td>1</td>\n",
       "      <td>1</td>\n",
       "      <td>0</td>\n",
       "      <td>1</td>\n",
       "      <td>1</td>\n",
       "      <td>11</td>\n",
       "      <td>2.0</td>\n",
       "      <td>34.0</td>\n",
       "      <td>4.0</td>\n",
       "      <td>0</td>\n",
       "    </tr>\n",
       "    <tr>\n",
       "      <th>36454</th>\n",
       "      <td>0</td>\n",
       "      <td>0</td>\n",
       "      <td>1</td>\n",
       "      <td>0</td>\n",
       "      <td>157500.0</td>\n",
       "      <td>1</td>\n",
       "      <td>1</td>\n",
       "      <td>1</td>\n",
       "      <td>1</td>\n",
       "      <td>1</td>\n",
       "      <td>0</td>\n",
       "      <td>1</td>\n",
       "      <td>1</td>\n",
       "      <td>11</td>\n",
       "      <td>2.0</td>\n",
       "      <td>34.0</td>\n",
       "      <td>4.0</td>\n",
       "      <td>1</td>\n",
       "    </tr>\n",
       "    <tr>\n",
       "      <th>36455</th>\n",
       "      <td>0</td>\n",
       "      <td>0</td>\n",
       "      <td>1</td>\n",
       "      <td>0</td>\n",
       "      <td>283500.0</td>\n",
       "      <td>4</td>\n",
       "      <td>4</td>\n",
       "      <td>1</td>\n",
       "      <td>1</td>\n",
       "      <td>1</td>\n",
       "      <td>0</td>\n",
       "      <td>0</td>\n",
       "      <td>0</td>\n",
       "      <td>14</td>\n",
       "      <td>2.0</td>\n",
       "      <td>50.0</td>\n",
       "      <td>2.0</td>\n",
       "      <td>1</td>\n",
       "    </tr>\n",
       "    <tr>\n",
       "      <th>36456</th>\n",
       "      <td>1</td>\n",
       "      <td>0</td>\n",
       "      <td>1</td>\n",
       "      <td>0</td>\n",
       "      <td>112500.0</td>\n",
       "      <td>4</td>\n",
       "      <td>4</td>\n",
       "      <td>3</td>\n",
       "      <td>4</td>\n",
       "      <td>1</td>\n",
       "      <td>0</td>\n",
       "      <td>0</td>\n",
       "      <td>0</td>\n",
       "      <td>8</td>\n",
       "      <td>1.0</td>\n",
       "      <td>26.0</td>\n",
       "      <td>4.0</td>\n",
       "      <td>1</td>\n",
       "    </tr>\n",
       "  </tbody>\n",
       "</table>\n",
       "<p>36457 rows × 18 columns</p>\n",
       "</div>"
      ],
      "text/plain": [
       "       CODE_GENDER  FLAG_OWN_CAR  FLAG_OWN_REALTY  CNT_CHILDREN  \\\n",
       "0                1             1                1             0   \n",
       "1                1             1                1             0   \n",
       "2                1             1                1             0   \n",
       "3                0             0                1             0   \n",
       "4                0             0                1             0   \n",
       "...            ...           ...              ...           ...   \n",
       "36452            1             1                1             0   \n",
       "36453            0             0                1             0   \n",
       "36454            0             0                1             0   \n",
       "36455            0             0                1             0   \n",
       "36456            1             0                1             0   \n",
       "\n",
       "       AMT_INCOME_TOTAL  NAME_INCOME_TYPE  NAME_EDUCATION_TYPE  \\\n",
       "0              427500.0                 4                    1   \n",
       "1              427500.0                 4                    1   \n",
       "2              112500.0                 4                    4   \n",
       "3              270000.0                 0                    4   \n",
       "4              270000.0                 0                    4   \n",
       "...                 ...               ...                  ...   \n",
       "36452          315000.0                 4                    4   \n",
       "36453          157500.0                 0                    1   \n",
       "36454          157500.0                 1                    1   \n",
       "36455          283500.0                 4                    4   \n",
       "36456          112500.0                 4                    4   \n",
       "\n",
       "       NAME_FAMILY_STATUS  NAME_HOUSING_TYPE  FLAG_MOBIL  FLAG_WORK_PHONE  \\\n",
       "0                       0                  4           1                1   \n",
       "1                       0                  4           1                1   \n",
       "2                       1                  1           1                0   \n",
       "3                       3                  1           1                0   \n",
       "4                       3                  1           1                0   \n",
       "...                   ...                ...         ...              ...   \n",
       "36452                   1                  1           1                0   \n",
       "36453                   1                  1           1                0   \n",
       "36454                   1                  1           1                0   \n",
       "36455                   1                  1           1                0   \n",
       "36456                   3                  4           1                0   \n",
       "\n",
       "       FLAG_PHONE  FLAG_EMAIL  OCCUPATION_TYPE  CNT_FAM_MEMBERS   AGE  \\\n",
       "0               0           0               10              2.0  33.0   \n",
       "1               0           0               10              2.0  33.0   \n",
       "2               0           0               16              2.0  59.0   \n",
       "3               1           1               14              1.0  53.0   \n",
       "4               1           1               14              1.0  53.0   \n",
       "...           ...         ...              ...              ...   ...   \n",
       "36452           0           0               10              2.0  48.0   \n",
       "36453           1           1               11              2.0  34.0   \n",
       "36454           1           1               11              2.0  34.0   \n",
       "36455           0           0               14              2.0  50.0   \n",
       "36456           0           0                8              1.0  26.0   \n",
       "\n",
       "       YEARS_EMPLOYED  CREDIT_APPROVAL_STATUS  \n",
       "0                13.0                       1  \n",
       "1                13.0                       1  \n",
       "2                 4.0                       1  \n",
       "3                 9.0                       1  \n",
       "4                 9.0                       1  \n",
       "...               ...                     ...  \n",
       "36452             7.0                       0  \n",
       "36453             4.0                       0  \n",
       "36454             4.0                       1  \n",
       "36455             2.0                       1  \n",
       "36456             4.0                       1  \n",
       "\n",
       "[36457 rows x 18 columns]"
      ]
     },
     "execution_count": 64,
     "metadata": {},
     "output_type": "execute_result"
    }
   ],
   "source": [
    "credit_approval_data"
   ]
  },
  {
   "cell_type": "code",
   "execution_count": 65,
   "metadata": {},
   "outputs": [
    {
     "data": {
      "text/plain": [
       "1    36281\n",
       "0      176\n",
       "Name: CREDIT_APPROVAL_STATUS, dtype: int64"
      ]
     },
     "execution_count": 65,
     "metadata": {},
     "output_type": "execute_result"
    }
   ],
   "source": [
    "credit_approval_data['CREDIT_APPROVAL_STATUS'].value_counts()"
   ]
  },
  {
   "cell_type": "markdown",
   "metadata": {},
   "source": [
    "This shows that there is still a problem of Class imbalance (Minority clas 0.48 % only) as using this dataset may bias our prediction towards the approval :1 class more than towards the approval:0 class because of sheer difference in the class representation in our dataset. Hence, addressing this problem becomes a priority.   "
   ]
  },
  {
   "cell_type": "code",
   "execution_count": 66,
   "metadata": {
    "execution": {
     "iopub.execute_input": "2022-04-19T05:04:39.669599Z",
     "iopub.status.busy": "2022-04-19T05:04:39.668805Z",
     "iopub.status.idle": "2022-04-19T05:04:39.758507Z",
     "shell.execute_reply": "2022-04-19T05:04:39.757394Z",
     "shell.execute_reply.started": "2022-04-19T05:04:39.66955Z"
    }
   },
   "outputs": [
    {
     "data": {
      "text/html": [
       "<div>\n",
       "<style scoped>\n",
       "    .dataframe tbody tr th:only-of-type {\n",
       "        vertical-align: middle;\n",
       "    }\n",
       "\n",
       "    .dataframe tbody tr th {\n",
       "        vertical-align: top;\n",
       "    }\n",
       "\n",
       "    .dataframe thead th {\n",
       "        text-align: right;\n",
       "    }\n",
       "</style>\n",
       "<table border=\"1\" class=\"dataframe\">\n",
       "  <thead>\n",
       "    <tr style=\"text-align: right;\">\n",
       "      <th></th>\n",
       "      <th>count</th>\n",
       "      <th>mean</th>\n",
       "      <th>std</th>\n",
       "      <th>min</th>\n",
       "      <th>25%</th>\n",
       "      <th>50%</th>\n",
       "      <th>75%</th>\n",
       "      <th>max</th>\n",
       "    </tr>\n",
       "  </thead>\n",
       "  <tbody>\n",
       "    <tr>\n",
       "      <th>CODE_GENDER</th>\n",
       "      <td>36457.0</td>\n",
       "      <td>0.329895</td>\n",
       "      <td>0.470181</td>\n",
       "      <td>0.0</td>\n",
       "      <td>0.0</td>\n",
       "      <td>0.0</td>\n",
       "      <td>1.0</td>\n",
       "      <td>1.0</td>\n",
       "    </tr>\n",
       "    <tr>\n",
       "      <th>FLAG_OWN_CAR</th>\n",
       "      <td>36457.0</td>\n",
       "      <td>0.379708</td>\n",
       "      <td>0.485321</td>\n",
       "      <td>0.0</td>\n",
       "      <td>0.0</td>\n",
       "      <td>0.0</td>\n",
       "      <td>1.0</td>\n",
       "      <td>1.0</td>\n",
       "    </tr>\n",
       "    <tr>\n",
       "      <th>FLAG_OWN_REALTY</th>\n",
       "      <td>36457.0</td>\n",
       "      <td>0.672189</td>\n",
       "      <td>0.469422</td>\n",
       "      <td>0.0</td>\n",
       "      <td>0.0</td>\n",
       "      <td>1.0</td>\n",
       "      <td>1.0</td>\n",
       "      <td>1.0</td>\n",
       "    </tr>\n",
       "    <tr>\n",
       "      <th>CNT_CHILDREN</th>\n",
       "      <td>36457.0</td>\n",
       "      <td>0.430315</td>\n",
       "      <td>0.742367</td>\n",
       "      <td>0.0</td>\n",
       "      <td>0.0</td>\n",
       "      <td>0.0</td>\n",
       "      <td>1.0</td>\n",
       "      <td>19.0</td>\n",
       "    </tr>\n",
       "    <tr>\n",
       "      <th>AMT_INCOME_TOTAL</th>\n",
       "      <td>36457.0</td>\n",
       "      <td>186685.736662</td>\n",
       "      <td>101789.226482</td>\n",
       "      <td>27000.0</td>\n",
       "      <td>121500.0</td>\n",
       "      <td>157500.0</td>\n",
       "      <td>225000.0</td>\n",
       "      <td>1575000.0</td>\n",
       "    </tr>\n",
       "    <tr>\n",
       "      <th>NAME_INCOME_TYPE</th>\n",
       "      <td>36457.0</td>\n",
       "      <td>2.398195</td>\n",
       "      <td>1.734032</td>\n",
       "      <td>0.0</td>\n",
       "      <td>1.0</td>\n",
       "      <td>4.0</td>\n",
       "      <td>4.0</td>\n",
       "      <td>4.0</td>\n",
       "    </tr>\n",
       "    <tr>\n",
       "      <th>NAME_EDUCATION_TYPE</th>\n",
       "      <td>36457.0</td>\n",
       "      <td>3.097183</td>\n",
       "      <td>1.341292</td>\n",
       "      <td>0.0</td>\n",
       "      <td>1.0</td>\n",
       "      <td>4.0</td>\n",
       "      <td>4.0</td>\n",
       "      <td>4.0</td>\n",
       "    </tr>\n",
       "    <tr>\n",
       "      <th>NAME_FAMILY_STATUS</th>\n",
       "      <td>36457.0</td>\n",
       "      <td>1.367885</td>\n",
       "      <td>0.954557</td>\n",
       "      <td>0.0</td>\n",
       "      <td>1.0</td>\n",
       "      <td>1.0</td>\n",
       "      <td>1.0</td>\n",
       "      <td>4.0</td>\n",
       "    </tr>\n",
       "    <tr>\n",
       "      <th>NAME_HOUSING_TYPE</th>\n",
       "      <td>36457.0</td>\n",
       "      <td>1.282881</td>\n",
       "      <td>0.951675</td>\n",
       "      <td>0.0</td>\n",
       "      <td>1.0</td>\n",
       "      <td>1.0</td>\n",
       "      <td>1.0</td>\n",
       "      <td>5.0</td>\n",
       "    </tr>\n",
       "    <tr>\n",
       "      <th>FLAG_MOBIL</th>\n",
       "      <td>36457.0</td>\n",
       "      <td>1.000000</td>\n",
       "      <td>0.000000</td>\n",
       "      <td>1.0</td>\n",
       "      <td>1.0</td>\n",
       "      <td>1.0</td>\n",
       "      <td>1.0</td>\n",
       "      <td>1.0</td>\n",
       "    </tr>\n",
       "    <tr>\n",
       "      <th>FLAG_WORK_PHONE</th>\n",
       "      <td>36457.0</td>\n",
       "      <td>0.225526</td>\n",
       "      <td>0.417934</td>\n",
       "      <td>0.0</td>\n",
       "      <td>0.0</td>\n",
       "      <td>0.0</td>\n",
       "      <td>0.0</td>\n",
       "      <td>1.0</td>\n",
       "    </tr>\n",
       "    <tr>\n",
       "      <th>FLAG_PHONE</th>\n",
       "      <td>36457.0</td>\n",
       "      <td>0.294813</td>\n",
       "      <td>0.455965</td>\n",
       "      <td>0.0</td>\n",
       "      <td>0.0</td>\n",
       "      <td>0.0</td>\n",
       "      <td>1.0</td>\n",
       "      <td>1.0</td>\n",
       "    </tr>\n",
       "    <tr>\n",
       "      <th>FLAG_EMAIL</th>\n",
       "      <td>36457.0</td>\n",
       "      <td>0.089722</td>\n",
       "      <td>0.285787</td>\n",
       "      <td>0.0</td>\n",
       "      <td>0.0</td>\n",
       "      <td>0.0</td>\n",
       "      <td>0.0</td>\n",
       "      <td>1.0</td>\n",
       "    </tr>\n",
       "    <tr>\n",
       "      <th>OCCUPATION_TYPE</th>\n",
       "      <td>36457.0</td>\n",
       "      <td>7.521793</td>\n",
       "      <td>3.804546</td>\n",
       "      <td>0.0</td>\n",
       "      <td>4.0</td>\n",
       "      <td>8.0</td>\n",
       "      <td>10.0</td>\n",
       "      <td>17.0</td>\n",
       "    </tr>\n",
       "    <tr>\n",
       "      <th>CNT_FAM_MEMBERS</th>\n",
       "      <td>36457.0</td>\n",
       "      <td>2.198453</td>\n",
       "      <td>0.911686</td>\n",
       "      <td>1.0</td>\n",
       "      <td>2.0</td>\n",
       "      <td>2.0</td>\n",
       "      <td>3.0</td>\n",
       "      <td>20.0</td>\n",
       "    </tr>\n",
       "    <tr>\n",
       "      <th>AGE</th>\n",
       "      <td>36457.0</td>\n",
       "      <td>44.231368</td>\n",
       "      <td>11.504127</td>\n",
       "      <td>21.0</td>\n",
       "      <td>35.0</td>\n",
       "      <td>43.0</td>\n",
       "      <td>54.0</td>\n",
       "      <td>69.0</td>\n",
       "    </tr>\n",
       "    <tr>\n",
       "      <th>YEARS_EMPLOYED</th>\n",
       "      <td>36457.0</td>\n",
       "      <td>6.444496</td>\n",
       "      <td>6.570677</td>\n",
       "      <td>-0.0</td>\n",
       "      <td>2.0</td>\n",
       "      <td>5.0</td>\n",
       "      <td>9.0</td>\n",
       "      <td>44.0</td>\n",
       "    </tr>\n",
       "    <tr>\n",
       "      <th>CREDIT_APPROVAL_STATUS</th>\n",
       "      <td>36457.0</td>\n",
       "      <td>0.995172</td>\n",
       "      <td>0.069314</td>\n",
       "      <td>0.0</td>\n",
       "      <td>1.0</td>\n",
       "      <td>1.0</td>\n",
       "      <td>1.0</td>\n",
       "      <td>1.0</td>\n",
       "    </tr>\n",
       "  </tbody>\n",
       "</table>\n",
       "</div>"
      ],
      "text/plain": [
       "                          count           mean            std      min  \\\n",
       "CODE_GENDER             36457.0       0.329895       0.470181      0.0   \n",
       "FLAG_OWN_CAR            36457.0       0.379708       0.485321      0.0   \n",
       "FLAG_OWN_REALTY         36457.0       0.672189       0.469422      0.0   \n",
       "CNT_CHILDREN            36457.0       0.430315       0.742367      0.0   \n",
       "AMT_INCOME_TOTAL        36457.0  186685.736662  101789.226482  27000.0   \n",
       "NAME_INCOME_TYPE        36457.0       2.398195       1.734032      0.0   \n",
       "NAME_EDUCATION_TYPE     36457.0       3.097183       1.341292      0.0   \n",
       "NAME_FAMILY_STATUS      36457.0       1.367885       0.954557      0.0   \n",
       "NAME_HOUSING_TYPE       36457.0       1.282881       0.951675      0.0   \n",
       "FLAG_MOBIL              36457.0       1.000000       0.000000      1.0   \n",
       "FLAG_WORK_PHONE         36457.0       0.225526       0.417934      0.0   \n",
       "FLAG_PHONE              36457.0       0.294813       0.455965      0.0   \n",
       "FLAG_EMAIL              36457.0       0.089722       0.285787      0.0   \n",
       "OCCUPATION_TYPE         36457.0       7.521793       3.804546      0.0   \n",
       "CNT_FAM_MEMBERS         36457.0       2.198453       0.911686      1.0   \n",
       "AGE                     36457.0      44.231368      11.504127     21.0   \n",
       "YEARS_EMPLOYED          36457.0       6.444496       6.570677     -0.0   \n",
       "CREDIT_APPROVAL_STATUS  36457.0       0.995172       0.069314      0.0   \n",
       "\n",
       "                             25%       50%       75%        max  \n",
       "CODE_GENDER                  0.0       0.0       1.0        1.0  \n",
       "FLAG_OWN_CAR                 0.0       0.0       1.0        1.0  \n",
       "FLAG_OWN_REALTY              0.0       1.0       1.0        1.0  \n",
       "CNT_CHILDREN                 0.0       0.0       1.0       19.0  \n",
       "AMT_INCOME_TOTAL        121500.0  157500.0  225000.0  1575000.0  \n",
       "NAME_INCOME_TYPE             1.0       4.0       4.0        4.0  \n",
       "NAME_EDUCATION_TYPE          1.0       4.0       4.0        4.0  \n",
       "NAME_FAMILY_STATUS           1.0       1.0       1.0        4.0  \n",
       "NAME_HOUSING_TYPE            1.0       1.0       1.0        5.0  \n",
       "FLAG_MOBIL                   1.0       1.0       1.0        1.0  \n",
       "FLAG_WORK_PHONE              0.0       0.0       0.0        1.0  \n",
       "FLAG_PHONE                   0.0       0.0       1.0        1.0  \n",
       "FLAG_EMAIL                   0.0       0.0       0.0        1.0  \n",
       "OCCUPATION_TYPE              4.0       8.0      10.0       17.0  \n",
       "CNT_FAM_MEMBERS              2.0       2.0       3.0       20.0  \n",
       "AGE                         35.0      43.0      54.0       69.0  \n",
       "YEARS_EMPLOYED               2.0       5.0       9.0       44.0  \n",
       "CREDIT_APPROVAL_STATUS       1.0       1.0       1.0        1.0  "
      ]
     },
     "execution_count": 66,
     "metadata": {},
     "output_type": "execute_result"
    }
   ],
   "source": [
    "credit_approval_data.describe().T"
   ]
  },
  {
   "cell_type": "code",
   "execution_count": 67,
   "metadata": {},
   "outputs": [
    {
     "name": "stdout",
     "output_type": "stream",
     "text": [
      "<class 'pandas.core.frame.DataFrame'>\n",
      "Int64Index: 36457 entries, 0 to 36456\n",
      "Data columns (total 18 columns):\n",
      " #   Column                  Non-Null Count  Dtype  \n",
      "---  ------                  --------------  -----  \n",
      " 0   CODE_GENDER             36457 non-null  int64  \n",
      " 1   FLAG_OWN_CAR            36457 non-null  int64  \n",
      " 2   FLAG_OWN_REALTY         36457 non-null  int64  \n",
      " 3   CNT_CHILDREN            36457 non-null  int64  \n",
      " 4   AMT_INCOME_TOTAL        36457 non-null  float64\n",
      " 5   NAME_INCOME_TYPE        36457 non-null  int64  \n",
      " 6   NAME_EDUCATION_TYPE     36457 non-null  int64  \n",
      " 7   NAME_FAMILY_STATUS      36457 non-null  int64  \n",
      " 8   NAME_HOUSING_TYPE       36457 non-null  int64  \n",
      " 9   FLAG_MOBIL              36457 non-null  int64  \n",
      " 10  FLAG_WORK_PHONE         36457 non-null  int64  \n",
      " 11  FLAG_PHONE              36457 non-null  int64  \n",
      " 12  FLAG_EMAIL              36457 non-null  int64  \n",
      " 13  OCCUPATION_TYPE         36457 non-null  int64  \n",
      " 14  CNT_FAM_MEMBERS         36457 non-null  float64\n",
      " 15  AGE                     36457 non-null  float64\n",
      " 16  YEARS_EMPLOYED          36457 non-null  float64\n",
      " 17  CREDIT_APPROVAL_STATUS  36457 non-null  int32  \n",
      "dtypes: float64(4), int32(1), int64(13)\n",
      "memory usage: 5.1 MB\n"
     ]
    }
   ],
   "source": [
    "credit_approval_data.info()"
   ]
  },
  {
   "cell_type": "markdown",
   "metadata": {},
   "source": [
    "### Feature Scaling for undue variance in income and age features when compared to others"
   ]
  },
  {
   "cell_type": "code",
   "execution_count": 68,
   "metadata": {},
   "outputs": [],
   "source": [
    "from sklearn.preprocessing import MinMaxScaler\n",
    "income = np.array(credit_approval_data['AMT_INCOME_TOTAL']).reshape(-1,1)\n",
    "age = np.array(credit_approval_data['AGE']).reshape(-1,1)\n",
    "scaler = MinMaxScaler()\n",
    "\n",
    "scaler.fit(income)\n",
    "income_scaled = scaler.transform(income)\n",
    "\n",
    "scaler.fit(age)\n",
    "age_scaled = scaler.transform(age)"
   ]
  },
  {
   "cell_type": "code",
   "execution_count": 69,
   "metadata": {},
   "outputs": [],
   "source": [
    "credit_approval_data['Scaled Income'] = income_scaled.reshape(1,-1)[0]\n",
    "credit_approval_data['Scaled Age'] = age_scaled.reshape(1,-1)[0]"
   ]
  },
  {
   "cell_type": "code",
   "execution_count": 70,
   "metadata": {
    "scrolled": true
   },
   "outputs": [
    {
     "data": {
      "text/html": [
       "<div>\n",
       "<style scoped>\n",
       "    .dataframe tbody tr th:only-of-type {\n",
       "        vertical-align: middle;\n",
       "    }\n",
       "\n",
       "    .dataframe tbody tr th {\n",
       "        vertical-align: top;\n",
       "    }\n",
       "\n",
       "    .dataframe thead th {\n",
       "        text-align: right;\n",
       "    }\n",
       "</style>\n",
       "<table border=\"1\" class=\"dataframe\">\n",
       "  <thead>\n",
       "    <tr style=\"text-align: right;\">\n",
       "      <th></th>\n",
       "      <th>CODE_GENDER</th>\n",
       "      <th>FLAG_OWN_CAR</th>\n",
       "      <th>FLAG_OWN_REALTY</th>\n",
       "      <th>CNT_CHILDREN</th>\n",
       "      <th>AMT_INCOME_TOTAL</th>\n",
       "      <th>NAME_INCOME_TYPE</th>\n",
       "      <th>NAME_EDUCATION_TYPE</th>\n",
       "      <th>NAME_FAMILY_STATUS</th>\n",
       "      <th>NAME_HOUSING_TYPE</th>\n",
       "      <th>FLAG_MOBIL</th>\n",
       "      <th>FLAG_WORK_PHONE</th>\n",
       "      <th>FLAG_PHONE</th>\n",
       "      <th>FLAG_EMAIL</th>\n",
       "      <th>OCCUPATION_TYPE</th>\n",
       "      <th>CNT_FAM_MEMBERS</th>\n",
       "      <th>AGE</th>\n",
       "      <th>YEARS_EMPLOYED</th>\n",
       "      <th>CREDIT_APPROVAL_STATUS</th>\n",
       "      <th>Scaled Income</th>\n",
       "      <th>Scaled Age</th>\n",
       "    </tr>\n",
       "  </thead>\n",
       "  <tbody>\n",
       "    <tr>\n",
       "      <th>0</th>\n",
       "      <td>1</td>\n",
       "      <td>1</td>\n",
       "      <td>1</td>\n",
       "      <td>0</td>\n",
       "      <td>427500.0</td>\n",
       "      <td>4</td>\n",
       "      <td>1</td>\n",
       "      <td>0</td>\n",
       "      <td>4</td>\n",
       "      <td>1</td>\n",
       "      <td>1</td>\n",
       "      <td>0</td>\n",
       "      <td>0</td>\n",
       "      <td>10</td>\n",
       "      <td>2.0</td>\n",
       "      <td>33.0</td>\n",
       "      <td>13.0</td>\n",
       "      <td>1</td>\n",
       "      <td>0.258721</td>\n",
       "      <td>0.250000</td>\n",
       "    </tr>\n",
       "    <tr>\n",
       "      <th>1</th>\n",
       "      <td>1</td>\n",
       "      <td>1</td>\n",
       "      <td>1</td>\n",
       "      <td>0</td>\n",
       "      <td>427500.0</td>\n",
       "      <td>4</td>\n",
       "      <td>1</td>\n",
       "      <td>0</td>\n",
       "      <td>4</td>\n",
       "      <td>1</td>\n",
       "      <td>1</td>\n",
       "      <td>0</td>\n",
       "      <td>0</td>\n",
       "      <td>10</td>\n",
       "      <td>2.0</td>\n",
       "      <td>33.0</td>\n",
       "      <td>13.0</td>\n",
       "      <td>1</td>\n",
       "      <td>0.258721</td>\n",
       "      <td>0.250000</td>\n",
       "    </tr>\n",
       "    <tr>\n",
       "      <th>2</th>\n",
       "      <td>1</td>\n",
       "      <td>1</td>\n",
       "      <td>1</td>\n",
       "      <td>0</td>\n",
       "      <td>112500.0</td>\n",
       "      <td>4</td>\n",
       "      <td>4</td>\n",
       "      <td>1</td>\n",
       "      <td>1</td>\n",
       "      <td>1</td>\n",
       "      <td>0</td>\n",
       "      <td>0</td>\n",
       "      <td>0</td>\n",
       "      <td>16</td>\n",
       "      <td>2.0</td>\n",
       "      <td>59.0</td>\n",
       "      <td>4.0</td>\n",
       "      <td>1</td>\n",
       "      <td>0.055233</td>\n",
       "      <td>0.791667</td>\n",
       "    </tr>\n",
       "    <tr>\n",
       "      <th>3</th>\n",
       "      <td>0</td>\n",
       "      <td>0</td>\n",
       "      <td>1</td>\n",
       "      <td>0</td>\n",
       "      <td>270000.0</td>\n",
       "      <td>0</td>\n",
       "      <td>4</td>\n",
       "      <td>3</td>\n",
       "      <td>1</td>\n",
       "      <td>1</td>\n",
       "      <td>0</td>\n",
       "      <td>1</td>\n",
       "      <td>1</td>\n",
       "      <td>14</td>\n",
       "      <td>1.0</td>\n",
       "      <td>53.0</td>\n",
       "      <td>9.0</td>\n",
       "      <td>1</td>\n",
       "      <td>0.156977</td>\n",
       "      <td>0.666667</td>\n",
       "    </tr>\n",
       "    <tr>\n",
       "      <th>4</th>\n",
       "      <td>0</td>\n",
       "      <td>0</td>\n",
       "      <td>1</td>\n",
       "      <td>0</td>\n",
       "      <td>270000.0</td>\n",
       "      <td>0</td>\n",
       "      <td>4</td>\n",
       "      <td>3</td>\n",
       "      <td>1</td>\n",
       "      <td>1</td>\n",
       "      <td>0</td>\n",
       "      <td>1</td>\n",
       "      <td>1</td>\n",
       "      <td>14</td>\n",
       "      <td>1.0</td>\n",
       "      <td>53.0</td>\n",
       "      <td>9.0</td>\n",
       "      <td>1</td>\n",
       "      <td>0.156977</td>\n",
       "      <td>0.666667</td>\n",
       "    </tr>\n",
       "    <tr>\n",
       "      <th>...</th>\n",
       "      <td>...</td>\n",
       "      <td>...</td>\n",
       "      <td>...</td>\n",
       "      <td>...</td>\n",
       "      <td>...</td>\n",
       "      <td>...</td>\n",
       "      <td>...</td>\n",
       "      <td>...</td>\n",
       "      <td>...</td>\n",
       "      <td>...</td>\n",
       "      <td>...</td>\n",
       "      <td>...</td>\n",
       "      <td>...</td>\n",
       "      <td>...</td>\n",
       "      <td>...</td>\n",
       "      <td>...</td>\n",
       "      <td>...</td>\n",
       "      <td>...</td>\n",
       "      <td>...</td>\n",
       "      <td>...</td>\n",
       "    </tr>\n",
       "    <tr>\n",
       "      <th>36452</th>\n",
       "      <td>1</td>\n",
       "      <td>1</td>\n",
       "      <td>1</td>\n",
       "      <td>0</td>\n",
       "      <td>315000.0</td>\n",
       "      <td>4</td>\n",
       "      <td>4</td>\n",
       "      <td>1</td>\n",
       "      <td>1</td>\n",
       "      <td>1</td>\n",
       "      <td>0</td>\n",
       "      <td>0</td>\n",
       "      <td>0</td>\n",
       "      <td>10</td>\n",
       "      <td>2.0</td>\n",
       "      <td>48.0</td>\n",
       "      <td>7.0</td>\n",
       "      <td>0</td>\n",
       "      <td>0.186047</td>\n",
       "      <td>0.562500</td>\n",
       "    </tr>\n",
       "    <tr>\n",
       "      <th>36453</th>\n",
       "      <td>0</td>\n",
       "      <td>0</td>\n",
       "      <td>1</td>\n",
       "      <td>0</td>\n",
       "      <td>157500.0</td>\n",
       "      <td>0</td>\n",
       "      <td>1</td>\n",
       "      <td>1</td>\n",
       "      <td>1</td>\n",
       "      <td>1</td>\n",
       "      <td>0</td>\n",
       "      <td>1</td>\n",
       "      <td>1</td>\n",
       "      <td>11</td>\n",
       "      <td>2.0</td>\n",
       "      <td>34.0</td>\n",
       "      <td>4.0</td>\n",
       "      <td>0</td>\n",
       "      <td>0.084302</td>\n",
       "      <td>0.270833</td>\n",
       "    </tr>\n",
       "    <tr>\n",
       "      <th>36454</th>\n",
       "      <td>0</td>\n",
       "      <td>0</td>\n",
       "      <td>1</td>\n",
       "      <td>0</td>\n",
       "      <td>157500.0</td>\n",
       "      <td>1</td>\n",
       "      <td>1</td>\n",
       "      <td>1</td>\n",
       "      <td>1</td>\n",
       "      <td>1</td>\n",
       "      <td>0</td>\n",
       "      <td>1</td>\n",
       "      <td>1</td>\n",
       "      <td>11</td>\n",
       "      <td>2.0</td>\n",
       "      <td>34.0</td>\n",
       "      <td>4.0</td>\n",
       "      <td>1</td>\n",
       "      <td>0.084302</td>\n",
       "      <td>0.270833</td>\n",
       "    </tr>\n",
       "    <tr>\n",
       "      <th>36455</th>\n",
       "      <td>0</td>\n",
       "      <td>0</td>\n",
       "      <td>1</td>\n",
       "      <td>0</td>\n",
       "      <td>283500.0</td>\n",
       "      <td>4</td>\n",
       "      <td>4</td>\n",
       "      <td>1</td>\n",
       "      <td>1</td>\n",
       "      <td>1</td>\n",
       "      <td>0</td>\n",
       "      <td>0</td>\n",
       "      <td>0</td>\n",
       "      <td>14</td>\n",
       "      <td>2.0</td>\n",
       "      <td>50.0</td>\n",
       "      <td>2.0</td>\n",
       "      <td>1</td>\n",
       "      <td>0.165698</td>\n",
       "      <td>0.604167</td>\n",
       "    </tr>\n",
       "    <tr>\n",
       "      <th>36456</th>\n",
       "      <td>1</td>\n",
       "      <td>0</td>\n",
       "      <td>1</td>\n",
       "      <td>0</td>\n",
       "      <td>112500.0</td>\n",
       "      <td>4</td>\n",
       "      <td>4</td>\n",
       "      <td>3</td>\n",
       "      <td>4</td>\n",
       "      <td>1</td>\n",
       "      <td>0</td>\n",
       "      <td>0</td>\n",
       "      <td>0</td>\n",
       "      <td>8</td>\n",
       "      <td>1.0</td>\n",
       "      <td>26.0</td>\n",
       "      <td>4.0</td>\n",
       "      <td>1</td>\n",
       "      <td>0.055233</td>\n",
       "      <td>0.104167</td>\n",
       "    </tr>\n",
       "  </tbody>\n",
       "</table>\n",
       "<p>36457 rows × 20 columns</p>\n",
       "</div>"
      ],
      "text/plain": [
       "       CODE_GENDER  FLAG_OWN_CAR  FLAG_OWN_REALTY  CNT_CHILDREN  \\\n",
       "0                1             1                1             0   \n",
       "1                1             1                1             0   \n",
       "2                1             1                1             0   \n",
       "3                0             0                1             0   \n",
       "4                0             0                1             0   \n",
       "...            ...           ...              ...           ...   \n",
       "36452            1             1                1             0   \n",
       "36453            0             0                1             0   \n",
       "36454            0             0                1             0   \n",
       "36455            0             0                1             0   \n",
       "36456            1             0                1             0   \n",
       "\n",
       "       AMT_INCOME_TOTAL  NAME_INCOME_TYPE  NAME_EDUCATION_TYPE  \\\n",
       "0              427500.0                 4                    1   \n",
       "1              427500.0                 4                    1   \n",
       "2              112500.0                 4                    4   \n",
       "3              270000.0                 0                    4   \n",
       "4              270000.0                 0                    4   \n",
       "...                 ...               ...                  ...   \n",
       "36452          315000.0                 4                    4   \n",
       "36453          157500.0                 0                    1   \n",
       "36454          157500.0                 1                    1   \n",
       "36455          283500.0                 4                    4   \n",
       "36456          112500.0                 4                    4   \n",
       "\n",
       "       NAME_FAMILY_STATUS  NAME_HOUSING_TYPE  FLAG_MOBIL  FLAG_WORK_PHONE  \\\n",
       "0                       0                  4           1                1   \n",
       "1                       0                  4           1                1   \n",
       "2                       1                  1           1                0   \n",
       "3                       3                  1           1                0   \n",
       "4                       3                  1           1                0   \n",
       "...                   ...                ...         ...              ...   \n",
       "36452                   1                  1           1                0   \n",
       "36453                   1                  1           1                0   \n",
       "36454                   1                  1           1                0   \n",
       "36455                   1                  1           1                0   \n",
       "36456                   3                  4           1                0   \n",
       "\n",
       "       FLAG_PHONE  FLAG_EMAIL  OCCUPATION_TYPE  CNT_FAM_MEMBERS   AGE  \\\n",
       "0               0           0               10              2.0  33.0   \n",
       "1               0           0               10              2.0  33.0   \n",
       "2               0           0               16              2.0  59.0   \n",
       "3               1           1               14              1.0  53.0   \n",
       "4               1           1               14              1.0  53.0   \n",
       "...           ...         ...              ...              ...   ...   \n",
       "36452           0           0               10              2.0  48.0   \n",
       "36453           1           1               11              2.0  34.0   \n",
       "36454           1           1               11              2.0  34.0   \n",
       "36455           0           0               14              2.0  50.0   \n",
       "36456           0           0                8              1.0  26.0   \n",
       "\n",
       "       YEARS_EMPLOYED  CREDIT_APPROVAL_STATUS  Scaled Income  Scaled Age  \n",
       "0                13.0                       1       0.258721    0.250000  \n",
       "1                13.0                       1       0.258721    0.250000  \n",
       "2                 4.0                       1       0.055233    0.791667  \n",
       "3                 9.0                       1       0.156977    0.666667  \n",
       "4                 9.0                       1       0.156977    0.666667  \n",
       "...               ...                     ...            ...         ...  \n",
       "36452             7.0                       0       0.186047    0.562500  \n",
       "36453             4.0                       0       0.084302    0.270833  \n",
       "36454             4.0                       1       0.084302    0.270833  \n",
       "36455             2.0                       1       0.165698    0.604167  \n",
       "36456             4.0                       1       0.055233    0.104167  \n",
       "\n",
       "[36457 rows x 20 columns]"
      ]
     },
     "execution_count": 70,
     "metadata": {},
     "output_type": "execute_result"
    }
   ],
   "source": [
    "credit_approval_data"
   ]
  },
  {
   "cell_type": "code",
   "execution_count": 71,
   "metadata": {},
   "outputs": [],
   "source": [
    "credit_approval_data.drop(['AMT_INCOME_TOTAL','AGE'], axis=1, inplace=True)"
   ]
  },
  {
   "cell_type": "markdown",
   "metadata": {},
   "source": [
    "## Splitting the credit_approval_data into training and testing sets using K-fold and Stratified K-fold Cross validation ##"
   ]
  },
  {
   "cell_type": "code",
   "execution_count": 72,
   "metadata": {
    "execution": {
     "iopub.execute_input": "2022-04-19T05:04:44.199944Z",
     "iopub.status.busy": "2022-04-19T05:04:44.199547Z",
     "iopub.status.idle": "2022-04-19T05:04:44.41717Z",
     "shell.execute_reply": "2022-04-19T05:04:44.416228Z",
     "shell.execute_reply.started": "2022-04-19T05:04:44.199907Z"
    }
   },
   "outputs": [],
   "source": [
    "from sklearn.model_selection import train_test_split, \\\n",
    "KFold, StratifiedKFold, RepeatedStratifiedKFold, cross_val_score, cross_validate"
   ]
  },
  {
   "cell_type": "code",
   "execution_count": 73,
   "metadata": {
    "execution": {
     "iopub.execute_input": "2022-04-19T05:04:45.719287Z",
     "iopub.status.busy": "2022-04-19T05:04:45.71894Z",
     "iopub.status.idle": "2022-04-19T05:04:45.738046Z",
     "shell.execute_reply": "2022-04-19T05:04:45.737149Z",
     "shell.execute_reply.started": "2022-04-19T05:04:45.719254Z"
    }
   },
   "outputs": [],
   "source": [
    "X = credit_approval_data.drop('CREDIT_APPROVAL_STATUS', axis=1)\n",
    "y = credit_approval_data['CREDIT_APPROVAL_STATUS']"
   ]
  },
  {
   "cell_type": "code",
   "execution_count": 74,
   "metadata": {
    "execution": {
     "iopub.execute_input": "2022-04-19T05:04:45.719287Z",
     "iopub.status.busy": "2022-04-19T05:04:45.71894Z",
     "iopub.status.idle": "2022-04-19T05:04:45.738046Z",
     "shell.execute_reply": "2022-04-19T05:04:45.737149Z",
     "shell.execute_reply.started": "2022-04-19T05:04:45.719254Z"
    }
   },
   "outputs": [],
   "source": [
    "# Hold-out CV method\n",
    "X_train, X_test, y_train, y_test = train_test_split(X, y, test_size=0.3, random_state=42)"
   ]
  },
  {
   "cell_type": "markdown",
   "metadata": {},
   "source": [
    "## Creating Standalone Classification Models: DT, LR, SVM, NB, KNN, RF and XGB Model ##"
   ]
  },
  {
   "cell_type": "code",
   "execution_count": 75,
   "metadata": {
    "execution": {
     "iopub.execute_input": "2022-04-19T05:04:49.116499Z",
     "iopub.status.busy": "2022-04-19T05:04:49.11608Z",
     "iopub.status.idle": "2022-04-19T05:04:49.293232Z",
     "shell.execute_reply": "2022-04-19T05:04:49.291978Z",
     "shell.execute_reply.started": "2022-04-19T05:04:49.116441Z"
    }
   },
   "outputs": [],
   "source": [
    "from sklearn.tree import DecisionTreeClassifier as DT\n",
    "from sklearn.linear_model import LogisticRegression as LogReg\n",
    "from sklearn.svm import LinearSVC as SVC\n",
    "from sklearn.naive_bayes import GaussianNB as NB\n",
    "from sklearn.neighbors import KNeighborsClassifier as Knn\n",
    "from sklearn.ensemble import RandomForestClassifier as RF\n",
    "from xgboost import XGBClassifier as XGB"
   ]
  },
  {
   "cell_type": "code",
   "execution_count": 76,
   "metadata": {
    "execution": {
     "iopub.execute_input": "2022-04-19T05:04:51.067399Z",
     "iopub.status.busy": "2022-04-19T05:04:51.06705Z",
     "iopub.status.idle": "2022-04-19T05:04:51.073153Z",
     "shell.execute_reply": "2022-04-19T05:04:51.07211Z",
     "shell.execute_reply.started": "2022-04-19T05:04:51.067364Z"
    }
   },
   "outputs": [],
   "source": [
    "model_DT = DT()\n",
    "model_LR = LogReg()\n",
    "model_SVC = SVC()\n",
    "model_NB = NB()\n",
    "model_KNN = Knn()\n",
    "model_RF = RF()\n",
    "model_Xgb = XGB()"
   ]
  },
  {
   "cell_type": "markdown",
   "metadata": {},
   "source": [
    "### Training Model and Prediction #####"
   ]
  },
  {
   "cell_type": "code",
   "execution_count": 77,
   "metadata": {
    "execution": {
     "iopub.execute_input": "2022-04-19T05:04:54.054272Z",
     "iopub.status.busy": "2022-04-19T05:04:54.053943Z",
     "iopub.status.idle": "2022-04-19T05:04:54.123939Z",
     "shell.execute_reply": "2022-04-19T05:04:54.122911Z",
     "shell.execute_reply.started": "2022-04-19T05:04:54.054241Z"
    }
   },
   "outputs": [
    {
     "name": "stderr",
     "output_type": "stream",
     "text": [
      "C:\\Users\\abhin\\anaconda3\\lib\\site-packages\\sklearn\\linear_model\\_logistic.py:814: ConvergenceWarning: lbfgs failed to converge (status=1):\n",
      "STOP: TOTAL NO. of ITERATIONS REACHED LIMIT.\n",
      "\n",
      "Increase the number of iterations (max_iter) or scale the data as shown in:\n",
      "    https://scikit-learn.org/stable/modules/preprocessing.html\n",
      "Please also refer to the documentation for alternative solver options:\n",
      "    https://scikit-learn.org/stable/modules/linear_model.html#logistic-regression\n",
      "  n_iter_i = _check_optimize_result(\n",
      "C:\\Users\\abhin\\anaconda3\\lib\\site-packages\\sklearn\\svm\\_base.py:1206: ConvergenceWarning: Liblinear failed to converge, increase the number of iterations.\n",
      "  warnings.warn(\n"
     ]
    },
    {
     "data": {
      "text/plain": [
       "XGBClassifier(base_score=0.5, booster='gbtree', callbacks=None,\n",
       "              colsample_bylevel=1, colsample_bynode=1, colsample_bytree=1,\n",
       "              early_stopping_rounds=None, enable_categorical=False,\n",
       "              eval_metric=None, gamma=0, gpu_id=-1, grow_policy='depthwise',\n",
       "              importance_type=None, interaction_constraints='',\n",
       "              learning_rate=0.300000012, max_bin=256, max_cat_to_onehot=4,\n",
       "              max_delta_step=0, max_depth=6, max_leaves=0, min_child_weight=1,\n",
       "              missing=nan, monotone_constraints='()', n_estimators=100,\n",
       "              n_jobs=0, num_parallel_tree=1, predictor='auto', random_state=0,\n",
       "              reg_alpha=0, reg_lambda=1, ...)"
      ]
     },
     "execution_count": 77,
     "metadata": {},
     "output_type": "execute_result"
    }
   ],
   "source": [
    "model_DT.fit(X_train, y_train)\n",
    "model_LR.fit(X_train, y_train)\n",
    "model_SVC.fit(X_train, y_train)\n",
    "model_NB.fit(X_train, y_train)\n",
    "model_KNN.fit(X_train, y_train)\n",
    "model_RF.fit(X_train, y_train)\n",
    "model_Xgb.fit(X_train, y_train)"
   ]
  },
  {
   "cell_type": "code",
   "execution_count": 78,
   "metadata": {
    "execution": {
     "iopub.execute_input": "2022-04-19T05:04:56.771155Z",
     "iopub.status.busy": "2022-04-19T05:04:56.770168Z",
     "iopub.status.idle": "2022-04-19T05:04:56.781056Z",
     "shell.execute_reply": "2022-04-19T05:04:56.779919Z",
     "shell.execute_reply.started": "2022-04-19T05:04:56.771075Z"
    }
   },
   "outputs": [],
   "source": [
    "y_pred_DT = model_DT.predict(X_test)\n",
    "y_pred_LR = model_LR.predict(X_test)\n",
    "y_pred_SVC = model_SVC.predict(X_test)\n",
    "y_pred_NB = model_NB.predict(X_test)\n",
    "y_pred_KNN = model_KNN.predict(X_test)\n",
    "y_pred_RF = model_RF.predict(X_test)\n",
    "y_pred_Xgb = model_Xgb.predict(X_test)"
   ]
  },
  {
   "cell_type": "markdown",
   "metadata": {},
   "source": [
    "### Cross validation and Accuracy Scores ##"
   ]
  },
  {
   "cell_type": "code",
   "execution_count": 79,
   "metadata": {
    "execution": {
     "iopub.execute_input": "2022-04-19T05:04:59.539064Z",
     "iopub.status.busy": "2022-04-19T05:04:59.538709Z",
     "iopub.status.idle": "2022-04-19T05:04:59.544208Z",
     "shell.execute_reply": "2022-04-19T05:04:59.543052Z",
     "shell.execute_reply.started": "2022-04-19T05:04:59.539024Z"
    }
   },
   "outputs": [],
   "source": [
    "from sklearn.metrics import accuracy_score, recall_score, roc_auc_score"
   ]
  },
  {
   "cell_type": "code",
   "execution_count": 80,
   "metadata": {
    "execution": {
     "iopub.execute_input": "2022-04-19T05:05:01.838593Z",
     "iopub.status.busy": "2022-04-19T05:05:01.838134Z",
     "iopub.status.idle": "2022-04-19T05:05:01.84877Z",
     "shell.execute_reply": "2022-04-19T05:05:01.847733Z",
     "shell.execute_reply.started": "2022-04-19T05:05:01.838536Z"
    }
   },
   "outputs": [
    {
     "name": "stdout",
     "output_type": "stream",
     "text": [
      "Accuracy DT:  0.9937831413421101\n",
      "Accuracy LR:  0.9957944779667215\n",
      "Accuracy SVC:  0.9957944779667215\n",
      "Accuracy NB:  0.995154507222527\n",
      "Accuracy KNN:  0.9955202047906382\n",
      "Accuracy RF:  0.9956116291826659\n",
      "Accuracy Xgb:  0.9957944779667215\n"
     ]
    }
   ],
   "source": [
    "print('Accuracy DT: ' ,accuracy_score(y_test, y_pred_DT))\n",
    "print('Accuracy LR: ' ,accuracy_score(y_test, y_pred_LR))\n",
    "print('Accuracy SVC: ' ,accuracy_score(y_test, y_pred_SVC))\n",
    "print('Accuracy NB: ' ,accuracy_score(y_test, y_pred_NB))\n",
    "print('Accuracy KNN: ' ,accuracy_score(y_test, y_pred_KNN))\n",
    "print('Accuracy RF: ' ,accuracy_score(y_test, y_pred_RF))\n",
    "print('Accuracy Xgb: ' ,accuracy_score(y_test, y_pred_Xgb))"
   ]
  },
  {
   "cell_type": "code",
   "execution_count": 81,
   "metadata": {},
   "outputs": [],
   "source": [
    "my_models = {'DT':model_DT, 'LogReg':model_LR, 'SVC':model_SVC, 'NB':model_NB, 'KNN':model_KNN,\\\n",
    "             'RF':model_RF, 'Xgb':model_Xgb}"
   ]
  },
  {
   "cell_type": "code",
   "execution_count": 83,
   "metadata": {},
   "outputs": [],
   "source": [
    "import warnings\n",
    "warnings.filterwarnings(\"ignore\")"
   ]
  },
  {
   "cell_type": "code",
   "execution_count": 84,
   "metadata": {
    "scrolled": true
   },
   "outputs": [
    {
     "name": "stdout",
     "output_type": "stream",
     "text": [
      "Mean KFold Accuracy DT:  0.993279735313217\n",
      "Mean Stratified Kfold Accuracy DT:  0.9935815110533219\n",
      "\n",
      "\n",
      "Mean KFold Accuracy LogReg:  0.9951724008195839\n",
      "Mean Stratified Kfold Accuracy LogReg:  0.9951724083442253\n",
      "\n",
      "\n",
      "Mean KFold Accuracy SVC:  0.9951724008195839\n",
      "Mean Stratified Kfold Accuracy SVC:  0.9951724083442253\n",
      "\n",
      "\n",
      "Mean KFold Accuracy NB:  0.9939654859751972\n",
      "Mean Stratified Kfold Accuracy NB:  0.9940752704920438\n",
      "\n",
      "\n",
      "Mean KFold Accuracy KNN:  0.9948158306413928\n",
      "Mean Stratified Kfold Accuracy KNN:  0.99467868652871\n",
      "\n",
      "\n",
      "Mean KFold Accuracy RF:  0.9945689020118633\n",
      "Mean Stratified Kfold Accuracy RF:  0.9944043832540613\n",
      "\n",
      "\n",
      "Mean KFold Accuracy Xgb:  0.9945689095365046\n",
      "Mean Stratified Kfold Accuracy Xgb:  0.9948706702273269\n",
      "\n",
      "\n",
      "Wall time: 2min 59s\n"
     ]
    }
   ],
   "source": [
    "# %%time\n",
    "\n",
    "# # Not recommended for quick review as computationally intensive\n",
    "\n",
    "## Cross validated Accuracy Scores using cross_val_score function\n",
    "# for key, model in my_models.items():\n",
    "#   # K-fold CV score\n",
    "#     kfs = KFold(n_splits= 10, shuffle= True, random_state= 21)\n",
    "#     kf_scores = cross_val_score(model, X, y, cv=kfs) # cv is k-folds\n",
    "#     # print(kf_scores)\n",
    "#     print( \"Mean KFold Accuracy %s: \"%key, kf_scores.mean())\n",
    "\n",
    "#     # Stratified K-fold CV score\n",
    "#     skf = StratifiedKFold(10,shuffle=True, random_state= 21)\n",
    "#     skf_scores = cross_val_score(model, X, y, cv=skf) # cv is sk-folds\n",
    "#     # print(skf_scores)\n",
    "#     print( \"Mean Stratified Kfold Accuracy %s: \"%key, skf_scores.mean())\n",
    "#     print('\\n')"
   ]
  },
  {
   "cell_type": "code",
   "execution_count": 85,
   "metadata": {
    "scrolled": true
   },
   "outputs": [
    {
     "name": "stdout",
     "output_type": "stream",
     "text": [
      "\n",
      "For model:  DT\n",
      "Mean fit_time  0.06586239337921143\n",
      "Mean score_time  0.0037860631942749023\n",
      "Mean test_precision_macro  0.6440300758872923\n",
      "Mean train_precision_macro  0.8679095887848737\n",
      "Mean test_recall_macro  0.6301026408745096\n",
      "Mean train_recall_macro  0.823190415687472\n",
      "\n",
      "For model:  LogReg\n",
      "Mean fit_time  0.21643226146697997\n",
      "Mean score_time  0.005531454086303711\n",
      "Mean test_precision_macro  0.49758620040979196\n",
      "Mean train_precision_macro  0.49758619747476107\n",
      "Mean test_recall_macro  0.5\n",
      "Mean train_recall_macro  0.5\n",
      "\n",
      "For model:  SVC\n",
      "Mean fit_time  4.30662305355072\n",
      "Mean score_time  0.003975057601928711\n",
      "Mean test_precision_macro  0.49758620040979196\n",
      "Mean train_precision_macro  0.49758619747476107\n",
      "Mean test_recall_macro  0.5\n",
      "Mean train_recall_macro  0.5\n",
      "\n",
      "For model:  NB\n",
      "Mean fit_time  0.017104101181030274\n",
      "Mean score_time  0.0049896240234375\n",
      "Mean test_precision_macro  0.4975833222483056\n",
      "Mean train_precision_macro  0.4975834212725757\n",
      "Mean test_recall_macro  0.49939365396032914\n",
      "Mean train_recall_macro  0.49942119203320817\n",
      "\n",
      "For model:  KNN\n",
      "Mean fit_time  0.008756566047668456\n",
      "Mean score_time  1.6275471210479737\n",
      "Mean test_precision_macro  0.5934731534714931\n",
      "Mean train_precision_macro  0.8480383314829583\n",
      "Mean test_recall_macro  0.5113242776842062\n",
      "Mean train_recall_macro  0.5750544383757044\n",
      "\n",
      "For model:  RF\n",
      "Mean fit_time  1.4422816276550292\n",
      "Mean score_time  0.05229501724243164\n",
      "Mean test_precision_macro  0.7043783519353154\n",
      "Mean train_precision_macro  0.9221795430668569\n",
      "Mean test_recall_macro  0.576192359742726\n",
      "Mean train_recall_macro  0.7550921761108771\n",
      "\n",
      "For model:  Xgb\n",
      "Mean fit_time  1.2321976661682128\n",
      "Mean score_time  0.01705319881439209\n",
      "Mean test_precision_macro  0.642125533386283\n",
      "Mean train_precision_macro  0.9140795578360545\n",
      "Mean test_recall_macro  0.5244456445646983\n",
      "Mean train_recall_macro  0.6739407352945169\n",
      "Wall time: 4min 3s\n"
     ]
    }
   ],
   "source": [
    "# %%time\n",
    "# # Not recommended for quick review as computationally intensive\n",
    "\n",
    "# # Gives Cross validated Precision, Recall, fit time scores on the Unsampled data using cross_validate function  \\\n",
    "# # using K-fold CV for all the 7 models\n",
    "\n",
    "# for key,model in my_models.items():\n",
    "#     print(\"\\nFor model: \", key)\n",
    "#     scoring = ['precision_macro', 'recall_macro']\n",
    "#     # clf = svm.SVC(kernel='linear', C=1, random_state=0)\n",
    "#     scores = cross_validate(model, X, y, scoring=scoring,cv=kfs, return_train_score=True)\n",
    "\n",
    "#     # sorted(scores.keys())\n",
    "#     for key, value in scores.items():\n",
    "#         print('Mean '+ key+ ' ', value.mean())\n",
    "    "
   ]
  },
  {
   "cell_type": "markdown",
   "metadata": {},
   "source": [
    "## Stacking Ensemble Technique (DT, LR, SVM, NB)"
   ]
  },
  {
   "cell_type": "code",
   "execution_count": 96,
   "metadata": {},
   "outputs": [
    {
     "data": {
      "text/plain": [
       "dict_keys(['DT', 'LogReg', 'SVC', 'NB'])"
      ]
     },
     "execution_count": 96,
     "metadata": {},
     "output_type": "execute_result"
    }
   ],
   "source": [
    "# model_DT = DT()\n",
    "# model_LR = LogReg()\n",
    "# model_SVC = SVC()\n",
    "# model_NB = NB()\n",
    "# model_KNN = Knn()\n",
    "# model_RF = RF()\n",
    "# model_Xgb = XGB()\n",
    "my_models.keys()"
   ]
  },
  {
   "cell_type": "code",
   "execution_count": 97,
   "metadata": {},
   "outputs": [
    {
     "ename": "KeyError",
     "evalue": "'KNN'",
     "output_type": "error",
     "traceback": [
      "\u001b[1;31m---------------------------------------------------------------------------\u001b[0m",
      "\u001b[1;31mKeyError\u001b[0m                                  Traceback (most recent call last)",
      "\u001b[1;32m<ipython-input-97-796a2063a20f>\u001b[0m in \u001b[0;36m<module>\u001b[1;34m\u001b[0m\n\u001b[0;32m      1\u001b[0m \u001b[1;31m# get the models to evaluate\u001b[0m\u001b[1;33m\u001b[0m\u001b[1;33m\u001b[0m\u001b[1;33m\u001b[0m\u001b[0m\n\u001b[0;32m      2\u001b[0m \u001b[1;31m# my_models_lv0.pop('NB')\u001b[0m\u001b[1;33m\u001b[0m\u001b[1;33m\u001b[0m\u001b[1;33m\u001b[0m\u001b[0m\n\u001b[1;32m----> 3\u001b[1;33m \u001b[0mmy_models\u001b[0m\u001b[1;33m.\u001b[0m\u001b[0mpop\u001b[0m\u001b[1;33m(\u001b[0m\u001b[1;34m'KNN'\u001b[0m\u001b[1;33m)\u001b[0m\u001b[1;33m\u001b[0m\u001b[1;33m\u001b[0m\u001b[0m\n\u001b[0m\u001b[0;32m      4\u001b[0m \u001b[0mmy_models\u001b[0m\u001b[1;33m.\u001b[0m\u001b[0mpop\u001b[0m\u001b[1;33m(\u001b[0m\u001b[1;34m'RF'\u001b[0m\u001b[1;33m)\u001b[0m\u001b[1;33m\u001b[0m\u001b[1;33m\u001b[0m\u001b[0m\n\u001b[0;32m      5\u001b[0m \u001b[0mmy_models\u001b[0m\u001b[1;33m.\u001b[0m\u001b[0mpop\u001b[0m\u001b[1;33m(\u001b[0m\u001b[1;34m'Xgb'\u001b[0m\u001b[1;33m)\u001b[0m\u001b[1;33m\u001b[0m\u001b[1;33m\u001b[0m\u001b[0m\n",
      "\u001b[1;31mKeyError\u001b[0m: 'KNN'"
     ]
    }
   ],
   "source": [
    "# get the models to evaluate\n",
    "# my_models_lv0.pop('NB')\n",
    "my_models.pop('KNN')\n",
    "my_models.pop('RF')\n",
    "my_models.pop('Xgb')\n",
    "my_models"
   ]
  },
  {
   "cell_type": "code",
   "execution_count": 98,
   "metadata": {},
   "outputs": [],
   "source": [
    "from numpy import mean\n",
    "from numpy import std\n",
    "from sklearn.ensemble import StackingClassifier\n",
    "\n",
    "# get a stacking ensemble of models lv1 :LogReg\n",
    "def get_stackingLR(my_models_lv0):\n",
    "    # define the base models\n",
    "\n",
    "    level0 = list(my_models_lv0.items())\n",
    "\n",
    "    # define meta learner model\n",
    "    level1 = LogReg()\n",
    "    # define the stacking ensemble\n",
    "    model = StackingClassifier(estimators=level0, final_estimator=level1, cv=5)\n",
    "    return model\n",
    " \n",
    "# evaluate a give model using cross-validation\n",
    "def evaluate_model(model, X, y):\n",
    "    cv = RepeatedStratifiedKFold(n_splits=5, n_repeats=3, random_state=21)\n",
    "    scores = cross_val_score(model, X, y, scoring='accuracy', cv=cv, n_jobs=-1, error_score='raise')\n",
    "    return scores\n",
    " "
   ]
  },
  {
   "cell_type": "markdown",
   "metadata": {
    "scrolled": true
   },
   "source": [
    "### Iteration 1 for Stacked Model: lv0: (DT, LogReg, SVC, NB) and lv1: LogReg"
   ]
  },
  {
   "cell_type": "code",
   "execution_count": 69,
   "metadata": {},
   "outputs": [],
   "source": [
    "stacked_LR1 = get_stackingLR(my_models)"
   ]
  },
  {
   "cell_type": "code",
   "execution_count": 70,
   "metadata": {
    "scrolled": true
   },
   "outputs": [
    {
     "data": {
      "text/plain": [
       "StackingClassifier(cv=5,\n",
       "                   estimators=[('DT', DecisionTreeClassifier()),\n",
       "                               ('LogReg', LogisticRegression()),\n",
       "                               ('SVC', LinearSVC()), ('NB', GaussianNB())],\n",
       "                   final_estimator=LogisticRegression())"
      ]
     },
     "execution_count": 70,
     "metadata": {},
     "output_type": "execute_result"
    }
   ],
   "source": [
    "stacked_LR1"
   ]
  },
  {
   "cell_type": "code",
   "execution_count": 71,
   "metadata": {
    "scrolled": true
   },
   "outputs": [
    {
     "name": "stdout",
     "output_type": "stream",
     "text": [
      "\n",
      "StackingClassifier(cv=5,\n",
      "                   estimators=[('DT', DecisionTreeClassifier()),\n",
      "                               ('LogReg', LogisticRegression()),\n",
      "                               ('SVC', LinearSVC()), ('NB', GaussianNB())],\n",
      "                   final_estimator=LogisticRegression()) Accuracy:  0.995 (0.000)\n",
      "Wall time: 2min 22s\n"
     ]
    }
   ],
   "source": [
    "%%time\n",
    "# Model Evaluation for Iter1\n",
    "\n",
    "scores = evaluate_model(stacked_LR1, X, y)\n",
    "\n",
    "print('\\n%s Accuracy:  %.3f (%.3f)' % (stacked_LR1, mean(scores), std(scores)))"
   ]
  },
  {
   "cell_type": "markdown",
   "metadata": {},
   "source": [
    "### Iteration 2 for Stacked Model: lv0: (DT, LogReg, SVC) and lv1: LogReg"
   ]
  },
  {
   "cell_type": "code",
   "execution_count": 72,
   "metadata": {},
   "outputs": [
    {
     "data": {
      "text/plain": [
       "StackingClassifier(cv=5,\n",
       "                   estimators=[('DT', DecisionTreeClassifier()),\n",
       "                               ('LogReg', LogisticRegression()),\n",
       "                               ('SVC', LinearSVC())],\n",
       "                   final_estimator=LogisticRegression())"
      ]
     },
     "execution_count": 72,
     "metadata": {},
     "output_type": "execute_result"
    }
   ],
   "source": [
    "# Model selection and evaluation\n",
    "input_models = {'DT':model_DT, 'LogReg':model_LR, 'SVC':model_SVC}\n",
    "stacked_LR2 = get_stackingLR(input_models)\n",
    "stacked_LR2"
   ]
  },
  {
   "cell_type": "code",
   "execution_count": 73,
   "metadata": {},
   "outputs": [
    {
     "name": "stdout",
     "output_type": "stream",
     "text": [
      "\n",
      "StackingClassifier(cv=5,\n",
      "                   estimators=[('DT', DecisionTreeClassifier()),\n",
      "                               ('LogReg', LogisticRegression()),\n",
      "                               ('SVC', LinearSVC())],\n",
      "                   final_estimator=LogisticRegression()) Accuracy:  0.995 (0.000)\n",
      "Wall time: 2min 23s\n"
     ]
    }
   ],
   "source": [
    "%%time\n",
    "scores = evaluate_model(stacked_LR2, X, y)\n",
    "\n",
    "print('\\n%s Accuracy:  %.3f (%.3f)' % (stacked_LR2, mean(scores), std(scores)))"
   ]
  },
  {
   "cell_type": "markdown",
   "metadata": {},
   "source": [
    "### Iteration 3 for Stacked Model: lv0: (DT, LogReg) and lv1: LogReg"
   ]
  },
  {
   "cell_type": "code",
   "execution_count": 74,
   "metadata": {},
   "outputs": [
    {
     "data": {
      "text/plain": [
       "StackingClassifier(cv=5,\n",
       "                   estimators=[('DT', DecisionTreeClassifier()),\n",
       "                               ('LogReg', LogisticRegression())],\n",
       "                   final_estimator=LogisticRegression())"
      ]
     },
     "execution_count": 74,
     "metadata": {},
     "output_type": "execute_result"
    }
   ],
   "source": [
    "# Model selection and evaluation\n",
    "input_models = {'DT':model_DT, 'LogReg':model_LR}\n",
    "stacked_LR3 = get_stackingLR(input_models)\n",
    "stacked_LR3"
   ]
  },
  {
   "cell_type": "code",
   "execution_count": 75,
   "metadata": {},
   "outputs": [
    {
     "name": "stdout",
     "output_type": "stream",
     "text": [
      "\n",
      "StackingClassifier(cv=5,\n",
      "                   estimators=[('DT', DecisionTreeClassifier()),\n",
      "                               ('LogReg', LogisticRegression())],\n",
      "                   final_estimator=LogisticRegression()) Accuracy:  0.995 (0.000)\n",
      "Wall time: 6.61 s\n"
     ]
    }
   ],
   "source": [
    "%%time\n",
    "scores = evaluate_model(stacked_LR3, X, y)\n",
    "\n",
    "print('\\n%s Accuracy:  %.3f (%.3f)' % (stacked_LR3, mean(scores), std(scores)))"
   ]
  },
  {
   "cell_type": "markdown",
   "metadata": {},
   "source": [
    "### Iteration 4 for Stacked Model: lv0: (SVC, NB) and lv1: LogReg"
   ]
  },
  {
   "cell_type": "code",
   "execution_count": 56,
   "metadata": {},
   "outputs": [
    {
     "data": {
      "text/plain": [
       "StackingClassifier(cv=5,\n",
       "                   estimators=[('SVC', LinearSVC()), ('NB', GaussianNB())],\n",
       "                   final_estimator=LogisticRegression())"
      ]
     },
     "execution_count": 56,
     "metadata": {},
     "output_type": "execute_result"
    }
   ],
   "source": [
    "# Model selection and evaluation\n",
    "input_models = {'SVC':model_SVC, 'NB':model_NB}\n",
    "stacked_LR4 = get_stackingLR(input_models)\n",
    "stacked_LR4"
   ]
  },
  {
   "cell_type": "code",
   "execution_count": 57,
   "metadata": {},
   "outputs": [
    {
     "name": "stdout",
     "output_type": "stream",
     "text": [
      "\n",
      "StackingClassifier(cv=5,\n",
      "                   estimators=[('SVC', LinearSVC()), ('NB', GaussianNB())],\n",
      "                   final_estimator=LogisticRegression()) Accuracy:  0.995 (0.000)\n",
      "Wall time: 3min 36s\n"
     ]
    }
   ],
   "source": [
    "%%time\n",
    "scores = evaluate_model(stacked_LR4, X, y)\n",
    "\n",
    "print('\\n%s Accuracy:  %.3f (%.3f)' % (stacked_LR4, mean(scores), std(scores)))"
   ]
  },
  {
   "cell_type": "markdown",
   "metadata": {},
   "source": [
    "### Iteration 5 for Stacked Model: lv0: (DT, LogReg, NB) and lv1: LogReg"
   ]
  },
  {
   "cell_type": "code",
   "execution_count": 99,
   "metadata": {},
   "outputs": [
    {
     "data": {
      "text/plain": [
       "StackingClassifier(cv=5,\n",
       "                   estimators=[('LogReg', LogisticRegression()),\n",
       "                               ('DT', DecisionTreeClassifier()),\n",
       "                               ('NB', GaussianNB())],\n",
       "                   final_estimator=LogisticRegression())"
      ]
     },
     "execution_count": 99,
     "metadata": {},
     "output_type": "execute_result"
    }
   ],
   "source": [
    "# Model selection and evaluation\n",
    "input_models = {'LogReg': model_LR,'DT':model_DT, 'NB':model_NB}\n",
    "stacked_LR5 = get_stackingLR(input_models)\n",
    "stacked_LR5"
   ]
  },
  {
   "cell_type": "code",
   "execution_count": 100,
   "metadata": {},
   "outputs": [
    {
     "name": "stdout",
     "output_type": "stream",
     "text": [
      "\n",
      "StackingClassifier(cv=5,\n",
      "                   estimators=[('LogReg', LogisticRegression()),\n",
      "                               ('DT', DecisionTreeClassifier()),\n",
      "                               ('NB', GaussianNB())],\n",
      "                   final_estimator=LogisticRegression()) Accuracy:  0.995 (0.000)\n",
      "Wall time: 10.9 s\n"
     ]
    }
   ],
   "source": [
    "%%time\n",
    "scores = evaluate_model(stacked_LR5, X, y)\n",
    "\n",
    "print('\\n%s Accuracy:  %.3f (%.3f)' % (stacked_LR5, mean(scores), std(scores)))"
   ]
  },
  {
   "cell_type": "markdown",
   "metadata": {},
   "source": [
    "### Iteration 6 for Stacked Model: lv0: (DT, LogReg, SVC, NB) and lv1: DT"
   ]
  },
  {
   "cell_type": "code",
   "execution_count": 92,
   "metadata": {},
   "outputs": [],
   "source": [
    "# get a stacking ensemble of models lv1 :DT\n",
    "def get_stackingDT(my_models_lv0):\n",
    "    \n",
    "    # define the base models\n",
    "\n",
    "    level0 = list(my_models_lv0.items())\n",
    "\n",
    "    # define meta learner model\n",
    "    level1 = DT()\n",
    "    # define the stacking ensemble\n",
    "    model = StackingClassifier(estimators=level0, final_estimator=level1, cv=5)\n",
    "    return model\n",
    " \n",
    "# evaluate a give model using cross-validation\n",
    "def evaluate_model(model, X, y):\n",
    "    cv = RepeatedStratifiedKFold(n_splits=5, n_repeats=3, random_state=21)\n",
    "    scores = cross_val_score(model, X, y, scoring='accuracy', cv=cv, n_jobs=-1, error_score='raise')\n",
    "    return scores\n"
   ]
  },
  {
   "cell_type": "code",
   "execution_count": 63,
   "metadata": {},
   "outputs": [
    {
     "data": {
      "text/plain": [
       "StackingClassifier(cv=5,\n",
       "                   estimators=[('DT', DecisionTreeClassifier()),\n",
       "                               ('LogReg', LogisticRegression()),\n",
       "                               ('SVC', LinearSVC()), ('NB', GaussianNB())],\n",
       "                   final_estimator=DecisionTreeClassifier())"
      ]
     },
     "execution_count": 63,
     "metadata": {},
     "output_type": "execute_result"
    }
   ],
   "source": [
    "# Base Models selection and evaluation\n",
    "input_models = {'DT':model_DT, 'LogReg':model_LR, 'SVC':model_SVC, 'NB':model_NB}\n",
    "stacked_DT1 = get_stackingDT(input_models)\n",
    "stacked_DT1"
   ]
  },
  {
   "cell_type": "code",
   "execution_count": 64,
   "metadata": {},
   "outputs": [
    {
     "name": "stdout",
     "output_type": "stream",
     "text": [
      "\n",
      "StackingClassifier(cv=5,\n",
      "                   estimators=[('DT', DecisionTreeClassifier()),\n",
      "                               ('LogReg', LogisticRegression()),\n",
      "                               ('SVC', LinearSVC()), ('NB', GaussianNB())],\n",
      "                   final_estimator=DecisionTreeClassifier()) Accuracy:  0.981 (0.014)\n",
      "Wall time: 3min 42s\n"
     ]
    }
   ],
   "source": [
    "%%time\n",
    "scores = evaluate_model(stacked_DT1, X, y)\n",
    "\n",
    "print('\\n%s Accuracy:  %.3f (%.3f)' % (stacked_DT1, mean(scores), std(scores)))"
   ]
  },
  {
   "cell_type": "markdown",
   "metadata": {},
   "source": [
    "### Iteration 7 for Stacked Model: lv0: (DT, LogReg, SVC) and lv1: DT"
   ]
  },
  {
   "cell_type": "code",
   "execution_count": 65,
   "metadata": {},
   "outputs": [
    {
     "data": {
      "text/plain": [
       "StackingClassifier(cv=5,\n",
       "                   estimators=[('DT', DecisionTreeClassifier()),\n",
       "                               ('LogReg', LogisticRegression()),\n",
       "                               ('SVC', LinearSVC())],\n",
       "                   final_estimator=DecisionTreeClassifier())"
      ]
     },
     "execution_count": 65,
     "metadata": {},
     "output_type": "execute_result"
    }
   ],
   "source": [
    "# Base Models selection and evaluation\n",
    "input_models = {'DT':model_DT, 'LogReg':model_LR, 'SVC':model_SVC}\n",
    "stacked_DT2 = get_stackingDT(input_models)\n",
    "stacked_DT2"
   ]
  },
  {
   "cell_type": "code",
   "execution_count": 66,
   "metadata": {},
   "outputs": [
    {
     "name": "stdout",
     "output_type": "stream",
     "text": [
      "\n",
      "StackingClassifier(cv=5,\n",
      "                   estimators=[('DT', DecisionTreeClassifier()),\n",
      "                               ('LogReg', LogisticRegression()),\n",
      "                               ('SVC', LinearSVC())],\n",
      "                   final_estimator=DecisionTreeClassifier()) Accuracy:  0.984 (0.003)\n",
      "Wall time: 3min 44s\n"
     ]
    }
   ],
   "source": [
    "%%time\n",
    "scores = evaluate_model(stacked_DT2, X, y)\n",
    "\n",
    "print('\\n%s Accuracy:  %.3f (%.3f)' % (stacked_DT2, mean(scores), std(scores)))"
   ]
  },
  {
   "cell_type": "markdown",
   "metadata": {},
   "source": [
    "### Iteration 8 for Stacked Model: lv0: (DT, LogReg) and lv1: DT"
   ]
  },
  {
   "cell_type": "code",
   "execution_count": 101,
   "metadata": {},
   "outputs": [
    {
     "data": {
      "text/plain": [
       "StackingClassifier(cv=5,\n",
       "                   estimators=[('DT', DecisionTreeClassifier()),\n",
       "                               ('LogReg', LogisticRegression())],\n",
       "                   final_estimator=DecisionTreeClassifier())"
      ]
     },
     "execution_count": 101,
     "metadata": {},
     "output_type": "execute_result"
    }
   ],
   "source": [
    "# Base Models selection and evaluation\n",
    "input_models = {'DT':model_DT, 'LogReg':model_LR}\n",
    "stacked_DT3 = get_stackingDT(input_models)\n",
    "stacked_DT3"
   ]
  },
  {
   "cell_type": "code",
   "execution_count": 102,
   "metadata": {
    "scrolled": true
   },
   "outputs": [
    {
     "name": "stdout",
     "output_type": "stream",
     "text": [
      "\n",
      "StackingClassifier(cv=5,\n",
      "                   estimators=[('DT', DecisionTreeClassifier()),\n",
      "                               ('LogReg', LogisticRegression())],\n",
      "                   final_estimator=DecisionTreeClassifier()) Accuracy:  0.98581 (0.002)\n",
      "Wall time: 7.04 s\n"
     ]
    }
   ],
   "source": [
    "%%time\n",
    "scores = evaluate_model(stacked_DT3, X, y)\n",
    "\n",
    "print('\\n%s Accuracy:  %.5f (%.3f)' % (stacked_DT3, mean(scores), std(scores)))"
   ]
  },
  {
   "cell_type": "markdown",
   "metadata": {},
   "source": [
    "### Iteration 9 for Stacked Model: lv0: (SVC, LogReg) and lv1: DT"
   ]
  },
  {
   "cell_type": "code",
   "execution_count": 70,
   "metadata": {},
   "outputs": [
    {
     "data": {
      "text/plain": [
       "StackingClassifier(cv=5,\n",
       "                   estimators=[('SVC', LinearSVC()),\n",
       "                               ('LogReg', LogisticRegression())],\n",
       "                   final_estimator=DecisionTreeClassifier())"
      ]
     },
     "execution_count": 70,
     "metadata": {},
     "output_type": "execute_result"
    }
   ],
   "source": [
    "# Base Models selection and evaluation\n",
    "input_models = {'SVC':model_SVC, 'LogReg':model_LR}\n",
    "stacked_DT4 = get_stackingDT(input_models)\n",
    "stacked_DT4"
   ]
  },
  {
   "cell_type": "code",
   "execution_count": 71,
   "metadata": {
    "scrolled": true
   },
   "outputs": [
    {
     "name": "stdout",
     "output_type": "stream",
     "text": [
      "\n",
      "StackingClassifier(cv=5,\n",
      "                   estimators=[('SVC', LinearSVC()),\n",
      "                               ('LogReg', LogisticRegression())],\n",
      "                   final_estimator=DecisionTreeClassifier()) Accuracy:  0.98090 (0.011)\n",
      "Wall time: 3min 38s\n"
     ]
    }
   ],
   "source": [
    "%%time\n",
    "scores = evaluate_model(stacked_DT4, X, y)\n",
    "\n",
    "print('\\n%s Accuracy:  %.5f (%.3f)' % (stacked_DT4, mean(scores), std(scores)))"
   ]
  },
  {
   "cell_type": "markdown",
   "metadata": {},
   "source": [
    "### Iteration 10 for Stacked Model: lv0: (DT, LogReg, SVC, NB) and lv1: SVC"
   ]
  },
  {
   "cell_type": "code",
   "execution_count": 72,
   "metadata": {},
   "outputs": [],
   "source": [
    "# get a stacking ensemble of models lv1 : SVC\n",
    "def get_stackingSVC(my_models_lv0):\n",
    "    \n",
    "    # define the base models\n",
    "\n",
    "    level0 = list(my_models_lv0.items())\n",
    "\n",
    "    # define meta learner model\n",
    "    level1 = SVC()\n",
    "    # define the stacking ensemble\n",
    "    model = StackingClassifier(estimators=level0, final_estimator=level1, cv=5)\n",
    "    return model\n",
    " \n",
    "# evaluate a give model using cross-validation\n",
    "def evaluate_model(model, X, y):\n",
    "    cv = RepeatedStratifiedKFold(n_splits=5, n_repeats=3, random_state=21)\n",
    "    scores = cross_val_score(model, X, y, scoring='accuracy', cv=cv, n_jobs=-1, error_score='raise')\n",
    "    return scores\n",
    " "
   ]
  },
  {
   "cell_type": "code",
   "execution_count": 73,
   "metadata": {},
   "outputs": [
    {
     "data": {
      "text/plain": [
       "StackingClassifier(cv=5,\n",
       "                   estimators=[('DT', DecisionTreeClassifier()),\n",
       "                               ('LogReg', LogisticRegression()),\n",
       "                               ('SVC', LinearSVC()), ('NB', GaussianNB())],\n",
       "                   final_estimator=LinearSVC())"
      ]
     },
     "execution_count": 73,
     "metadata": {},
     "output_type": "execute_result"
    }
   ],
   "source": [
    "# Base Models selection and evaluation\n",
    "input_models = {'DT':model_DT, 'LogReg':model_LR, 'SVC':model_SVC, 'NB':model_NB}\n",
    "stacked_SVC1 = get_stackingSVC(input_models)\n",
    "stacked_SVC1"
   ]
  },
  {
   "cell_type": "code",
   "execution_count": 74,
   "metadata": {},
   "outputs": [
    {
     "name": "stdout",
     "output_type": "stream",
     "text": [
      "\n",
      "StackingClassifier(cv=5,\n",
      "                   estimators=[('DT', DecisionTreeClassifier()),\n",
      "                               ('LogReg', LogisticRegression()),\n",
      "                               ('SVC', LinearSVC()), ('NB', GaussianNB())],\n",
      "                   final_estimator=LinearSVC()) Accuracy:  0.99517 (0.000)\n",
      "Wall time: 3min 44s\n"
     ]
    }
   ],
   "source": [
    "%%time\n",
    "scores = evaluate_model(stacked_SVC1, X, y)\n",
    "\n",
    "print('\\n%s Accuracy:  %.5f (%.3f)' % (stacked_SVC1, mean(scores), std(scores)))"
   ]
  },
  {
   "cell_type": "markdown",
   "metadata": {
    "execution": {
     "iopub.execute_input": "2022-04-19T05:05:43.163654Z",
     "iopub.status.busy": "2022-04-19T05:05:43.163279Z",
     "iopub.status.idle": "2022-04-19T05:05:43.169784Z",
     "shell.execute_reply": "2022-04-19T05:05:43.168774Z",
     "shell.execute_reply.started": "2022-04-19T05:05:43.163612Z"
    }
   },
   "source": [
    "Completing this step enables us to evaluate each of the models here in terms of compexity, time and accuracy. Model-Building ends here."
   ]
  },
  {
   "cell_type": "code",
   "execution_count": null,
   "metadata": {},
   "outputs": [],
   "source": []
  }
 ],
 "metadata": {
  "kernelspec": {
   "display_name": "Python 3",
   "language": "python",
   "name": "python3"
  },
  "language_info": {
   "codemirror_mode": {
    "name": "ipython",
    "version": 3
   },
   "file_extension": ".py",
   "mimetype": "text/x-python",
   "name": "python",
   "nbconvert_exporter": "python",
   "pygments_lexer": "ipython3",
   "version": "3.8.5"
  }
 },
 "nbformat": 4,
 "nbformat_minor": 4
}
